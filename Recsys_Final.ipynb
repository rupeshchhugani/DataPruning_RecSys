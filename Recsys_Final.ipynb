{
  "cells": [
    {
      "cell_type": "markdown",
      "metadata": {
        "id": "Va_c8RGkLucV"
      },
      "source": [
        "### Importing libraries"
      ]
    },
    {
      "cell_type": "code",
      "execution_count": 1364,
      "metadata": {
        "colab": {
          "base_uri": "https://localhost:8080/"
        },
        "id": "qMdxM3_V-G4e",
        "outputId": "bae549dc-b3d0-46e5-dc1a-a6ca3f413f1d"
      },
      "outputs": [
        {
          "name": "stdout",
          "output_type": "stream",
          "text": [
            "Collecting git+https://github.com/gbolmier/funk-svd\n",
            "  Cloning https://github.com/gbolmier/funk-svd to /private/var/folders/dx/3vxbz5s15v9d6d9kx6cr_0ph0000gn/T/pip-req-build-d_84ggfj\n",
            "  Running command git clone --filter=blob:none --quiet https://github.com/gbolmier/funk-svd /private/var/folders/dx/3vxbz5s15v9d6d9kx6cr_0ph0000gn/T/pip-req-build-d_84ggfj\n",
            "  Resolved https://github.com/gbolmier/funk-svd to commit fecc38ea1c2859ef6a6d9af0b7f953e1b693764e\n",
            "  Preparing metadata (setup.py) ... \u001b[?25ldone\n",
            "\u001b[?25hRequirement already satisfied: numba>=0.38.0 in /Users/rupeshkumarchhugani/opt/miniconda3/envs/low/lib/python3.9/site-packages (from funk-svd==0.0.1.dev1) (0.55.1)\n",
            "Requirement already satisfied: numpy>=1.14.3 in /Users/rupeshkumarchhugani/opt/miniconda3/envs/low/lib/python3.9/site-packages (from funk-svd==0.0.1.dev1) (1.21.5)\n",
            "Requirement already satisfied: pandas>=0.23.0 in /Users/rupeshkumarchhugani/opt/miniconda3/envs/low/lib/python3.9/site-packages (from funk-svd==0.0.1.dev1) (1.4.4)\n",
            "Requirement already satisfied: setuptools in /Users/rupeshkumarchhugani/opt/miniconda3/envs/low/lib/python3.9/site-packages (from numba>=0.38.0->funk-svd==0.0.1.dev1) (63.4.1)\n",
            "Requirement already satisfied: llvmlite<0.39,>=0.38.0rc1 in /Users/rupeshkumarchhugani/opt/miniconda3/envs/low/lib/python3.9/site-packages (from numba>=0.38.0->funk-svd==0.0.1.dev1) (0.38.0)\n",
            "Requirement already satisfied: python-dateutil>=2.8.1 in /Users/rupeshkumarchhugani/opt/miniconda3/envs/low/lib/python3.9/site-packages (from pandas>=0.23.0->funk-svd==0.0.1.dev1) (2.8.2)\n",
            "Requirement already satisfied: pytz>=2020.1 in /Users/rupeshkumarchhugani/opt/miniconda3/envs/low/lib/python3.9/site-packages (from pandas>=0.23.0->funk-svd==0.0.1.dev1) (2022.1)\n",
            "Requirement already satisfied: six>=1.5 in /Users/rupeshkumarchhugani/opt/miniconda3/envs/low/lib/python3.9/site-packages (from python-dateutil>=2.8.1->pandas>=0.23.0->funk-svd==0.0.1.dev1) (1.16.0)\n"
          ]
        }
      ],
      "source": [
        "!pip install git+https://github.com/gbolmier/funk-svd "
      ]
    },
    {
      "cell_type": "code",
      "execution_count": 1660,
      "metadata": {
        "id": "ZwU97RZuL0wI"
      },
      "outputs": [],
      "source": [
        "import numpy as np\n",
        "import random\n",
        "import pandas as pd\n",
        "from matplotlib.patches import Patch\n",
        "from matplotlib.lines import Line2D\n",
        "import matplotlib.pyplot as plt\n",
        "import textwrap as twp\n",
        "from funk_svd import SVD \n",
        "from xgboost import XGBRegressor\n",
        "from sklearn.metrics import mean_absolute_error, mean_squared_error\n",
        "from sklearn.ensemble import RandomForestRegressor\n",
        "import time"
      ]
    },
    {
      "attachments": {},
      "cell_type": "markdown",
      "metadata": {},
      "source": [
        "### Importing Data"
      ]
    },
    {
      "cell_type": "code",
      "execution_count": 1366,
      "metadata": {
        "colab": {
          "base_uri": "https://localhost:8080/",
          "height": 206
        },
        "id": "6kLOG77uL_pX",
        "outputId": "556bbe88-f089-4caf-8c88-df9ae1686c9d"
      },
      "outputs": [
        {
          "data": {
            "text/html": [
              "<div>\n",
              "<style scoped>\n",
              "    .dataframe tbody tr th:only-of-type {\n",
              "        vertical-align: middle;\n",
              "    }\n",
              "\n",
              "    .dataframe tbody tr th {\n",
              "        vertical-align: top;\n",
              "    }\n",
              "\n",
              "    .dataframe thead th {\n",
              "        text-align: right;\n",
              "    }\n",
              "</style>\n",
              "<table border=\"1\" class=\"dataframe\">\n",
              "  <thead>\n",
              "    <tr style=\"text-align: right;\">\n",
              "      <th></th>\n",
              "      <th>u_id</th>\n",
              "      <th>i_id</th>\n",
              "      <th>rating</th>\n",
              "      <th>timestamp</th>\n",
              "    </tr>\n",
              "  </thead>\n",
              "  <tbody>\n",
              "    <tr>\n",
              "      <th>3</th>\n",
              "      <td>196</td>\n",
              "      <td>242</td>\n",
              "      <td>3</td>\n",
              "      <td>881250949</td>\n",
              "    </tr>\n",
              "    <tr>\n",
              "      <th>4</th>\n",
              "      <td>186</td>\n",
              "      <td>302</td>\n",
              "      <td>3</td>\n",
              "      <td>891717742</td>\n",
              "    </tr>\n",
              "    <tr>\n",
              "      <th>5</th>\n",
              "      <td>22</td>\n",
              "      <td>377</td>\n",
              "      <td>1</td>\n",
              "      <td>878887116</td>\n",
              "    </tr>\n",
              "    <tr>\n",
              "      <th>6</th>\n",
              "      <td>244</td>\n",
              "      <td>51</td>\n",
              "      <td>2</td>\n",
              "      <td>880606923</td>\n",
              "    </tr>\n",
              "    <tr>\n",
              "      <th>7</th>\n",
              "      <td>166</td>\n",
              "      <td>346</td>\n",
              "      <td>1</td>\n",
              "      <td>886397596</td>\n",
              "    </tr>\n",
              "  </tbody>\n",
              "</table>\n",
              "</div>"
            ],
            "text/plain": [
              "   u_id  i_id  rating  timestamp\n",
              "3   196   242       3  881250949\n",
              "4   186   302       3  891717742\n",
              "5    22   377       1  878887116\n",
              "6   244    51       2  880606923\n",
              "7   166   346       1  886397596"
            ]
          },
          "execution_count": 1366,
          "metadata": {},
          "output_type": "execute_result"
        }
      ],
      "source": [
        "column_names = ['u_id', 'i_id', 'rating', 'timestamp']\n",
        "ml100k = pd.read_csv('u.data', sep='\\t', names=column_names)\n",
        "ml100k.drop(ml100k[(ml100k['u_id'] == 0)].index, inplace=True)\n",
        "ml100k.head()"
      ]
    },
    {
      "cell_type": "code",
      "execution_count": 1367,
      "metadata": {
        "colab": {
          "base_uri": "https://localhost:8080/",
          "height": 424
        },
        "id": "1FpOshzVzLJs",
        "outputId": "19eb5778-96f8-4e23-fdcb-4908005cc0c0"
      },
      "outputs": [
        {
          "data": {
            "text/html": [
              "<div>\n",
              "<style scoped>\n",
              "    .dataframe tbody tr th:only-of-type {\n",
              "        vertical-align: middle;\n",
              "    }\n",
              "\n",
              "    .dataframe tbody tr th {\n",
              "        vertical-align: top;\n",
              "    }\n",
              "\n",
              "    .dataframe thead th {\n",
              "        text-align: right;\n",
              "    }\n",
              "</style>\n",
              "<table border=\"1\" class=\"dataframe\">\n",
              "  <thead>\n",
              "    <tr style=\"text-align: right;\">\n",
              "      <th></th>\n",
              "      <th>u_id</th>\n",
              "      <th>Age</th>\n",
              "      <th>Gender</th>\n",
              "      <th>Occupation</th>\n",
              "      <th>zip_code</th>\n",
              "    </tr>\n",
              "  </thead>\n",
              "  <tbody>\n",
              "    <tr>\n",
              "      <th>0</th>\n",
              "      <td>1</td>\n",
              "      <td>24</td>\n",
              "      <td>M</td>\n",
              "      <td>technician</td>\n",
              "      <td>85711</td>\n",
              "    </tr>\n",
              "    <tr>\n",
              "      <th>1</th>\n",
              "      <td>2</td>\n",
              "      <td>53</td>\n",
              "      <td>F</td>\n",
              "      <td>other</td>\n",
              "      <td>94043</td>\n",
              "    </tr>\n",
              "    <tr>\n",
              "      <th>2</th>\n",
              "      <td>3</td>\n",
              "      <td>23</td>\n",
              "      <td>M</td>\n",
              "      <td>writer</td>\n",
              "      <td>32067</td>\n",
              "    </tr>\n",
              "    <tr>\n",
              "      <th>3</th>\n",
              "      <td>4</td>\n",
              "      <td>24</td>\n",
              "      <td>M</td>\n",
              "      <td>technician</td>\n",
              "      <td>43537</td>\n",
              "    </tr>\n",
              "    <tr>\n",
              "      <th>4</th>\n",
              "      <td>5</td>\n",
              "      <td>33</td>\n",
              "      <td>F</td>\n",
              "      <td>other</td>\n",
              "      <td>15213</td>\n",
              "    </tr>\n",
              "    <tr>\n",
              "      <th>...</th>\n",
              "      <td>...</td>\n",
              "      <td>...</td>\n",
              "      <td>...</td>\n",
              "      <td>...</td>\n",
              "      <td>...</td>\n",
              "    </tr>\n",
              "    <tr>\n",
              "      <th>938</th>\n",
              "      <td>939</td>\n",
              "      <td>26</td>\n",
              "      <td>F</td>\n",
              "      <td>student</td>\n",
              "      <td>33319</td>\n",
              "    </tr>\n",
              "    <tr>\n",
              "      <th>939</th>\n",
              "      <td>940</td>\n",
              "      <td>32</td>\n",
              "      <td>M</td>\n",
              "      <td>administrator</td>\n",
              "      <td>02215</td>\n",
              "    </tr>\n",
              "    <tr>\n",
              "      <th>940</th>\n",
              "      <td>941</td>\n",
              "      <td>20</td>\n",
              "      <td>M</td>\n",
              "      <td>student</td>\n",
              "      <td>97229</td>\n",
              "    </tr>\n",
              "    <tr>\n",
              "      <th>941</th>\n",
              "      <td>942</td>\n",
              "      <td>48</td>\n",
              "      <td>F</td>\n",
              "      <td>librarian</td>\n",
              "      <td>78209</td>\n",
              "    </tr>\n",
              "    <tr>\n",
              "      <th>942</th>\n",
              "      <td>943</td>\n",
              "      <td>22</td>\n",
              "      <td>M</td>\n",
              "      <td>student</td>\n",
              "      <td>77841</td>\n",
              "    </tr>\n",
              "  </tbody>\n",
              "</table>\n",
              "<p>943 rows × 5 columns</p>\n",
              "</div>"
            ],
            "text/plain": [
              "     u_id  Age Gender     Occupation zip_code\n",
              "0       1   24      M     technician    85711\n",
              "1       2   53      F          other    94043\n",
              "2       3   23      M         writer    32067\n",
              "3       4   24      M     technician    43537\n",
              "4       5   33      F          other    15213\n",
              "..    ...  ...    ...            ...      ...\n",
              "938   939   26      F        student    33319\n",
              "939   940   32      M  administrator    02215\n",
              "940   941   20      M        student    97229\n",
              "941   942   48      F      librarian    78209\n",
              "942   943   22      M        student    77841\n",
              "\n",
              "[943 rows x 5 columns]"
            ]
          },
          "execution_count": 1367,
          "metadata": {},
          "output_type": "execute_result"
        }
      ],
      "source": [
        "column_names = ['u_id','Age','Gender','Occupation','zip_code']\n",
        "user_data = pd.read_csv('u.user', sep = '|', names = column_names) \n",
        "user_data "
      ]
    },
    {
      "cell_type": "markdown",
      "metadata": {
        "id": "54Ug6Dnzii3Q"
      },
      "source": [
        "### Splitting data into train, valid and test set"
      ]
    },
    {
      "cell_type": "code",
      "execution_count": 1368,
      "metadata": {
        "id": "ychc37k534kj"
      },
      "outputs": [],
      "source": [
        "X = ml100k.drop(['rating'], axis = 1)"
      ]
    },
    {
      "cell_type": "code",
      "execution_count": 1369,
      "metadata": {
        "id": "W3_e477m34vk"
      },
      "outputs": [],
      "source": [
        "y = ml100k['rating']"
      ]
    },
    {
      "cell_type": "code",
      "execution_count": 1370,
      "metadata": {
        "id": "-TDwramIr2ph"
      },
      "outputs": [],
      "source": [
        "# train_test_split\n",
        "from sklearn.model_selection import train_test_split\n",
        "train_ratio = 0.75\n",
        "validation_ratio = 0.15 \n",
        "test_ratio = 0.10\n",
        "\n",
        "# train set is 90% of the entire dataset\n",
        "    # Out of train set, 15% is validation set\n",
        "    # Out of train set, 75% is used for actual training\n",
        "# test set is 10% of the entire dataset\n",
        "\n",
        "X_train, X_test, y_train, y_test = train_test_split(X, y, test_size = test_ratio)\n",
        "X_train ,X_val,y_train, y_val = train_test_split(X_train, y_train, test_size = validation_ratio) \n"
      ]
    },
    {
      "cell_type": "code",
      "execution_count": 1371,
      "metadata": {
        "colab": {
          "base_uri": "https://localhost:8080/",
          "height": 206
        },
        "id": "ICfALt9CIBKp",
        "outputId": "bf36e412-3412-4904-8999-6547b8c3fed1"
      },
      "outputs": [
        {
          "data": {
            "text/html": [
              "<div>\n",
              "<style scoped>\n",
              "    .dataframe tbody tr th:only-of-type {\n",
              "        vertical-align: middle;\n",
              "    }\n",
              "\n",
              "    .dataframe tbody tr th {\n",
              "        vertical-align: top;\n",
              "    }\n",
              "\n",
              "    .dataframe thead th {\n",
              "        text-align: right;\n",
              "    }\n",
              "</style>\n",
              "<table border=\"1\" class=\"dataframe\">\n",
              "  <thead>\n",
              "    <tr style=\"text-align: right;\">\n",
              "      <th></th>\n",
              "      <th>u_id</th>\n",
              "      <th>i_id</th>\n",
              "      <th>timestamp</th>\n",
              "      <th>rating</th>\n",
              "    </tr>\n",
              "  </thead>\n",
              "  <tbody>\n",
              "    <tr>\n",
              "      <th>77566</th>\n",
              "      <td>442</td>\n",
              "      <td>1170</td>\n",
              "      <td>883388909</td>\n",
              "      <td>4</td>\n",
              "    </tr>\n",
              "    <tr>\n",
              "      <th>62093</th>\n",
              "      <td>385</td>\n",
              "      <td>1014</td>\n",
              "      <td>879450441</td>\n",
              "      <td>2</td>\n",
              "    </tr>\n",
              "    <tr>\n",
              "      <th>71888</th>\n",
              "      <td>535</td>\n",
              "      <td>566</td>\n",
              "      <td>879618338</td>\n",
              "      <td>3</td>\n",
              "    </tr>\n",
              "    <tr>\n",
              "      <th>74693</th>\n",
              "      <td>868</td>\n",
              "      <td>227</td>\n",
              "      <td>877110060</td>\n",
              "      <td>1</td>\n",
              "    </tr>\n",
              "    <tr>\n",
              "      <th>62764</th>\n",
              "      <td>536</td>\n",
              "      <td>179</td>\n",
              "      <td>882359625</td>\n",
              "      <td>2</td>\n",
              "    </tr>\n",
              "  </tbody>\n",
              "</table>\n",
              "</div>"
            ],
            "text/plain": [
              "       u_id  i_id  timestamp  rating\n",
              "77566   442  1170  883388909       4\n",
              "62093   385  1014  879450441       2\n",
              "71888   535   566  879618338       3\n",
              "74693   868   227  877110060       1\n",
              "62764   536   179  882359625       2"
            ]
          },
          "execution_count": 1371,
          "metadata": {},
          "output_type": "execute_result"
        }
      ],
      "source": [
        "# concatinating X_train and y_train for training on SVD\n",
        "X_train_svd = pd.concat([X_train, y_train], axis = 1)\n",
        "X_train_svd.head()"
      ]
    },
    {
      "cell_type": "code",
      "execution_count": 1372,
      "metadata": {
        "colab": {
          "base_uri": "https://localhost:8080/",
          "height": 206
        },
        "id": "h8sKQWjIIBVW",
        "outputId": "86144532-fa8a-494c-dab6-72d7c3768990"
      },
      "outputs": [
        {
          "data": {
            "text/html": [
              "<div>\n",
              "<style scoped>\n",
              "    .dataframe tbody tr th:only-of-type {\n",
              "        vertical-align: middle;\n",
              "    }\n",
              "\n",
              "    .dataframe tbody tr th {\n",
              "        vertical-align: top;\n",
              "    }\n",
              "\n",
              "    .dataframe thead th {\n",
              "        text-align: right;\n",
              "    }\n",
              "</style>\n",
              "<table border=\"1\" class=\"dataframe\">\n",
              "  <thead>\n",
              "    <tr style=\"text-align: right;\">\n",
              "      <th></th>\n",
              "      <th>u_id</th>\n",
              "      <th>i_id</th>\n",
              "      <th>timestamp</th>\n",
              "      <th>rating</th>\n",
              "    </tr>\n",
              "  </thead>\n",
              "  <tbody>\n",
              "    <tr>\n",
              "      <th>17327</th>\n",
              "      <td>293</td>\n",
              "      <td>280</td>\n",
              "      <td>888905198</td>\n",
              "      <td>2</td>\n",
              "    </tr>\n",
              "    <tr>\n",
              "      <th>91296</th>\n",
              "      <td>261</td>\n",
              "      <td>596</td>\n",
              "      <td>890456142</td>\n",
              "      <td>2</td>\n",
              "    </tr>\n",
              "    <tr>\n",
              "      <th>37468</th>\n",
              "      <td>190</td>\n",
              "      <td>544</td>\n",
              "      <td>891033806</td>\n",
              "      <td>4</td>\n",
              "    </tr>\n",
              "    <tr>\n",
              "      <th>329</th>\n",
              "      <td>200</td>\n",
              "      <td>304</td>\n",
              "      <td>876041644</td>\n",
              "      <td>5</td>\n",
              "    </tr>\n",
              "    <tr>\n",
              "      <th>2013</th>\n",
              "      <td>177</td>\n",
              "      <td>56</td>\n",
              "      <td>880130618</td>\n",
              "      <td>5</td>\n",
              "    </tr>\n",
              "  </tbody>\n",
              "</table>\n",
              "</div>"
            ],
            "text/plain": [
              "       u_id  i_id  timestamp  rating\n",
              "17327   293   280  888905198       2\n",
              "91296   261   596  890456142       2\n",
              "37468   190   544  891033806       4\n",
              "329     200   304  876041644       5\n",
              "2013    177    56  880130618       5"
            ]
          },
          "execution_count": 1372,
          "metadata": {},
          "output_type": "execute_result"
        }
      ],
      "source": [
        "# concatinating X_val and Y_val for validating\n",
        "X_val_svd = pd.concat([X_val, y_val], axis = 1) \n",
        "X_val_svd.head() "
      ]
    },
    {
      "attachments": {},
      "cell_type": "markdown",
      "metadata": {},
      "source": [
        "### Model One (M1) - Entirely unpruned dataset"
      ]
    },
    {
      "attachments": {},
      "cell_type": "markdown",
      "metadata": {
        "id": "9uQ_tcmji_Ew"
      },
      "source": [
        "#### Funk SVD - M1"
      ]
    },
    {
      "cell_type": "code",
      "execution_count": 1373,
      "metadata": {
        "colab": {
          "base_uri": "https://localhost:8080/"
        },
        "id": "rfnKaoDSOlaa",
        "outputId": "3aeddf10-6876-4f9f-c373-a3d81ffda6b2"
      },
      "outputs": [
        {
          "name": "stdout",
          "output_type": "stream",
          "text": [
            "Preprocessing data...\n",
            "\n",
            "Preprocessing data...\n",
            "\n",
            "Epoch 1/150  | val_loss: 1.19 - val_rmse: 1.09 - val_mae: 0.91 - took 0.0 sec\n",
            "Epoch 2/150  | val_loss: 1.13 - val_rmse: 1.06 - val_mae: 0.88 - took 0.0 sec\n",
            "Epoch 3/150  | val_loss: 1.08 - val_rmse: 1.04 - val_mae: 0.86 - took 0.0 sec\n",
            "Epoch 4/150  | val_loss: 1.06 - val_rmse: 1.03 - val_mae: 0.84 - took 0.0 sec\n",
            "Epoch 5/150  | val_loss: 1.03 - val_rmse: 1.02 - val_mae: 0.83 - took 0.0 sec\n",
            "Epoch 6/150  | val_loss: 1.02 - val_rmse: 1.01 - val_mae: 0.82 - took 0.0 sec\n",
            "Epoch 7/150  | val_loss: 1.01 - val_rmse: 1.00 - val_mae: 0.81 - took 0.0 sec\n",
            "Epoch 8/150  | val_loss: 0.99 - val_rmse: 1.00 - val_mae: 0.80 - took 0.0 sec\n",
            "Epoch 9/150  | val_loss: 0.99 - val_rmse: 0.99 - val_mae: 0.80 - took 0.0 sec\n",
            "Epoch 10/150 | val_loss: 0.98 - val_rmse: 0.99 - val_mae: 0.79 - took 0.0 sec\n",
            "Epoch 11/150 | val_loss: 0.97 - val_rmse: 0.99 - val_mae: 0.79 - took 0.0 sec\n",
            "Epoch 12/150 | val_loss: 0.97 - val_rmse: 0.98 - val_mae: 0.79 - took 0.0 sec\n",
            "Epoch 13/150 | val_loss: 0.96 - val_rmse: 0.98 - val_mae: 0.78 - took 0.0 sec\n",
            "Epoch 14/150 | val_loss: 0.96 - val_rmse: 0.98 - val_mae: 0.78 - took 0.0 sec\n",
            "Epoch 15/150 | val_loss: 0.96 - val_rmse: 0.98 - val_mae: 0.78 - took 0.0 sec\n",
            "Epoch 16/150 | val_loss: 0.95 - val_rmse: 0.98 - val_mae: 0.78 - took 0.0 sec\n",
            "Epoch 17/150 | val_loss: 0.95 - val_rmse: 0.97 - val_mae: 0.78 - took 0.0 sec\n",
            "Epoch 18/150 | val_loss: 0.95 - val_rmse: 0.97 - val_mae: 0.77 - took 0.0 sec\n",
            "Epoch 19/150 | val_loss: 0.94 - val_rmse: 0.97 - val_mae: 0.77 - took 0.0 sec\n",
            "Epoch 20/150 | val_loss: 0.94 - val_rmse: 0.97 - val_mae: 0.77 - took 0.0 sec\n",
            "Epoch 21/150 | val_loss: 0.94 - val_rmse: 0.97 - val_mae: 0.77 - took 0.0 sec\n",
            "\n",
            "Training took 0 sec\n",
            "Mae is 0.754 and Rmse is 0.949\n",
            "Training time is 0.1012 and Prediction time is 0.0261\n"
          ]
        }
      ],
      "source": [
        "def Svd(X_train, X_val, X_test, y_test): \n",
        " \n",
        "  svd = SVD(lr = 0.001, reg=0.005, n_epochs=150, n_factors=15, \n",
        "          early_stopping = True, shuffle = False, min_rating=1, max_rating=5)\n",
        "  start = time.time()\n",
        "  svd.fit(X = X_train, X_val = X_val)\n",
        "  svd_Ttime = round(time.time() - start,4)\n",
        "  start = time.time()\n",
        "  pred = svd.predict(X_test)\n",
        "  svd_Ptime = round(time.time() - start,4)\n",
        "  mae = round(mean_absolute_error(y_test, pred),4)\n",
        "  rmse = round(mean_squared_error(y_test, pred, squared = False),4)\n",
        "  print(f'Mae is {mae} and Rmse is {rmse}')\n",
        "  print(f'Training time is {svd_Ttime} and Prediction time is {svd_Ptime}')\n",
        "  return mae, rmse, svd_Ttime, svd_Ptime\n",
        "svd_mae_m1, svd_rmse_m1, tt_svd_m1, pt_svd_m1 = Svd(X_train_svd, X_val_svd, X_test, y_test) \n"
      ]
    },
    {
      "attachments": {},
      "cell_type": "markdown",
      "metadata": {
        "id": "fQ_evhKlJhp0"
      },
      "source": [
        "#### Xgboost - M1"
      ]
    },
    {
      "cell_type": "code",
      "execution_count": 1374,
      "metadata": {
        "colab": {
          "base_uri": "https://localhost:8080/"
        },
        "id": "6zoS1uqEPtSO",
        "outputId": "6233bf39-e159-4279-d857-b03c37c2dcc9"
      },
      "outputs": [
        {
          "name": "stdout",
          "output_type": "stream",
          "text": [
            "The mae is 0.7595 and rmse is 0.9535\n",
            "Training time is 2.2447 and Prediction time is 0.0074\n"
          ]
        }
      ],
      "source": [
        "def XgBoost(X_train, y_train, X_test, y_test):\n",
        "    xb = XGBRegressor()\n",
        "    start = time.time()\n",
        "    xb.fit(X_train, y_train)\n",
        "    xb_Ttime = round(time.time() - start,4)\n",
        "    start = time.time()\n",
        "    xb_pred = xb.predict(X_test)\n",
        "    xb_Ptime = round(time.time() - start,4) \n",
        "    xb_mae =  round(mean_absolute_error(y_test, xb_pred),4)\n",
        "    xb_rmse =  round(mean_squared_error(y_test, xb_pred, squared = False),4)\n",
        "    print(f'The mae is {xb_mae} and rmse is {xb_rmse}')\n",
        "    print(f'Training time is {xb_Ttime} and Prediction time is {xb_Ptime}')\n",
        "    return xb_mae, xb_rmse, xb_Ttime, xb_Ptime\n",
        "xb_mae_m1, xb_rmse_m1, tt_xb_m1, pt_xb_m1 = XgBoost(X_train, y_train, X_test, y_test)"
      ]
    },
    {
      "attachments": {},
      "cell_type": "markdown",
      "metadata": {
        "id": "zk05s6xJKk5w"
      },
      "source": [
        "#### Random Forest Regressor - M1"
      ]
    },
    {
      "cell_type": "code",
      "execution_count": 1375,
      "metadata": {
        "colab": {
          "base_uri": "https://localhost:8080/"
        },
        "id": "z0g01wQqQedh",
        "outputId": "bfe2f415-6773-4cc6-b610-300840709bd7"
      },
      "outputs": [
        {
          "name": "stdout",
          "output_type": "stream",
          "text": [
            "The mae is 0.8095 and rmse is 1.0379\n",
            "Training time is 42.5655 and Prediction time is 0.8843\n"
          ]
        }
      ],
      "source": [
        "def Random_Forest(X_train, y_train, X_test, y_test):\n",
        "    rf = RandomForestRegressor(n_estimators = 200)\n",
        "    start = time.time() \n",
        "    rf.fit(X_train, y_train)\n",
        "    rf_Ttime = round(time.time() - start,4)\n",
        "    start = time.time()\n",
        "    rf_pred = rf.predict(X_test)\n",
        "    rf_Ptime = round(time.time() - start,4) \n",
        "    rf_mae =  round(mean_absolute_error(y_test, rf_pred),4 )\n",
        "    rf_rmse =  round(mean_squared_error(y_test, rf_pred),4)\n",
        "    print(f'The mae is {rf_mae} and rmse is {rf_rmse}')\n",
        "    print(f'Training time is {rf_Ttime} and Prediction time is {rf_Ptime}')\n",
        "    return rf_mae, rf_rmse, rf_Ttime, rf_Ptime\n",
        "rf_mae_m1, rf_rmse_m1, tt_rf_m1, pt_rf_m1 = Random_Forest(X_train, y_train, X_test, y_test) "
      ]
    },
    {
      "attachments": {},
      "cell_type": "markdown",
      "metadata": {
        "id": "755zQtW7LaC5"
      },
      "source": [
        "### Model Two (M2) - Pruning on the basis of movie ratings"
      ]
    },
    {
      "attachments": {},
      "cell_type": "markdown",
      "metadata": {
        "id": "39aTsQvsMWml"
      },
      "source": [
        "#### Pruning all the movies whose ratings are less than 2 "
      ]
    },
    {
      "cell_type": "code",
      "execution_count": 1376,
      "metadata": {
        "id": "SPU-jHzeWUg0"
      },
      "outputs": [],
      "source": [
        "# for training set\n",
        "def ratings_less_than_n(X_set, y_set, n):\n",
        "    X_set_for_pruning = pd.concat([X_set, y_set], axis = 1) \n",
        "    X_set_pruned_ratings = X_set_for_pruning[X_set_for_pruning['rating'] > n]\n",
        "    y_set_pruned_ratings = X_set_pruned_ratings['rating'] \n",
        "    return X_set_pruned_ratings, y_set_pruned_ratings \n",
        "X_train_pruned_ratings,y_train_pruned_ratings = ratings_less_than_n(X_train, y_train, 2) "
      ]
    },
    {
      "cell_type": "code",
      "execution_count": 1377,
      "metadata": {
        "id": "ei5n1E6YBwrs"
      },
      "outputs": [],
      "source": [
        "# for validation set\n",
        "X_val_pruned_ratings,y_val_pruned_ratings = ratings_less_than_n(X_val, y_val, 2) "
      ]
    },
    {
      "attachments": {},
      "cell_type": "markdown",
      "metadata": {},
      "source": [
        "#### FunkSVD - M2"
      ]
    },
    {
      "cell_type": "code",
      "execution_count": 1378,
      "metadata": {
        "colab": {
          "base_uri": "https://localhost:8080/"
        },
        "id": "zyX3ZM0HYL9Z",
        "outputId": "3a981128-164e-4b61-a1fa-c4424705849e"
      },
      "outputs": [
        {
          "name": "stdout",
          "output_type": "stream",
          "text": [
            "Preprocessing data...\n",
            "\n",
            "Preprocessing data...\n",
            "\n",
            "Epoch 1/150  | val_loss: 0.56 - val_rmse: 0.75 - val_mae: 0.61 - took 0.0 sec\n",
            "Epoch 2/150  | val_loss: 0.55 - val_rmse: 0.74 - val_mae: 0.60 - took 0.0 sec\n",
            "Epoch 3/150  | val_loss: 0.53 - val_rmse: 0.73 - val_mae: 0.60 - took 0.0 sec\n",
            "Epoch 4/150  | val_loss: 0.52 - val_rmse: 0.72 - val_mae: 0.59 - took 0.0 sec\n",
            "Epoch 5/150  | val_loss: 0.51 - val_rmse: 0.72 - val_mae: 0.59 - took 0.0 sec\n",
            "Epoch 6/150  | val_loss: 0.51 - val_rmse: 0.71 - val_mae: 0.59 - took 0.0 sec\n",
            "Epoch 7/150  | val_loss: 0.50 - val_rmse: 0.71 - val_mae: 0.59 - took 0.0 sec\n",
            "Epoch 8/150  | val_loss: 0.50 - val_rmse: 0.70 - val_mae: 0.59 - took 0.0 sec\n",
            "Epoch 9/150  | val_loss: 0.49 - val_rmse: 0.70 - val_mae: 0.58 - took 0.0 sec\n",
            "Epoch 10/150 | val_loss: 0.49 - val_rmse: 0.70 - val_mae: 0.58 - took 0.0 sec\n",
            "Epoch 11/150 | val_loss: 0.49 - val_rmse: 0.70 - val_mae: 0.58 - took 0.0 sec\n",
            "Epoch 12/150 | val_loss: 0.49 - val_rmse: 0.70 - val_mae: 0.58 - took 0.0 sec\n",
            "Epoch 13/150 | val_loss: 0.48 - val_rmse: 0.70 - val_mae: 0.58 - took 0.0 sec\n",
            "Epoch 14/150 | val_loss: 0.48 - val_rmse: 0.69 - val_mae: 0.58 - took 0.0 sec\n",
            "Epoch 15/150 | val_loss: 0.48 - val_rmse: 0.69 - val_mae: 0.58 - took 0.0 sec\n",
            "Epoch 16/150 | val_loss: 0.48 - val_rmse: 0.69 - val_mae: 0.58 - took 0.0 sec\n",
            "\n",
            "Training took 0 sec\n",
            "Mae is 0.8329 and Rmse is 1.0998\n",
            "Training time is 0.0809 and Prediction time is 0.0262\n"
          ]
        }
      ],
      "source": [
        "svd_mae_m2, svd_rmse_m2, tt_svd_m2, pt_svd_m2 = Svd(X_train_pruned_ratings, X_val_pruned_ratings, X_test, y_test)  "
      ]
    },
    {
      "cell_type": "code",
      "execution_count": 1379,
      "metadata": {
        "id": "PHtzHgu2Gsmy"
      },
      "outputs": [],
      "source": [
        "X_train_pruned_ratings.drop(['rating'], axis = 1, inplace = True)"
      ]
    },
    {
      "attachments": {},
      "cell_type": "markdown",
      "metadata": {},
      "source": [
        "#### XgBoost - M2"
      ]
    },
    {
      "cell_type": "code",
      "execution_count": 1380,
      "metadata": {
        "colab": {
          "base_uri": "https://localhost:8080/"
        },
        "id": "jPZedzozYaqP",
        "outputId": "d6e3e8a4-051c-4f05-cf49-87d9e3980043"
      },
      "outputs": [
        {
          "name": "stdout",
          "output_type": "stream",
          "text": [
            "The mae is 0.8253 and rmse is 1.0851\n",
            "Training time is 2.1446 and Prediction time is 0.0076\n"
          ]
        }
      ],
      "source": [
        "xb_mae_m2, xb_rmse_m2, tt_xb_m2, pt_xb_m2 = XgBoost(X_train_pruned_ratings, y_train_pruned_ratings, X_test, y_test) "
      ]
    },
    {
      "attachments": {},
      "cell_type": "markdown",
      "metadata": {},
      "source": [
        "#### Random Forest Regressor - M2"
      ]
    },
    {
      "cell_type": "code",
      "execution_count": 1381,
      "metadata": {
        "colab": {
          "base_uri": "https://localhost:8080/"
        },
        "id": "Spr8UbacYat1",
        "outputId": "e7f6607d-8088-4b97-f10f-73117aa24ed7"
      },
      "outputs": [
        {
          "name": "stdout",
          "output_type": "stream",
          "text": [
            "The mae is 0.8577 and rmse is 1.2416\n",
            "Training time is 34.7856 and Prediction time is 0.6689\n"
          ]
        }
      ],
      "source": [
        "rf_mae_m2, rf_rmse_m2, tt_rf_m2, pt_rf_m2 = Random_Forest(X_train_pruned_ratings, y_train_pruned_ratings, X_test, y_test) "
      ]
    },
    {
      "attachments": {},
      "cell_type": "markdown",
      "metadata": {
        "id": "ToBk7rD8d-YH"
      },
      "source": [
        "### Random Pruning - M2"
      ]
    },
    {
      "cell_type": "code",
      "execution_count": 1382,
      "metadata": {
        "colab": {
          "base_uri": "https://localhost:8080/"
        },
        "id": "P_XcEsIQNjYD",
        "outputId": "1d8808db-c647-49d4-b808-800baca35aa7"
      },
      "outputs": [
        {
          "data": {
            "text/plain": [
              "13343"
            ]
          },
          "execution_count": 1382,
          "metadata": {},
          "output_type": "execute_result"
        }
      ],
      "source": [
        "def difference(X_before, X_after):\n",
        "  diff = X_before.shape[0] - X_after.shape[0] \n",
        "  return diff\n",
        "n_m2 = difference(X_train, X_train_pruned_ratings)\n",
        "n_m2"
      ]
    },
    {
      "cell_type": "code",
      "execution_count": 1383,
      "metadata": {
        "id": "SwuGIMcPd8Gd"
      },
      "outputs": [],
      "source": [
        "# n = number of rows to be pruned \n",
        "def random_pruning(X_set, y_set, n,s):\n",
        "    X_set2 = pd.concat([X_set, y_set], axis = 1) \n",
        "    np.random.seed(s) \n",
        "    drop_indices = np.random.choice(X_set2.index, n, replace=False)\n",
        "    X_train_randomly_pruned = X_set2.drop(drop_indices)\n",
        "    y_train_randomly_pruned = X_train_randomly_pruned['rating']\n",
        "    return X_train_randomly_pruned, y_train_randomly_pruned\n",
        "X_train_randomly_pruned2, y_train_randomly_pruned2 = random_pruning(X_train, y_train, n_m2,0)"
      ]
    },
    {
      "cell_type": "code",
      "execution_count": 1384,
      "metadata": {
        "colab": {
          "base_uri": "https://localhost:8080/"
        },
        "id": "srqYG4l2Nf2x",
        "outputId": "4c3d0cba-da0e-410b-95be-5142c48ee6c7"
      },
      "outputs": [
        {
          "data": {
            "text/plain": [
              "2409"
            ]
          },
          "execution_count": 1384,
          "metadata": {},
          "output_type": "execute_result"
        }
      ],
      "source": [
        "def difference(X_before, X_after):\n",
        "  diff = X_before.shape[0] - X_after.shape[0] \n",
        "  return diff\n",
        "n_v_m2 = difference(X_val, X_val_pruned_ratings)\n",
        "n_v_m2"
      ]
    },
    {
      "cell_type": "code",
      "execution_count": 1385,
      "metadata": {
        "id": "gChqRtZGEUYX"
      },
      "outputs": [],
      "source": [
        "# for validation set - we take n_v_m2 as we have pruned in above algorithm \n",
        "X_val_randomly_pruned2, y_val_randomly_pruned2 = random_pruning(X_val, y_val, n_v_m2,0) "
      ]
    },
    {
      "cell_type": "code",
      "execution_count": 1386,
      "metadata": {
        "colab": {
          "base_uri": "https://localhost:8080/"
        },
        "id": "C9t-b-IoOCSt",
        "outputId": "41868de3-0452-43df-9664-d102662a1d87"
      },
      "outputs": [
        {
          "data": {
            "text/plain": [
              "(11091, 4)"
            ]
          },
          "execution_count": 1386,
          "metadata": {},
          "output_type": "execute_result"
        }
      ],
      "source": [
        "X_val_randomly_pruned2.shape"
      ]
    },
    {
      "cell_type": "code",
      "execution_count": 1387,
      "metadata": {
        "colab": {
          "base_uri": "https://localhost:8080/"
        },
        "id": "PZHVetOaDiZA",
        "outputId": "af6c6931-ce2b-4542-fff4-301beaefd5c2"
      },
      "outputs": [
        {
          "name": "stdout",
          "output_type": "stream",
          "text": [
            "Preprocessing data...\n",
            "\n",
            "Preprocessing data...\n",
            "\n",
            "Epoch 1/150  | val_loss: 1.20 - val_rmse: 1.10 - val_mae: 0.92 - took 0.0 sec\n",
            "Epoch 2/150  | val_loss: 1.14 - val_rmse: 1.07 - val_mae: 0.89 - took 0.0 sec\n",
            "Epoch 3/150  | val_loss: 1.10 - val_rmse: 1.05 - val_mae: 0.87 - took 0.0 sec\n",
            "Epoch 4/150  | val_loss: 1.07 - val_rmse: 1.04 - val_mae: 0.85 - took 0.0 sec\n",
            "Epoch 5/150  | val_loss: 1.05 - val_rmse: 1.03 - val_mae: 0.84 - took 0.0 sec\n",
            "Epoch 6/150  | val_loss: 1.04 - val_rmse: 1.02 - val_mae: 0.83 - took 0.0 sec\n",
            "Epoch 7/150  | val_loss: 1.02 - val_rmse: 1.01 - val_mae: 0.82 - took 0.0 sec\n",
            "Epoch 8/150  | val_loss: 1.01 - val_rmse: 1.00 - val_mae: 0.81 - took 0.0 sec\n",
            "Epoch 9/150  | val_loss: 1.00 - val_rmse: 1.00 - val_mae: 0.81 - took 0.0 sec\n",
            "Epoch 10/150 | val_loss: 0.99 - val_rmse: 1.00 - val_mae: 0.80 - took 0.0 sec\n",
            "Epoch 11/150 | val_loss: 0.99 - val_rmse: 0.99 - val_mae: 0.80 - took 0.0 sec\n",
            "Epoch 12/150 | val_loss: 0.98 - val_rmse: 0.99 - val_mae: 0.79 - took 0.0 sec\n",
            "Epoch 13/150 | val_loss: 0.98 - val_rmse: 0.99 - val_mae: 0.79 - took 0.0 sec\n",
            "Epoch 14/150 | val_loss: 0.97 - val_rmse: 0.99 - val_mae: 0.79 - took 0.0 sec\n",
            "Epoch 15/150 | val_loss: 0.97 - val_rmse: 0.98 - val_mae: 0.78 - took 0.0 sec\n",
            "Epoch 16/150 | val_loss: 0.96 - val_rmse: 0.98 - val_mae: 0.78 - took 0.0 sec\n",
            "Epoch 17/150 | val_loss: 0.96 - val_rmse: 0.98 - val_mae: 0.78 - took 0.0 sec\n",
            "Epoch 18/150 | val_loss: 0.96 - val_rmse: 0.98 - val_mae: 0.78 - took 0.0 sec\n",
            "Epoch 19/150 | val_loss: 0.95 - val_rmse: 0.98 - val_mae: 0.78 - took 0.0 sec\n",
            "Epoch 20/150 | val_loss: 0.95 - val_rmse: 0.98 - val_mae: 0.78 - took 0.0 sec\n",
            "Epoch 21/150 | val_loss: 0.95 - val_rmse: 0.97 - val_mae: 0.78 - took 0.0 sec\n",
            "Epoch 22/150 | val_loss: 0.95 - val_rmse: 0.97 - val_mae: 0.77 - took 0.0 sec\n",
            "Epoch 23/150 | val_loss: 0.95 - val_rmse: 0.97 - val_mae: 0.77 - took 0.0 sec\n",
            "\n",
            "Training took 0 sec\n",
            "Mae is 0.7571 and Rmse is 0.9516\n",
            "Training time is 0.1084 and Prediction time is 0.0263\n"
          ]
        }
      ],
      "source": [
        "# SVD\n",
        "svd_mae_rp_m2, svd_rmse_rp_m2, tt_svd_rp_m2, pt_svd_rp_m2 = Svd(X_train_randomly_pruned2, X_val_randomly_pruned2, X_test, y_test)   "
      ]
    },
    {
      "cell_type": "code",
      "execution_count": 1388,
      "metadata": {
        "id": "EuH3GSd0GWX4"
      },
      "outputs": [],
      "source": [
        "X_train_randomly_pruned2.drop(['rating'], axis = 1, inplace = True)"
      ]
    },
    {
      "cell_type": "code",
      "execution_count": 1389,
      "metadata": {
        "colab": {
          "base_uri": "https://localhost:8080/"
        },
        "id": "ZVzRLN50Dice",
        "outputId": "0b52a7ae-c163-4d0e-d2b4-996985270452"
      },
      "outputs": [
        {
          "name": "stdout",
          "output_type": "stream",
          "text": [
            "The mae is 0.7615 and rmse is 0.9557\n",
            "Training time is 2.2407 and Prediction time is 0.0089\n"
          ]
        }
      ],
      "source": [
        "# XgBoost\n",
        "xb_mae_rp_m2, xb_rmse_rp_m2, tt_xb_rp_m2, pt_xb_rp_m2 = XgBoost(X_train_randomly_pruned2, y_train_randomly_pruned2, X_test, y_test)  "
      ]
    },
    {
      "cell_type": "code",
      "execution_count": 1390,
      "metadata": {
        "colab": {
          "base_uri": "https://localhost:8080/"
        },
        "id": "9YqFR9yCDilS",
        "outputId": "c28c52bd-00c1-4c73-fc2b-35c73b832aed"
      },
      "outputs": [
        {
          "name": "stdout",
          "output_type": "stream",
          "text": [
            "The mae is 0.8107 and rmse is 1.0389\n",
            "Training time is 34.7104 and Prediction time is 0.7064\n"
          ]
        }
      ],
      "source": [
        "# Random Forest Regressor\n",
        "rf_mae_rp_m2, rf_rmse_rp_m2, tt_rf_rp_m2, pt_rf_rp_m2 = Random_Forest(X_train_randomly_pruned2, y_train_randomly_pruned2, X_test, y_test)  "
      ]
    },
    {
      "attachments": {},
      "cell_type": "markdown",
      "metadata": {
        "id": "zMPOtxbeMfCm"
      },
      "source": [
        "#### Pruning all the movies whose ratings are less than 3"
      ]
    },
    {
      "cell_type": "code",
      "execution_count": 1391,
      "metadata": {
        "id": "VjRV4CTRHKoG"
      },
      "outputs": [],
      "source": [
        "# calling the function for pruning \n",
        "# training data \n",
        "X_train_pruned_ratings_3, y_train_pruned_ratings_3 = ratings_less_than_n(X_train, y_train, 3) "
      ]
    },
    {
      "cell_type": "code",
      "execution_count": 1392,
      "metadata": {
        "id": "3F38I7_0HK1p"
      },
      "outputs": [],
      "source": [
        "# validation data \n",
        "X_val_pruned_ratings_3, y_val_pruned_ratings_3 = ratings_less_than_n(X_val, y_val, 3)"
      ]
    },
    {
      "cell_type": "code",
      "execution_count": 1393,
      "metadata": {
        "colab": {
          "base_uri": "https://localhost:8080/"
        },
        "id": "K-LDGV6XQqgp",
        "outputId": "91602f2f-a363-4c3d-e4e2-beed0bee1aba"
      },
      "outputs": [
        {
          "name": "stdout",
          "output_type": "stream",
          "text": [
            "Preprocessing data...\n",
            "\n",
            "Preprocessing data...\n",
            "\n",
            "Epoch 1/150  | val_loss: 0.23 - val_rmse: 0.48 - val_mae: 0.47 - took 0.0 sec\n",
            "Epoch 2/150  | val_loss: 0.23 - val_rmse: 0.48 - val_mae: 0.46 - took 0.0 sec\n",
            "Epoch 3/150  | val_loss: 0.23 - val_rmse: 0.48 - val_mae: 0.46 - took 0.0 sec\n",
            "Epoch 4/150  | val_loss: 0.22 - val_rmse: 0.47 - val_mae: 0.46 - took 0.0 sec\n",
            "Epoch 5/150  | val_loss: 0.22 - val_rmse: 0.47 - val_mae: 0.45 - took 0.0 sec\n",
            "Epoch 6/150  | val_loss: 0.22 - val_rmse: 0.47 - val_mae: 0.45 - took 0.0 sec\n",
            "Epoch 7/150  | val_loss: 0.22 - val_rmse: 0.47 - val_mae: 0.45 - took 0.0 sec\n",
            "Epoch 8/150  | val_loss: 0.22 - val_rmse: 0.46 - val_mae: 0.44 - took 0.0 sec\n",
            "Epoch 9/150  | val_loss: 0.21 - val_rmse: 0.46 - val_mae: 0.44 - took 0.0 sec\n",
            "Epoch 10/150 | val_loss: 0.21 - val_rmse: 0.46 - val_mae: 0.44 - took 0.0 sec\n",
            "Epoch 11/150 | val_loss: 0.21 - val_rmse: 0.46 - val_mae: 0.44 - took 0.0 sec\n",
            "\n",
            "Training took 0 sec\n",
            "Mae is 1.0695 and Rmse is 1.3761\n",
            "Training time is 0.0536 and Prediction time is 0.0285\n"
          ]
        }
      ],
      "source": [
        "# SVD\n",
        "svd_mae_m2_3, svd_rmse_m2_3, tt_svd_m2_3, pt_svd_m2_3 = Svd(X_train_pruned_ratings_3, X_val_pruned_ratings_3, X_test, y_test) "
      ]
    },
    {
      "cell_type": "code",
      "execution_count": 1394,
      "metadata": {
        "id": "EyyP1YfXQzsR"
      },
      "outputs": [],
      "source": [
        "X_train_pruned_ratings_3.drop(['rating'], axis = 1, inplace = True) "
      ]
    },
    {
      "cell_type": "code",
      "execution_count": 1395,
      "metadata": {
        "colab": {
          "base_uri": "https://localhost:8080/"
        },
        "id": "GFZ5HVeZQzvh",
        "outputId": "a2ea956b-b2d9-4aca-dfe2-4582f5c7b5cb"
      },
      "outputs": [
        {
          "name": "stdout",
          "output_type": "stream",
          "text": [
            "The mae is 1.0374 and rmse is 1.3486\n",
            "Training time is 1.5381 and Prediction time is 0.0085\n"
          ]
        }
      ],
      "source": [
        "# XgBoost\n",
        "xb_mae_m2_3, xb_rmse_m2_3,tt_xb_m2_3, pt_xb_m2_3 = XgBoost(X_train_pruned_ratings_3, y_train_pruned_ratings_3, X_test, y_test) "
      ]
    },
    {
      "cell_type": "code",
      "execution_count": 1396,
      "metadata": {
        "colab": {
          "base_uri": "https://localhost:8080/"
        },
        "id": "w6XyNLuvQzy5",
        "outputId": "76fb1e82-c02b-41e8-b9a4-5a46c86ba752"
      },
      "outputs": [
        {
          "name": "stdout",
          "output_type": "stream",
          "text": [
            "The mae is 1.0486 and rmse is 1.8712\n",
            "Training time is 23.0571 and Prediction time is 0.5284\n"
          ]
        }
      ],
      "source": [
        "# Random Forest Regressor\n",
        "rf_mae_m2_3, rf_rmse_m2_3,tt_rf_m2_3, pt_rf_m2_3 = Random_Forest(X_train_pruned_ratings_3, y_train_pruned_ratings_3, X_test, y_test) "
      ]
    },
    {
      "attachments": {},
      "cell_type": "markdown",
      "metadata": {
        "id": "3t2bEVlNM17x"
      },
      "source": [
        "### Model Three (M3) - Pruning on the basis of user ratings"
      ]
    },
    {
      "attachments": {},
      "cell_type": "markdown",
      "metadata": {
        "id": "w8cxRlpEMrdN"
      },
      "source": [
        "#### Pruning users who have rated less than 30 movies"
      ]
    },
    {
      "cell_type": "code",
      "execution_count": 1397,
      "metadata": {
        "id": "obSx4Owsbbhw"
      },
      "outputs": [],
      "source": [
        "counts = X_train['u_id'].value_counts() \n",
        "\n",
        "def total_rating_less_than_n(X_set, y_set, counts, n):\n",
        "    X_set_for_pruning_n = pd.concat([X_set, y_set], axis = 1) \n",
        "    set_pruned_n = X_set_for_pruning_n.loc[X_set_for_pruning_n['u_id'].isin(counts.index[counts > n])]\n",
        "    y_set_pruned_n = set_pruned_n['rating']\n",
        "    return set_pruned_n, y_set_pruned_n\n",
        "train_pruned_30, y_train_pruned_30 = total_rating_less_than_n(X_train, y_train,counts, n=30)"
      ]
    },
    {
      "cell_type": "code",
      "execution_count": 1398,
      "metadata": {
        "id": "EUJBmOCdJDWE"
      },
      "outputs": [],
      "source": [
        "val_pruned_30, y_val_pruned_30 = total_rating_less_than_n(X_val, y_val,counts, 30)"
      ]
    },
    {
      "cell_type": "code",
      "execution_count": 1399,
      "metadata": {
        "colab": {
          "base_uri": "https://localhost:8080/"
        },
        "id": "fqKI2Fo6Kk23",
        "outputId": "178622f7-f7bb-458f-d81e-9e2c67fee5b6"
      },
      "outputs": [
        {
          "data": {
            "text/plain": [
              "(70228, 4)"
            ]
          },
          "execution_count": 1399,
          "metadata": {},
          "output_type": "execute_result"
        }
      ],
      "source": [
        "train_pruned_30.shape"
      ]
    },
    {
      "cell_type": "code",
      "execution_count": 1400,
      "metadata": {
        "colab": {
          "base_uri": "https://localhost:8080/"
        },
        "id": "O_8rfrUwKk6Z",
        "outputId": "dfd3a28b-28ed-4461-d581-bf10d5c12e4a"
      },
      "outputs": [
        {
          "data": {
            "text/plain": [
              "(12326, 4)"
            ]
          },
          "execution_count": 1400,
          "metadata": {},
          "output_type": "execute_result"
        }
      ],
      "source": [
        "val_pruned_30.shape"
      ]
    },
    {
      "attachments": {},
      "cell_type": "markdown",
      "metadata": {},
      "source": [
        "#### FunkSVD - M3"
      ]
    },
    {
      "cell_type": "code",
      "execution_count": 1401,
      "metadata": {
        "colab": {
          "base_uri": "https://localhost:8080/"
        },
        "id": "R8A_ivJPbblh",
        "outputId": "8e94e25f-ec80-45f8-9ff4-7be33a77ea0b"
      },
      "outputs": [
        {
          "name": "stdout",
          "output_type": "stream",
          "text": [
            "Preprocessing data...\n",
            "\n",
            "Preprocessing data...\n",
            "\n",
            "Epoch 1/150  | val_loss: 1.18 - val_rmse: 1.09 - val_mae: 0.91 - took 0.0 sec\n",
            "Epoch 2/150  | val_loss: 1.12 - val_rmse: 1.06 - val_mae: 0.88 - took 0.0 sec\n",
            "Epoch 3/150  | val_loss: 1.07 - val_rmse: 1.04 - val_mae: 0.85 - took 0.0 sec\n",
            "Epoch 4/150  | val_loss: 1.04 - val_rmse: 1.02 - val_mae: 0.83 - took 0.0 sec\n",
            "Epoch 5/150  | val_loss: 1.02 - val_rmse: 1.01 - val_mae: 0.82 - took 0.0 sec\n",
            "Epoch 6/150  | val_loss: 1.01 - val_rmse: 1.00 - val_mae: 0.81 - took 0.0 sec\n",
            "Epoch 7/150  | val_loss: 0.99 - val_rmse: 1.00 - val_mae: 0.80 - took 0.0 sec\n",
            "Epoch 8/150  | val_loss: 0.98 - val_rmse: 0.99 - val_mae: 0.79 - took 0.0 sec\n",
            "Epoch 9/150  | val_loss: 0.97 - val_rmse: 0.99 - val_mae: 0.79 - took 0.0 sec\n",
            "Epoch 10/150 | val_loss: 0.97 - val_rmse: 0.98 - val_mae: 0.79 - took 0.0 sec\n",
            "Epoch 11/150 | val_loss: 0.96 - val_rmse: 0.98 - val_mae: 0.78 - took 0.0 sec\n",
            "Epoch 12/150 | val_loss: 0.95 - val_rmse: 0.98 - val_mae: 0.78 - took 0.0 sec\n",
            "Epoch 13/150 | val_loss: 0.95 - val_rmse: 0.97 - val_mae: 0.78 - took 0.0 sec\n",
            "Epoch 14/150 | val_loss: 0.95 - val_rmse: 0.97 - val_mae: 0.77 - took 0.0 sec\n",
            "Epoch 15/150 | val_loss: 0.94 - val_rmse: 0.97 - val_mae: 0.77 - took 0.0 sec\n",
            "Epoch 16/150 | val_loss: 0.94 - val_rmse: 0.97 - val_mae: 0.77 - took 0.0 sec\n",
            "Epoch 17/150 | val_loss: 0.94 - val_rmse: 0.97 - val_mae: 0.77 - took 0.0 sec\n",
            "Epoch 18/150 | val_loss: 0.93 - val_rmse: 0.97 - val_mae: 0.77 - took 0.0 sec\n",
            "Epoch 19/150 | val_loss: 0.93 - val_rmse: 0.96 - val_mae: 0.77 - took 0.0 sec\n",
            "Epoch 20/150 | val_loss: 0.93 - val_rmse: 0.96 - val_mae: 0.76 - took 0.0 sec\n",
            "Epoch 21/150 | val_loss: 0.93 - val_rmse: 0.96 - val_mae: 0.76 - took 0.0 sec\n",
            "Epoch 22/150 | val_loss: 0.92 - val_rmse: 0.96 - val_mae: 0.76 - took 0.0 sec\n",
            "\n",
            "Training took 0 sec\n",
            "Mae is 0.7549 and Rmse is 0.951\n",
            "Training time is 0.1004 and Prediction time is 0.025\n"
          ]
        }
      ],
      "source": [
        "#SVD\n",
        "svd_mae_m3, svd_rmse_m3, tt_svd_m3, pt_svd_m3 = Svd(train_pruned_30, val_pruned_30, X_test, y_test) "
      ]
    },
    {
      "cell_type": "code",
      "execution_count": 1402,
      "metadata": {
        "id": "qBNw6rm6JQ1t"
      },
      "outputs": [],
      "source": [
        "train_pruned_30.drop(['rating'], axis = 1, inplace = True)"
      ]
    },
    {
      "attachments": {},
      "cell_type": "markdown",
      "metadata": {},
      "source": [
        "#### XgBoost - M3"
      ]
    },
    {
      "cell_type": "code",
      "execution_count": 1403,
      "metadata": {
        "colab": {
          "base_uri": "https://localhost:8080/"
        },
        "id": "uevf38dqcNt8",
        "outputId": "666159a7-f8ad-4b46-fdeb-3c83b1e284ed"
      },
      "outputs": [
        {
          "name": "stdout",
          "output_type": "stream",
          "text": [
            "The mae is 0.7615 and rmse is 0.9589\n",
            "Training time is 2.2653 and Prediction time is 0.0074\n"
          ]
        }
      ],
      "source": [
        "#XgBoost\n",
        "xb_mae_m3, xb_rmse_m3, tt_xb_m3, pt_xb_m3 = XgBoost(train_pruned_30, y_train_pruned_30, X_test, y_test)"
      ]
    },
    {
      "attachments": {},
      "cell_type": "markdown",
      "metadata": {},
      "source": [
        "#### Random Forest Rwgressor - M3"
      ]
    },
    {
      "cell_type": "code",
      "execution_count": 1404,
      "metadata": {
        "colab": {
          "base_uri": "https://localhost:8080/"
        },
        "id": "Ffgx45fjcNx2",
        "outputId": "8ad2fe66-325e-4784-ae0b-4fdf0dceec8a"
      },
      "outputs": [
        {
          "name": "stdout",
          "output_type": "stream",
          "text": [
            "The mae is 0.809 and rmse is 1.0389\n",
            "Training time is 38.6152 and Prediction time is 0.8135\n"
          ]
        }
      ],
      "source": [
        "#RandomForestRegressor\n",
        "rf_mae_m3, rf_rmse_m3, tt_rf_m3, pt_rf_m3 = Random_Forest(train_pruned_30, y_train_pruned_30, X_test, y_test)"
      ]
    },
    {
      "attachments": {},
      "cell_type": "markdown",
      "metadata": {
        "id": "IOdueMFvKCHU"
      },
      "source": [
        "### Random Pruning - M3"
      ]
    },
    {
      "cell_type": "code",
      "execution_count": 1405,
      "metadata": {
        "id": "upXvOtgCKEhW"
      },
      "outputs": [
        {
          "data": {
            "text/plain": [
              "6272"
            ]
          },
          "execution_count": 1405,
          "metadata": {},
          "output_type": "execute_result"
        }
      ],
      "source": [
        "n_m3 = difference(X_train, train_pruned_30) \n",
        "n_m3"
      ]
    },
    {
      "cell_type": "code",
      "execution_count": 1406,
      "metadata": {
        "id": "s4-K5TCTKEeW"
      },
      "outputs": [],
      "source": [
        "X_train_randomly_pruned3, y_train_randomly_pruned3 = random_pruning(X_train, y_train, n_m3,0) "
      ]
    },
    {
      "cell_type": "code",
      "execution_count": 1407,
      "metadata": {
        "colab": {
          "base_uri": "https://localhost:8080/"
        },
        "id": "0AxtA3KjcZlR",
        "outputId": "75d149a1-2833-488d-e2d4-afd150382299"
      },
      "outputs": [
        {
          "data": {
            "text/plain": [
              "(70228, 4)"
            ]
          },
          "execution_count": 1407,
          "metadata": {},
          "output_type": "execute_result"
        }
      ],
      "source": [
        "X_train_randomly_pruned3.shape"
      ]
    },
    {
      "cell_type": "code",
      "execution_count": 1408,
      "metadata": {
        "id": "Pg9qDQdEKEn1"
      },
      "outputs": [],
      "source": [
        "n_v_m3 = difference(X_val, val_pruned_30)"
      ]
    },
    {
      "cell_type": "code",
      "execution_count": 1409,
      "metadata": {
        "id": "OZWkeae9KEkZ"
      },
      "outputs": [],
      "source": [
        "X_val_randomly_pruned3, y_val_randomly_pruned3 = random_pruning(X_val, y_val, n_v_m3,0)"
      ]
    },
    {
      "cell_type": "code",
      "execution_count": 1410,
      "metadata": {
        "colab": {
          "base_uri": "https://localhost:8080/"
        },
        "id": "sZ2bcrOHcaSp",
        "outputId": "cfc85ac6-59bf-49be-b7af-10a862ee8d1e"
      },
      "outputs": [
        {
          "data": {
            "text/plain": [
              "(12326, 4)"
            ]
          },
          "execution_count": 1410,
          "metadata": {},
          "output_type": "execute_result"
        }
      ],
      "source": [
        "X_val_randomly_pruned3.shape"
      ]
    },
    {
      "cell_type": "code",
      "execution_count": 1411,
      "metadata": {
        "colab": {
          "base_uri": "https://localhost:8080/"
        },
        "id": "L4xW1vSGchHq",
        "outputId": "eb3f51ba-a5b8-42fc-ef52-1ee8a4cbb7c7"
      },
      "outputs": [
        {
          "name": "stdout",
          "output_type": "stream",
          "text": [
            "Preprocessing data...\n",
            "\n",
            "Preprocessing data...\n",
            "\n",
            "Epoch 1/150  | val_loss: 1.19 - val_rmse: 1.09 - val_mae: 0.92 - took 0.0 sec\n",
            "Epoch 2/150  | val_loss: 1.13 - val_rmse: 1.06 - val_mae: 0.89 - took 0.0 sec\n",
            "Epoch 3/150  | val_loss: 1.09 - val_rmse: 1.05 - val_mae: 0.86 - took 0.0 sec\n",
            "Epoch 4/150  | val_loss: 1.06 - val_rmse: 1.03 - val_mae: 0.84 - took 0.0 sec\n",
            "Epoch 5/150  | val_loss: 1.04 - val_rmse: 1.02 - val_mae: 0.83 - took 0.0 sec\n",
            "Epoch 6/150  | val_loss: 1.03 - val_rmse: 1.01 - val_mae: 0.82 - took 0.0 sec\n",
            "Epoch 7/150  | val_loss: 1.01 - val_rmse: 1.01 - val_mae: 0.81 - took 0.0 sec\n",
            "Epoch 8/150  | val_loss: 1.00 - val_rmse: 1.00 - val_mae: 0.81 - took 0.0 sec\n",
            "Epoch 9/150  | val_loss: 0.99 - val_rmse: 1.00 - val_mae: 0.80 - took 0.0 sec\n",
            "Epoch 10/150 | val_loss: 0.98 - val_rmse: 0.99 - val_mae: 0.80 - took 0.0 sec\n",
            "Epoch 11/150 | val_loss: 0.98 - val_rmse: 0.99 - val_mae: 0.79 - took 0.0 sec\n",
            "Epoch 12/150 | val_loss: 0.97 - val_rmse: 0.99 - val_mae: 0.79 - took 0.0 sec\n",
            "Epoch 13/150 | val_loss: 0.97 - val_rmse: 0.98 - val_mae: 0.79 - took 0.0 sec\n",
            "Epoch 14/150 | val_loss: 0.96 - val_rmse: 0.98 - val_mae: 0.78 - took 0.0 sec\n",
            "Epoch 15/150 | val_loss: 0.96 - val_rmse: 0.98 - val_mae: 0.78 - took 0.0 sec\n",
            "Epoch 16/150 | val_loss: 0.96 - val_rmse: 0.98 - val_mae: 0.78 - took 0.0 sec\n",
            "Epoch 17/150 | val_loss: 0.95 - val_rmse: 0.98 - val_mae: 0.78 - took 0.0 sec\n",
            "Epoch 18/150 | val_loss: 0.95 - val_rmse: 0.98 - val_mae: 0.78 - took 0.0 sec\n",
            "Epoch 19/150 | val_loss: 0.95 - val_rmse: 0.97 - val_mae: 0.77 - took 0.0 sec\n",
            "Epoch 20/150 | val_loss: 0.95 - val_rmse: 0.97 - val_mae: 0.77 - took 0.0 sec\n",
            "Epoch 21/150 | val_loss: 0.94 - val_rmse: 0.97 - val_mae: 0.77 - took 0.0 sec\n",
            "Epoch 22/150 | val_loss: 0.94 - val_rmse: 0.97 - val_mae: 0.77 - took 0.0 sec\n",
            "\n",
            "Training took 0 sec\n",
            "Mae is 0.7544 and Rmse is 0.9489\n",
            "Training time is 0.1913 and Prediction time is 0.063\n"
          ]
        }
      ],
      "source": [
        "# SVD\n",
        "svd_mae_rp_m3, svd_rmse_rp_m3,tt_svd_rp_m3, pt_svd_rp_m3 = Svd(X_train_randomly_pruned3, X_val_randomly_pruned3, X_test, y_test) "
      ]
    },
    {
      "cell_type": "code",
      "execution_count": 1412,
      "metadata": {
        "id": "O1KckuFNdC3M"
      },
      "outputs": [],
      "source": [
        "X_train_randomly_pruned3.drop(['rating'], axis = 1, inplace = True)"
      ]
    },
    {
      "cell_type": "code",
      "execution_count": 1413,
      "metadata": {
        "colab": {
          "base_uri": "https://localhost:8080/"
        },
        "id": "yUqGcz1BchQY",
        "outputId": "9296995e-d9e5-43bd-f382-c04be3228ab5"
      },
      "outputs": [
        {
          "name": "stdout",
          "output_type": "stream",
          "text": [
            "The mae is 0.761 and rmse is 0.956\n",
            "Training time is 2.5601 and Prediction time is 0.0074\n"
          ]
        }
      ],
      "source": [
        "# XgBoost\n",
        "xb_mae_rp_m3, xb_rmse_rp_m3, tt_xb_rp_m3, pt_xb_rp_m3 = XgBoost(X_train_randomly_pruned3, y_train_randomly_pruned3, X_test, y_test) "
      ]
    },
    {
      "cell_type": "code",
      "execution_count": 1414,
      "metadata": {
        "colab": {
          "base_uri": "https://localhost:8080/"
        },
        "id": "sOxjFhCcc3Sh",
        "outputId": "c8f1a187-5b22-4f10-a305-4f0e086137cb"
      },
      "outputs": [
        {
          "name": "stdout",
          "output_type": "stream",
          "text": [
            "The mae is 0.8123 and rmse is 1.042\n",
            "Training time is 39.3672 and Prediction time is 0.7549\n"
          ]
        }
      ],
      "source": [
        "# Random Forest Regressor\n",
        "rf_mae_rp_m3, rf_rmse_rp_m3, tt_rf_rp_m3, pt_xb_rp_m3 = Random_Forest(X_train_randomly_pruned3, y_train_randomly_pruned3, X_test, y_test) "
      ]
    },
    {
      "attachments": {},
      "cell_type": "markdown",
      "metadata": {
        "id": "9KSOzBCJMmlO"
      },
      "source": [
        "#### Pruning users who have rated less than 40 movies"
      ]
    },
    {
      "cell_type": "code",
      "execution_count": 1608,
      "metadata": {
        "id": "ipFnuxpYJoDW"
      },
      "outputs": [],
      "source": [
        "train_pruned_40, y_train_pruned_40 = total_rating_less_than_n(X_train, y_train,counts, 40)"
      ]
    },
    {
      "cell_type": "code",
      "execution_count": 1609,
      "metadata": {
        "id": "BnbOL_RjJoHP"
      },
      "outputs": [],
      "source": [
        "val_pruned_40, y_val_pruned_40 = total_rating_less_than_n(X_val, y_val,counts, 40)"
      ]
    },
    {
      "cell_type": "code",
      "execution_count": 1610,
      "metadata": {
        "colab": {
          "base_uri": "https://localhost:8080/"
        },
        "id": "_rLjQREgRjSw",
        "outputId": "42e55e09-d35f-4733-cfaa-8adda85c6386"
      },
      "outputs": [
        {
          "name": "stdout",
          "output_type": "stream",
          "text": [
            "Preprocessing data...\n",
            "\n",
            "Preprocessing data...\n",
            "\n",
            "Epoch 1/150  | val_loss: 1.18 - val_rmse: 1.09 - val_mae: 0.91 - took 0.0 sec\n",
            "Epoch 2/150  | val_loss: 1.12 - val_rmse: 1.06 - val_mae: 0.88 - took 0.0 sec\n",
            "Epoch 3/150  | val_loss: 1.07 - val_rmse: 1.04 - val_mae: 0.85 - took 0.0 sec\n",
            "Epoch 4/150  | val_loss: 1.04 - val_rmse: 1.02 - val_mae: 0.83 - took 0.0 sec\n",
            "Epoch 5/150  | val_loss: 1.02 - val_rmse: 1.01 - val_mae: 0.82 - took 0.0 sec\n",
            "Epoch 6/150  | val_loss: 1.00 - val_rmse: 1.00 - val_mae: 0.81 - took 0.0 sec\n",
            "Epoch 7/150  | val_loss: 0.99 - val_rmse: 0.99 - val_mae: 0.80 - took 0.0 sec\n",
            "Epoch 8/150  | val_loss: 0.98 - val_rmse: 0.99 - val_mae: 0.79 - took 0.0 sec\n",
            "Epoch 9/150  | val_loss: 0.97 - val_rmse: 0.99 - val_mae: 0.79 - took 0.0 sec\n",
            "Epoch 10/150 | val_loss: 0.96 - val_rmse: 0.98 - val_mae: 0.78 - took 0.0 sec\n",
            "Epoch 11/150 | val_loss: 0.96 - val_rmse: 0.98 - val_mae: 0.78 - took 0.0 sec\n",
            "Epoch 12/150 | val_loss: 0.95 - val_rmse: 0.98 - val_mae: 0.78 - took 0.0 sec\n",
            "Epoch 13/150 | val_loss: 0.95 - val_rmse: 0.97 - val_mae: 0.77 - took 0.0 sec\n",
            "Epoch 14/150 | val_loss: 0.94 - val_rmse: 0.97 - val_mae: 0.77 - took 0.0 sec\n",
            "Epoch 15/150 | val_loss: 0.94 - val_rmse: 0.97 - val_mae: 0.77 - took 0.0 sec\n",
            "Epoch 16/150 | val_loss: 0.94 - val_rmse: 0.97 - val_mae: 0.77 - took 0.0 sec\n",
            "Epoch 17/150 | val_loss: 0.93 - val_rmse: 0.97 - val_mae: 0.77 - took 0.0 sec\n",
            "Epoch 18/150 | val_loss: 0.93 - val_rmse: 0.96 - val_mae: 0.76 - took 0.0 sec\n",
            "Epoch 19/150 | val_loss: 0.93 - val_rmse: 0.96 - val_mae: 0.76 - took 0.0 sec\n",
            "Epoch 20/150 | val_loss: 0.92 - val_rmse: 0.96 - val_mae: 0.76 - took 0.0 sec\n",
            "Epoch 21/150 | val_loss: 0.92 - val_rmse: 0.96 - val_mae: 0.76 - took 0.0 sec\n",
            "Epoch 22/150 | val_loss: 0.92 - val_rmse: 0.96 - val_mae: 0.76 - took 0.0 sec\n",
            "\n",
            "Training took 0 sec\n",
            "Mae is 0.7578 and Rmse is 0.9538\n",
            "Training time is 0.1727 and Prediction time is 0.0517\n"
          ]
        }
      ],
      "source": [
        "# SVD\n",
        "svd_mae_m3_40, svd_rmse_m3_40, tt_svd_m3_40, pt_svd_m3_40 = Svd(train_pruned_40, val_pruned_40, X_test, y_test) "
      ]
    },
    {
      "cell_type": "code",
      "execution_count": 1418,
      "metadata": {
        "id": "e44W2b5QRjSw"
      },
      "outputs": [],
      "source": [
        "train_pruned_40 = train_pruned_40.drop(['rating'], axis = 1) "
      ]
    },
    {
      "cell_type": "code",
      "execution_count": 1419,
      "metadata": {
        "colab": {
          "base_uri": "https://localhost:8080/"
        },
        "id": "6OYETLM0RjSw",
        "outputId": "da315322-1c60-485b-95d7-59ff742b0cc4"
      },
      "outputs": [
        {
          "name": "stdout",
          "output_type": "stream",
          "text": [
            "The mae is 0.7663 and rmse is 0.9617\n",
            "Training time is 2.1349 and Prediction time is 0.0076\n"
          ]
        }
      ],
      "source": [
        "# XgBoost\n",
        "xb_mae_m3_40, xb_rmse_m3_40,tt_xb_m3_40, pt_xb_m3_40  = XgBoost(train_pruned_40, y_train_pruned_40, X_test, y_test)"
      ]
    },
    {
      "cell_type": "code",
      "execution_count": 1420,
      "metadata": {
        "colab": {
          "base_uri": "https://localhost:8080/"
        },
        "id": "O1fnkPoORjSw",
        "outputId": "93945551-d562-4709-827f-649f115ac7df"
      },
      "outputs": [
        {
          "name": "stdout",
          "output_type": "stream",
          "text": [
            "The mae is 0.8103 and rmse is 1.0385\n",
            "Training time is 36.4453 and Prediction time is 0.784\n"
          ]
        }
      ],
      "source": [
        "# Random Forest Regressor\n",
        "rf_mae_m3_40, rf_rmse_m3_40, tt_rf_m3_40, pt_rf_m3_40 = Random_Forest(train_pruned_40, y_train_pruned_40, X_test, y_test)"
      ]
    },
    {
      "attachments": {},
      "cell_type": "markdown",
      "metadata": {
        "id": "-EoEAVH8tzKU"
      },
      "source": [
        "### Model Four (M4) - Pruning data on the basis of timestamp\n",
        "#### The MovieLens100k dataset consists of data between 1997 and 1998."
      ]
    },
    {
      "attachments": {},
      "cell_type": "markdown",
      "metadata": {
        "id": "yIssWcnqNfok"
      },
      "source": [
        "#### Pruning data for initial 2 months"
      ]
    },
    {
      "cell_type": "code",
      "execution_count": 1421,
      "metadata": {
        "colab": {
          "base_uri": "https://localhost:8080/"
        },
        "id": "8s-bHSHruOhS",
        "outputId": "303254f3-96a6-43af-b89b-4d94437d01fd"
      },
      "outputs": [
        {
          "data": {
            "text/plain": [
              "217      874724710\n",
              "83968    874724727\n",
              "21399    874724781\n",
              "82658    874724843\n",
              "1769     874724882\n",
              "           ...    \n",
              "6098     879968598\n",
              "17959    879968663\n",
              "15929    879968663\n",
              "78567    879968718\n",
              "4281     879968742\n",
              "Name: timestamp, Length: 25000, dtype: int64"
            ]
          },
          "execution_count": 1421,
          "metadata": {},
          "output_type": "execute_result"
        }
      ],
      "source": [
        "from datetime import datetime \n",
        "Timestamp = X_train['timestamp'].sort_values(ascending = True)  \n",
        "Timestamp[:25000] "
      ]
    },
    {
      "cell_type": "code",
      "execution_count": 1422,
      "metadata": {
        "colab": {
          "base_uri": "https://localhost:8080/"
        },
        "id": "hsuBQCamucWp",
        "outputId": "414d75cb-cab7-46a0-8f4c-64139dcba703"
      },
      "outputs": [
        {
          "name": "stdout",
          "output_type": "stream",
          "text": [
            "09-20-1997\n"
          ]
        }
      ],
      "source": [
        "ts = int(\"874724727\") \n",
        "print(datetime.utcfromtimestamp(ts).strftime('%m-%d-%Y')) "
      ]
    },
    {
      "cell_type": "code",
      "execution_count": 1423,
      "metadata": {
        "colab": {
          "base_uri": "https://localhost:8080/"
        },
        "id": "ZoBK_bSPucZo",
        "outputId": "999b80a2-bd7b-4d9e-e970-3163295d951b"
      },
      "outputs": [
        {
          "name": "stdout",
          "output_type": "stream",
          "text": [
            "11-19-1997\n"
          ]
        }
      ],
      "source": [
        "ts = int(\"879969064\") \n",
        "print(datetime.utcfromtimestamp(ts).strftime('%m-%d-%Y')) "
      ]
    },
    {
      "cell_type": "code",
      "execution_count": 1424,
      "metadata": {
        "id": "B_bEy7T9Q7N2"
      },
      "outputs": [],
      "source": [
        "timestamp1 = 879969064\n",
        "def timestamp_n(X_train_timestamp, y_train, timestamp): \n",
        "  # concating X_train and y_train \n",
        "  X_train_timestamp_for_pruning = pd.concat([X_train_timestamp, y_train], axis = 1)\n",
        "  # pruning train data \n",
        "  X_train_timestamp_pruned = X_train_timestamp_for_pruning[X_train_timestamp_for_pruning['timestamp'] > timestamp] \n",
        "  y_train_timestamp_pruned = X_train_timestamp_pruned['rating']\n",
        "  X_train_timestamp_pruned.columns = ['u_id','i_id','timestamp','rating'] \n",
        "  return X_train_timestamp_pruned, y_train_timestamp_pruned\n",
        "X_train_timestamp_pruned, y_train_timestamp_pruned = timestamp_n(X_train, y_train, timestamp1)"
      ]
    },
    {
      "cell_type": "code",
      "execution_count": 1425,
      "metadata": {
        "id": "0U-AvYnJQ7SG"
      },
      "outputs": [],
      "source": [
        "# for validation set \n",
        "X_val_timestamp_pruned, y_val_timestamp_pruned = timestamp_n(X_val, y_val, timestamp1) "
      ]
    },
    {
      "attachments": {},
      "cell_type": "markdown",
      "metadata": {},
      "source": [
        "#### FunkSVD - M4"
      ]
    },
    {
      "cell_type": "code",
      "execution_count": 1426,
      "metadata": {
        "colab": {
          "base_uri": "https://localhost:8080/"
        },
        "id": "FmBC_vQFxJ9I",
        "outputId": "ae851cd0-5968-4c9a-c8b7-a24bab848307"
      },
      "outputs": [
        {
          "name": "stdout",
          "output_type": "stream",
          "text": [
            "Preprocessing data...\n",
            "\n",
            "Preprocessing data...\n",
            "\n",
            "Epoch 1/150  | val_loss: 1.20 - val_rmse: 1.10 - val_mae: 0.92 - took 0.0 sec\n",
            "Epoch 2/150  | val_loss: 1.15 - val_rmse: 1.07 - val_mae: 0.89 - took 0.0 sec\n",
            "Epoch 3/150  | val_loss: 1.11 - val_rmse: 1.05 - val_mae: 0.87 - took 0.0 sec\n",
            "Epoch 4/150  | val_loss: 1.08 - val_rmse: 1.04 - val_mae: 0.85 - took 0.0 sec\n",
            "Epoch 5/150  | val_loss: 1.06 - val_rmse: 1.03 - val_mae: 0.84 - took 0.0 sec\n",
            "Epoch 6/150  | val_loss: 1.05 - val_rmse: 1.02 - val_mae: 0.83 - took 0.0 sec\n",
            "Epoch 7/150  | val_loss: 1.03 - val_rmse: 1.02 - val_mae: 0.82 - took 0.0 sec\n",
            "Epoch 8/150  | val_loss: 1.02 - val_rmse: 1.01 - val_mae: 0.82 - took 0.0 sec\n",
            "Epoch 9/150  | val_loss: 1.01 - val_rmse: 1.01 - val_mae: 0.81 - took 0.0 sec\n",
            "Epoch 10/150 | val_loss: 1.01 - val_rmse: 1.00 - val_mae: 0.81 - took 0.0 sec\n",
            "Epoch 11/150 | val_loss: 1.00 - val_rmse: 1.00 - val_mae: 0.80 - took 0.0 sec\n",
            "Epoch 12/150 | val_loss: 0.99 - val_rmse: 1.00 - val_mae: 0.80 - took 0.0 sec\n",
            "Epoch 13/150 | val_loss: 0.99 - val_rmse: 0.99 - val_mae: 0.80 - took 0.0 sec\n",
            "Epoch 14/150 | val_loss: 0.98 - val_rmse: 0.99 - val_mae: 0.79 - took 0.0 sec\n",
            "Epoch 15/150 | val_loss: 0.98 - val_rmse: 0.99 - val_mae: 0.79 - took 0.0 sec\n",
            "Epoch 16/150 | val_loss: 0.98 - val_rmse: 0.99 - val_mae: 0.79 - took 0.0 sec\n",
            "Epoch 17/150 | val_loss: 0.97 - val_rmse: 0.99 - val_mae: 0.79 - took 0.0 sec\n",
            "Epoch 18/150 | val_loss: 0.97 - val_rmse: 0.99 - val_mae: 0.79 - took 0.0 sec\n",
            "Epoch 19/150 | val_loss: 0.97 - val_rmse: 0.98 - val_mae: 0.79 - took 0.0 sec\n",
            "Epoch 20/150 | val_loss: 0.97 - val_rmse: 0.98 - val_mae: 0.78 - took 0.0 sec\n",
            "Epoch 21/150 | val_loss: 0.96 - val_rmse: 0.98 - val_mae: 0.78 - took 0.0 sec\n",
            "Epoch 22/150 | val_loss: 0.96 - val_rmse: 0.98 - val_mae: 0.78 - took 0.0 sec\n",
            "Epoch 23/150 | val_loss: 0.96 - val_rmse: 0.98 - val_mae: 0.78 - took 0.0 sec\n",
            "\n",
            "Training took 0 sec\n",
            "Mae is 0.7819 and Rmse is 0.981\n",
            "Training time is 0.0936 and Prediction time is 0.025\n"
          ]
        }
      ],
      "source": [
        "svd_mae_m4, svd_rmse_m4, tt_svd_m4, pt_svd_m4 = Svd(X_train_timestamp_pruned, X_val_timestamp_pruned, X_test, y_test) "
      ]
    },
    {
      "cell_type": "code",
      "execution_count": 1427,
      "metadata": {
        "id": "y2wmdzk4f-C3"
      },
      "outputs": [],
      "source": [
        "X_train_timestamp_pruned.drop(['rating'],axis = 1, inplace = True)"
      ]
    },
    {
      "attachments": {},
      "cell_type": "markdown",
      "metadata": {},
      "source": [
        "#### XgBoost - M4"
      ]
    },
    {
      "cell_type": "code",
      "execution_count": 1428,
      "metadata": {
        "colab": {
          "base_uri": "https://localhost:8080/"
        },
        "id": "cnCRRLNOfJh3",
        "outputId": "d9b32d49-6f89-4f1b-e914-074aca25021f"
      },
      "outputs": [
        {
          "name": "stdout",
          "output_type": "stream",
          "text": [
            "Mae is 0.8046 and Rmse is 1.0069\n"
          ]
        }
      ],
      "source": [
        "xb = XGBRegressor()\n",
        "start = time.time() \n",
        "xb.fit(X_train_timestamp_pruned, y_train_timestamp_pruned)\n",
        "tt_xb_m4 = round(time.time() - start, 4)\n",
        "start = time.time()\n",
        "xb_pred = xb.predict(X_test) \n",
        "pt_xb_m4 = round(time.time() - start, 4)\n",
        "xb_mae_m4 =  round(mean_absolute_error(y_test, xb_pred),4)\n",
        "xb_rmse_m4 =  round(mean_squared_error(y_test, xb_pred, squared = False),4)\n",
        "print(f'Mae is {xb_mae_m4} and Rmse is {xb_rmse_m4}') \n"
      ]
    },
    {
      "attachments": {},
      "cell_type": "markdown",
      "metadata": {},
      "source": [
        "#### Random Forest Regressor - M4"
      ]
    },
    {
      "cell_type": "code",
      "execution_count": 1429,
      "metadata": {
        "colab": {
          "base_uri": "https://localhost:8080/"
        },
        "id": "-93TjYIKfJlS",
        "outputId": "2c080e0f-f563-4723-beb1-0b146b1d4c65"
      },
      "outputs": [
        {
          "name": "stdout",
          "output_type": "stream",
          "text": [
            "The mae is 0.8386 and rmse is 1.0989\n",
            "Training time is 27.7068 and Prediction time is 0.6076\n"
          ]
        }
      ],
      "source": [
        "rf_mae_m4, rf_rmse_m4, tt_rf_m4, pt_rf_m4  = Random_Forest(X_train_timestamp_pruned, y_train_timestamp_pruned, X_test, y_test)"
      ]
    },
    {
      "attachments": {},
      "cell_type": "markdown",
      "metadata": {
        "id": "YXSWhhySdc2v"
      },
      "source": [
        "### Random Pruning - M4"
      ]
    },
    {
      "cell_type": "code",
      "execution_count": 1430,
      "metadata": {
        "id": "rZprtv13dpzB"
      },
      "outputs": [
        {
          "data": {
            "text/plain": [
              "25032"
            ]
          },
          "execution_count": 1430,
          "metadata": {},
          "output_type": "execute_result"
        }
      ],
      "source": [
        "n_m4 = difference(X_train, X_train_timestamp_pruned) \n",
        "n_m4"
      ]
    },
    {
      "cell_type": "code",
      "execution_count": 1431,
      "metadata": {
        "id": "E9JhtOEPdpzB"
      },
      "outputs": [],
      "source": [
        "X_train_randomly_pruned4, y_train_randomly_pruned4 = random_pruning(X_train, y_train,n_m4,0) "
      ]
    },
    {
      "cell_type": "code",
      "execution_count": 1432,
      "metadata": {
        "colab": {
          "base_uri": "https://localhost:8080/"
        },
        "id": "KpnrZAY8dpzB",
        "outputId": "9698a53e-b919-4689-d8c2-3d328471b156"
      },
      "outputs": [
        {
          "data": {
            "text/plain": [
              "(51468, 4)"
            ]
          },
          "execution_count": 1432,
          "metadata": {},
          "output_type": "execute_result"
        }
      ],
      "source": [
        "X_train_randomly_pruned4.shape"
      ]
    },
    {
      "cell_type": "code",
      "execution_count": 1433,
      "metadata": {
        "id": "OjXJaDFYdpzB"
      },
      "outputs": [],
      "source": [
        "n_v_m4 = difference(X_val, X_val_timestamp_pruned)"
      ]
    },
    {
      "cell_type": "code",
      "execution_count": 1434,
      "metadata": {
        "id": "EjtkH4PfdpzB"
      },
      "outputs": [],
      "source": [
        "X_val_randomly_pruned4, y_val_randomly_pruned4 = random_pruning(X_val, y_val, n_v_m4,0)"
      ]
    },
    {
      "cell_type": "code",
      "execution_count": 1435,
      "metadata": {
        "colab": {
          "base_uri": "https://localhost:8080/"
        },
        "id": "wnKockeAdpzB",
        "outputId": "40a4d2fe-fe05-49ff-e3c4-0d4bd81600e6"
      },
      "outputs": [
        {
          "data": {
            "text/plain": [
              "(9053, 4)"
            ]
          },
          "execution_count": 1435,
          "metadata": {},
          "output_type": "execute_result"
        }
      ],
      "source": [
        "X_val_randomly_pruned4.shape"
      ]
    },
    {
      "cell_type": "code",
      "execution_count": 1436,
      "metadata": {
        "colab": {
          "base_uri": "https://localhost:8080/"
        },
        "id": "li6q_SXadpzB",
        "outputId": "79798067-ab6c-43cb-d11e-982548a6452a"
      },
      "outputs": [
        {
          "name": "stdout",
          "output_type": "stream",
          "text": [
            "Preprocessing data...\n",
            "\n",
            "Preprocessing data...\n",
            "\n",
            "Epoch 1/150  | val_loss: 1.21 - val_rmse: 1.10 - val_mae: 0.92 - took 0.0 sec\n",
            "Epoch 2/150  | val_loss: 1.16 - val_rmse: 1.08 - val_mae: 0.90 - took 0.0 sec\n",
            "Epoch 3/150  | val_loss: 1.12 - val_rmse: 1.06 - val_mae: 0.88 - took 0.0 sec\n",
            "Epoch 4/150  | val_loss: 1.09 - val_rmse: 1.05 - val_mae: 0.86 - took 0.0 sec\n",
            "Epoch 5/150  | val_loss: 1.07 - val_rmse: 1.03 - val_mae: 0.85 - took 0.0 sec\n",
            "Epoch 6/150  | val_loss: 1.05 - val_rmse: 1.03 - val_mae: 0.84 - took 0.0 sec\n",
            "Epoch 7/150  | val_loss: 1.04 - val_rmse: 1.02 - val_mae: 0.83 - took 0.0 sec\n",
            "Epoch 8/150  | val_loss: 1.03 - val_rmse: 1.01 - val_mae: 0.82 - took 0.0 sec\n",
            "Epoch 9/150  | val_loss: 1.02 - val_rmse: 1.01 - val_mae: 0.81 - took 0.0 sec\n",
            "Epoch 10/150 | val_loss: 1.01 - val_rmse: 1.00 - val_mae: 0.81 - took 0.0 sec\n",
            "Epoch 11/150 | val_loss: 1.00 - val_rmse: 1.00 - val_mae: 0.80 - took 0.0 sec\n",
            "Epoch 12/150 | val_loss: 1.00 - val_rmse: 1.00 - val_mae: 0.80 - took 0.0 sec\n",
            "Epoch 13/150 | val_loss: 0.99 - val_rmse: 1.00 - val_mae: 0.80 - took 0.0 sec\n",
            "Epoch 14/150 | val_loss: 0.99 - val_rmse: 0.99 - val_mae: 0.79 - took 0.0 sec\n",
            "Epoch 15/150 | val_loss: 0.98 - val_rmse: 0.99 - val_mae: 0.79 - took 0.0 sec\n",
            "Epoch 16/150 | val_loss: 0.98 - val_rmse: 0.99 - val_mae: 0.79 - took 0.0 sec\n",
            "Epoch 17/150 | val_loss: 0.97 - val_rmse: 0.99 - val_mae: 0.79 - took 0.0 sec\n",
            "Epoch 18/150 | val_loss: 0.97 - val_rmse: 0.99 - val_mae: 0.79 - took 0.0 sec\n",
            "Epoch 19/150 | val_loss: 0.97 - val_rmse: 0.98 - val_mae: 0.78 - took 0.0 sec\n",
            "Epoch 20/150 | val_loss: 0.97 - val_rmse: 0.98 - val_mae: 0.78 - took 0.0 sec\n",
            "Epoch 21/150 | val_loss: 0.96 - val_rmse: 0.98 - val_mae: 0.78 - took 0.0 sec\n",
            "Epoch 22/150 | val_loss: 0.96 - val_rmse: 0.98 - val_mae: 0.78 - took 0.0 sec\n",
            "Epoch 23/150 | val_loss: 0.96 - val_rmse: 0.98 - val_mae: 0.78 - took 0.0 sec\n",
            "Epoch 24/150 | val_loss: 0.96 - val_rmse: 0.98 - val_mae: 0.78 - took 0.0 sec\n",
            "\n",
            "Training took 0 sec\n",
            "Mae is 0.7624 and Rmse is 0.9569\n",
            "Training time is 0.0816 and Prediction time is 0.0268\n"
          ]
        }
      ],
      "source": [
        "# SVD\n",
        "svd_mae_rp_m4, svd_rmse_rp_m4,tt_svd_rp_m4, pt_svd_rp_m4 = Svd(X_train_randomly_pruned4, X_val_randomly_pruned4, X_test, y_test) "
      ]
    },
    {
      "cell_type": "code",
      "execution_count": 1437,
      "metadata": {
        "id": "gLqIJNX8dpzB"
      },
      "outputs": [],
      "source": [
        "X_train_randomly_pruned4.drop(['rating'], axis = 1, inplace = True)"
      ]
    },
    {
      "cell_type": "code",
      "execution_count": 1438,
      "metadata": {
        "colab": {
          "base_uri": "https://localhost:8080/"
        },
        "id": "YqnF6AwzdpzB",
        "outputId": "bd217ef7-f6a3-465b-e236-3eda65e5077a"
      },
      "outputs": [
        {
          "name": "stdout",
          "output_type": "stream",
          "text": [
            "The mae is 0.7648 and rmse is 0.9598\n",
            "Training time is 1.8318 and Prediction time is 0.008\n"
          ]
        }
      ],
      "source": [
        "# XgBoost\n",
        "xb_mae_rp_m4, xb_rmse_rp_m4, tt_xb_rp_m4, pt_xb_rp_m4 = XgBoost(X_train_randomly_pruned4, y_train_randomly_pruned4, X_test, y_test) "
      ]
    },
    {
      "cell_type": "code",
      "execution_count": 1439,
      "metadata": {
        "colab": {
          "base_uri": "https://localhost:8080/"
        },
        "id": "tY66woSwdpzC",
        "outputId": "c8f1a187-5b22-4f10-a305-4f0e086137cb"
      },
      "outputs": [
        {
          "name": "stdout",
          "output_type": "stream",
          "text": [
            "The mae is 0.8172 and rmse is 1.0547\n",
            "Training time is 28.5256 and Prediction time is 0.6629\n"
          ]
        }
      ],
      "source": [
        "# Random Forest Regressor\n",
        "rf_mae_rp_m4, rf_rmse_rp_m4, tt_rf_rp_m4, pt_rf_rp_m4 = Random_Forest(X_train_randomly_pruned4, y_train_randomly_pruned4, X_test, y_test) "
      ]
    },
    {
      "attachments": {},
      "cell_type": "markdown",
      "metadata": {
        "id": "OKnP7tzER8cB"
      },
      "source": [
        "#### Puning data for initial 3 months\n"
      ]
    },
    {
      "cell_type": "code",
      "execution_count": 1440,
      "metadata": {
        "colab": {
          "base_uri": "https://localhost:8080/"
        },
        "id": "IVVv6Z_1SHQG",
        "outputId": "b02cb038-6abf-4ce8-e876-c64d9a982d49"
      },
      "outputs": [
        {
          "data": {
            "text/plain": [
              "217      874724710\n",
              "83968    874724727\n",
              "21399    874724781\n",
              "82658    874724843\n",
              "1769     874724882\n",
              "           ...    \n",
              "18466    882813312\n",
              "57957    882813315\n",
              "68174    882813316\n",
              "89827    882813364\n",
              "70198    882813364\n",
              "Name: timestamp, Length: 38000, dtype: int64"
            ]
          },
          "execution_count": 1440,
          "metadata": {},
          "output_type": "execute_result"
        }
      ],
      "source": [
        "from datetime import datetime \n",
        "Timestamp = X_train['timestamp'].sort_values(ascending = True)  \n",
        "Timestamp[:38000] "
      ]
    },
    {
      "cell_type": "code",
      "execution_count": 1441,
      "metadata": {
        "colab": {
          "base_uri": "https://localhost:8080/"
        },
        "id": "Nv94Yh2ASHQG",
        "outputId": "41c07536-1543-4c31-bde0-ebd7d2febae7"
      },
      "outputs": [
        {
          "name": "stdout",
          "output_type": "stream",
          "text": [
            "09-20-1997\n"
          ]
        }
      ],
      "source": [
        "ts = int(\"874724727\") \n",
        "print(datetime.utcfromtimestamp(ts).strftime('%m-%d-%Y')) "
      ]
    },
    {
      "cell_type": "code",
      "execution_count": 1442,
      "metadata": {
        "colab": {
          "base_uri": "https://localhost:8080/"
        },
        "id": "MzB7o4rHSHQG",
        "outputId": "12071991-aa11-43bd-912c-b234fc9b2598"
      },
      "outputs": [
        {
          "name": "stdout",
          "output_type": "stream",
          "text": [
            "12-22-1997\n"
          ]
        }
      ],
      "source": [
        "ts = int(\"882813143\") \n",
        "print(datetime.utcfromtimestamp(ts).strftime('%m-%d-%Y')) "
      ]
    },
    {
      "cell_type": "code",
      "execution_count": 1443,
      "metadata": {
        "id": "rnkaAPj6fipb"
      },
      "outputs": [],
      "source": [
        "# for training data\n",
        "timestamp2 = 882813143 \n",
        "X_train_timestamp_pruned_3, y_train_timestamp_pruned_3 = timestamp_n(X_train, y_train, timestamp2)"
      ]
    },
    {
      "cell_type": "code",
      "execution_count": 1444,
      "metadata": {
        "id": "ZrLx_DNrfisw"
      },
      "outputs": [],
      "source": [
        "# for validation data\n",
        "X_val_timestamp_pruned_3, y_val_timestamp_pruned_3 = timestamp_n(X_val, y_val, timestamp2)"
      ]
    },
    {
      "cell_type": "code",
      "execution_count": 1445,
      "metadata": {
        "colab": {
          "base_uri": "https://localhost:8080/"
        },
        "id": "2sRhQpjdSHQN",
        "outputId": "436a4c95-7692-4f5a-abc4-5660d0ccc35d"
      },
      "outputs": [
        {
          "name": "stdout",
          "output_type": "stream",
          "text": [
            "Preprocessing data...\n",
            "\n",
            "Preprocessing data...\n",
            "\n",
            "Epoch 1/150  | val_loss: 1.23 - val_rmse: 1.11 - val_mae: 0.93 - took 0.0 sec\n",
            "Epoch 2/150  | val_loss: 1.18 - val_rmse: 1.08 - val_mae: 0.91 - took 0.0 sec\n",
            "Epoch 3/150  | val_loss: 1.14 - val_rmse: 1.07 - val_mae: 0.89 - took 0.0 sec\n",
            "Epoch 4/150  | val_loss: 1.11 - val_rmse: 1.05 - val_mae: 0.87 - took 0.0 sec\n",
            "Epoch 5/150  | val_loss: 1.09 - val_rmse: 1.04 - val_mae: 0.86 - took 0.0 sec\n",
            "Epoch 6/150  | val_loss: 1.07 - val_rmse: 1.04 - val_mae: 0.84 - took 0.0 sec\n",
            "Epoch 7/150  | val_loss: 1.06 - val_rmse: 1.03 - val_mae: 0.84 - took 0.0 sec\n",
            "Epoch 8/150  | val_loss: 1.05 - val_rmse: 1.02 - val_mae: 0.83 - took 0.0 sec\n",
            "Epoch 9/150  | val_loss: 1.04 - val_rmse: 1.02 - val_mae: 0.82 - took 0.0 sec\n",
            "Epoch 10/150 | val_loss: 1.03 - val_rmse: 1.01 - val_mae: 0.82 - took 0.0 sec\n",
            "Epoch 11/150 | val_loss: 1.02 - val_rmse: 1.01 - val_mae: 0.82 - took 0.0 sec\n",
            "Epoch 12/150 | val_loss: 1.01 - val_rmse: 1.01 - val_mae: 0.81 - took 0.0 sec\n",
            "Epoch 13/150 | val_loss: 1.01 - val_rmse: 1.00 - val_mae: 0.81 - took 0.0 sec\n",
            "Epoch 14/150 | val_loss: 1.00 - val_rmse: 1.00 - val_mae: 0.81 - took 0.0 sec\n",
            "Epoch 15/150 | val_loss: 1.00 - val_rmse: 1.00 - val_mae: 0.80 - took 0.0 sec\n",
            "Epoch 16/150 | val_loss: 1.00 - val_rmse: 1.00 - val_mae: 0.80 - took 0.0 sec\n",
            "Epoch 17/150 | val_loss: 0.99 - val_rmse: 1.00 - val_mae: 0.80 - took 0.0 sec\n",
            "Epoch 18/150 | val_loss: 0.99 - val_rmse: 0.99 - val_mae: 0.80 - took 0.0 sec\n",
            "Epoch 19/150 | val_loss: 0.99 - val_rmse: 0.99 - val_mae: 0.80 - took 0.0 sec\n",
            "Epoch 20/150 | val_loss: 0.98 - val_rmse: 0.99 - val_mae: 0.79 - took 0.0 sec\n",
            "Epoch 21/150 | val_loss: 0.98 - val_rmse: 0.99 - val_mae: 0.79 - took 0.0 sec\n",
            "Epoch 22/150 | val_loss: 0.98 - val_rmse: 0.99 - val_mae: 0.79 - took 0.0 sec\n",
            "Epoch 23/150 | val_loss: 0.98 - val_rmse: 0.99 - val_mae: 0.79 - took 0.0 sec\n",
            "Epoch 24/150 | val_loss: 0.97 - val_rmse: 0.99 - val_mae: 0.79 - took 0.0 sec\n",
            "Epoch 25/150 | val_loss: 0.97 - val_rmse: 0.99 - val_mae: 0.79 - took 0.0 sec\n",
            "\n",
            "Training took 0 sec\n",
            "Mae is 0.7931 and Rmse is 0.9906\n",
            "Training time is 0.0652 and Prediction time is 0.0242\n"
          ]
        }
      ],
      "source": [
        "# SVD \n",
        "svd_mae_m4_t2, svd_rmse_m4_t2, tt_svd_m4_t2, pt_svd_m4_t2 = Svd(X_train_timestamp_pruned_3, X_val_timestamp_pruned_3, X_test, y_test) "
      ]
    },
    {
      "cell_type": "code",
      "execution_count": 1446,
      "metadata": {
        "id": "BvTAES3KSHQO"
      },
      "outputs": [],
      "source": [
        "X_train_timestamp_pruned_3.drop(['rating'],axis = 1, inplace = True) "
      ]
    },
    {
      "cell_type": "code",
      "execution_count": 1447,
      "metadata": {
        "colab": {
          "base_uri": "https://localhost:8080/"
        },
        "id": "sXouuxTlSHQO",
        "outputId": "ba507005-fee3-4bd6-8f1d-4e82de3525f3"
      },
      "outputs": [
        {
          "name": "stdout",
          "output_type": "stream",
          "text": [
            "0.8698705864965915 1.0755860674712994\n"
          ]
        }
      ],
      "source": [
        "# Xgboost \n",
        "xb = XGBRegressor()\n",
        "xb.fit(X_train_timestamp_pruned_3, y_train_timestamp_pruned_3)\n",
        "xb_pred = xb.predict(X_test)\n",
        "xb_mae_m4_t2 =  mean_absolute_error(y_test, xb_pred)\n",
        "xb_rmse_m4_t2 =  mean_squared_error(y_test, xb_pred, squared = False)\n",
        "print(xb_mae_m4_t2, xb_rmse_m4_t2) \n"
      ]
    },
    {
      "cell_type": "code",
      "execution_count": 1448,
      "metadata": {
        "colab": {
          "base_uri": "https://localhost:8080/"
        },
        "id": "io5V0vEMSHQQ",
        "outputId": "035184d2-54af-4d23-d2f9-791d565b4f5d"
      },
      "outputs": [
        {
          "name": "stdout",
          "output_type": "stream",
          "text": [
            "The mae is 0.8389 and rmse is 1.0991\n",
            "Training time is 27.3693 and Prediction time is 0.6053\n"
          ]
        }
      ],
      "source": [
        "# Random Forest Regressor \n",
        "rf_mae_m4_t2, rf_rmse_m4_t2,tt_rf_m4_t2, pt_rf_m4_t2 = Random_Forest(X_train_timestamp_pruned, y_train_timestamp_pruned, X_test, y_test)"
      ]
    },
    {
      "attachments": {},
      "cell_type": "markdown",
      "metadata": {
        "id": "0zrnEMRo45X4"
      },
      "source": [
        "### Model five (M5) - Pruning users whose occupation is 'other'"
      ]
    },
    {
      "cell_type": "code",
      "execution_count": 1449,
      "metadata": {
        "id": "bu0aCR4OAMiB"
      },
      "outputs": [],
      "source": [
        "def prune_other(X_set, y_set):\n",
        "   X_train_other = pd.concat([X_set, y_set], axis = 1)\n",
        "   output = np.where(user_data['Occupation'] == 'other')\n",
        "   X_train_other1 = X_train_other[~X_train_other.u_id.isin(output[0])]\n",
        "   y_train_other1 = X_train_other1['rating']\n",
        "   return X_train_other1, y_train_other1 \n",
        "X_train_other, y_train_other = prune_other(X_train, y_train)"
      ]
    },
    {
      "cell_type": "code",
      "execution_count": 1450,
      "metadata": {
        "id": "uY-bnNAvDlcA"
      },
      "outputs": [],
      "source": [
        "# For validation set\n",
        "X_val_other, y_val_other = prune_other(X_val, y_val) "
      ]
    },
    {
      "attachments": {},
      "cell_type": "markdown",
      "metadata": {},
      "source": [
        "#### FunkSVD - M5"
      ]
    },
    {
      "cell_type": "code",
      "execution_count": 1451,
      "metadata": {
        "colab": {
          "base_uri": "https://localhost:8080/"
        },
        "id": "BGH__J2fDU8Q",
        "outputId": "6dc09531-1fae-4811-da56-776bcd2f0719"
      },
      "outputs": [
        {
          "name": "stdout",
          "output_type": "stream",
          "text": [
            "Preprocessing data...\n",
            "\n",
            "Preprocessing data...\n",
            "\n",
            "Epoch 1/150  | val_loss: 1.19 - val_rmse: 1.09 - val_mae: 0.91 - took 0.0 sec\n",
            "Epoch 2/150  | val_loss: 1.13 - val_rmse: 1.06 - val_mae: 0.88 - took 0.0 sec\n",
            "Epoch 3/150  | val_loss: 1.09 - val_rmse: 1.04 - val_mae: 0.86 - took 0.0 sec\n",
            "Epoch 4/150  | val_loss: 1.06 - val_rmse: 1.03 - val_mae: 0.84 - took 0.0 sec\n",
            "Epoch 5/150  | val_loss: 1.04 - val_rmse: 1.02 - val_mae: 0.83 - took 0.0 sec\n",
            "Epoch 6/150  | val_loss: 1.02 - val_rmse: 1.01 - val_mae: 0.82 - took 0.0 sec\n",
            "Epoch 7/150  | val_loss: 1.01 - val_rmse: 1.00 - val_mae: 0.81 - took 0.0 sec\n",
            "Epoch 8/150  | val_loss: 1.00 - val_rmse: 1.00 - val_mae: 0.80 - took 0.0 sec\n",
            "Epoch 9/150  | val_loss: 0.99 - val_rmse: 0.99 - val_mae: 0.80 - took 0.0 sec\n",
            "Epoch 10/150 | val_loss: 0.98 - val_rmse: 0.99 - val_mae: 0.79 - took 0.0 sec\n",
            "Epoch 11/150 | val_loss: 0.97 - val_rmse: 0.99 - val_mae: 0.79 - took 0.0 sec\n",
            "Epoch 12/150 | val_loss: 0.97 - val_rmse: 0.98 - val_mae: 0.79 - took 0.0 sec\n",
            "Epoch 13/150 | val_loss: 0.96 - val_rmse: 0.98 - val_mae: 0.78 - took 0.0 sec\n",
            "Epoch 14/150 | val_loss: 0.96 - val_rmse: 0.98 - val_mae: 0.78 - took 0.0 sec\n",
            "Epoch 15/150 | val_loss: 0.96 - val_rmse: 0.98 - val_mae: 0.78 - took 0.0 sec\n",
            "Epoch 16/150 | val_loss: 0.95 - val_rmse: 0.98 - val_mae: 0.78 - took 0.0 sec\n",
            "Epoch 17/150 | val_loss: 0.95 - val_rmse: 0.97 - val_mae: 0.77 - took 0.0 sec\n",
            "Epoch 18/150 | val_loss: 0.95 - val_rmse: 0.97 - val_mae: 0.77 - took 0.0 sec\n",
            "Epoch 19/150 | val_loss: 0.94 - val_rmse: 0.97 - val_mae: 0.77 - took 0.0 sec\n",
            "Epoch 20/150 | val_loss: 0.94 - val_rmse: 0.97 - val_mae: 0.77 - took 0.0 sec\n",
            "Epoch 21/150 | val_loss: 0.94 - val_rmse: 0.97 - val_mae: 0.77 - took 0.0 sec\n",
            "Epoch 22/150 | val_loss: 0.94 - val_rmse: 0.97 - val_mae: 0.77 - took 0.0 sec\n",
            "\n",
            "Training took 0 sec\n",
            "Mae is 0.7599 and Rmse is 0.9557\n",
            "Training time is 0.1045 and Prediction time is 0.0253\n"
          ]
        }
      ],
      "source": [
        "svd_mae_m5, svd_rmse_m5, tt_svd_m5, pt_svd_m5 = Svd(X_train_other, X_val_other, X_test, y_test) "
      ]
    },
    {
      "cell_type": "code",
      "execution_count": 1452,
      "metadata": {
        "id": "NyZc7eBOEDlP"
      },
      "outputs": [],
      "source": [
        "X_train_other.drop(['rating'], axis = 1, inplace = True)"
      ]
    },
    {
      "attachments": {},
      "cell_type": "markdown",
      "metadata": {},
      "source": [
        "#### XgBoost - M5"
      ]
    },
    {
      "cell_type": "code",
      "execution_count": 1453,
      "metadata": {
        "colab": {
          "base_uri": "https://localhost:8080/"
        },
        "id": "-sUhpG7RDU_w",
        "outputId": "fa113b53-3294-4bf2-eb44-dbad7a16859e"
      },
      "outputs": [
        {
          "name": "stdout",
          "output_type": "stream",
          "text": [
            "The mae is 0.7671 and rmse is 0.964\n",
            "Training time is 2.171 and Prediction time is 0.0071\n"
          ]
        }
      ],
      "source": [
        "xb_mae_m5, xb_rmse_m5, tt_xb_m5, pt_xb_m5 = XgBoost(X_train_other, y_train_other, X_test, y_test) "
      ]
    },
    {
      "attachments": {},
      "cell_type": "markdown",
      "metadata": {},
      "source": [
        "#### Random Forest Regressor - M5"
      ]
    },
    {
      "cell_type": "code",
      "execution_count": 1454,
      "metadata": {
        "colab": {
          "base_uri": "https://localhost:8080/"
        },
        "id": "tXZNCTzxDVF7",
        "outputId": "377ae94d-810a-44ed-eb37-ab8691a4937f"
      },
      "outputs": [
        {
          "name": "stdout",
          "output_type": "stream",
          "text": [
            "The mae is 0.8141 and rmse is 1.0498\n",
            "Training time is 37.4289 and Prediction time is 0.741\n"
          ]
        }
      ],
      "source": [
        "rf_mae_m5, rf_rmse_m5, tt_rf_m5, pt_rf_m5 = Random_Forest(X_train_other, y_train_other, X_test, y_test) "
      ]
    },
    {
      "attachments": {},
      "cell_type": "markdown",
      "metadata": {
        "id": "CTpHuLod6Ajd"
      },
      "source": [
        "### Random Pruning - M5"
      ]
    },
    {
      "cell_type": "code",
      "execution_count": 1455,
      "metadata": {
        "id": "lNB7R1QNehD0"
      },
      "outputs": [
        {
          "data": {
            "text/plain": [
              "8362"
            ]
          },
          "execution_count": 1455,
          "metadata": {},
          "output_type": "execute_result"
        }
      ],
      "source": [
        "n_m5 = difference(X_train, X_train_other) \n",
        "n_m5"
      ]
    },
    {
      "cell_type": "code",
      "execution_count": 1456,
      "metadata": {
        "id": "P9zuxt0-ehD1"
      },
      "outputs": [],
      "source": [
        "X_train_randomly_pruned5, y_train_randomly_pruned5 = random_pruning(X_train, y_train, n_m5,0) "
      ]
    },
    {
      "cell_type": "code",
      "execution_count": 1457,
      "metadata": {
        "colab": {
          "base_uri": "https://localhost:8080/"
        },
        "id": "U-ahB4CSehD1",
        "outputId": "da7af745-79d0-4a85-d926-4b0adc74e1b6"
      },
      "outputs": [
        {
          "data": {
            "text/plain": [
              "(68138, 4)"
            ]
          },
          "execution_count": 1457,
          "metadata": {},
          "output_type": "execute_result"
        }
      ],
      "source": [
        "X_train_randomly_pruned5.shape "
      ]
    },
    {
      "cell_type": "code",
      "execution_count": 1458,
      "metadata": {
        "id": "vELo-wsyehD1"
      },
      "outputs": [
        {
          "data": {
            "text/plain": [
              "1477"
            ]
          },
          "execution_count": 1458,
          "metadata": {},
          "output_type": "execute_result"
        }
      ],
      "source": [
        "n_v_m5 = difference(X_val, X_val_other) \n",
        "n_v_m5"
      ]
    },
    {
      "cell_type": "code",
      "execution_count": 1459,
      "metadata": {
        "id": "sT7Q3GzSehD1"
      },
      "outputs": [],
      "source": [
        "X_val_randomly_pruned5, y_val_randomly_pruned5 = random_pruning(X_val, y_val, n_v_m5,0)"
      ]
    },
    {
      "cell_type": "code",
      "execution_count": 1460,
      "metadata": {
        "colab": {
          "base_uri": "https://localhost:8080/"
        },
        "id": "0a3Cg90SehD2",
        "outputId": "14aec9ac-0eb4-4626-b0ad-f1d3522b77bb"
      },
      "outputs": [
        {
          "data": {
            "text/plain": [
              "(12023, 4)"
            ]
          },
          "execution_count": 1460,
          "metadata": {},
          "output_type": "execute_result"
        }
      ],
      "source": [
        "X_val_randomly_pruned5.shape "
      ]
    },
    {
      "cell_type": "code",
      "execution_count": 1461,
      "metadata": {
        "colab": {
          "base_uri": "https://localhost:8080/"
        },
        "id": "YeL3K5ZtehD2",
        "outputId": "f67b64a2-13d3-42c3-d12c-6176b1b74720"
      },
      "outputs": [
        {
          "name": "stdout",
          "output_type": "stream",
          "text": [
            "Preprocessing data...\n",
            "\n",
            "Preprocessing data...\n",
            "\n",
            "Epoch 1/150  | val_loss: 1.20 - val_rmse: 1.09 - val_mae: 0.92 - took 0.0 sec\n",
            "Epoch 2/150  | val_loss: 1.14 - val_rmse: 1.07 - val_mae: 0.89 - took 0.0 sec\n",
            "Epoch 3/150  | val_loss: 1.09 - val_rmse: 1.05 - val_mae: 0.86 - took 0.0 sec\n",
            "Epoch 4/150  | val_loss: 1.07 - val_rmse: 1.03 - val_mae: 0.85 - took 0.0 sec\n",
            "Epoch 5/150  | val_loss: 1.04 - val_rmse: 1.02 - val_mae: 0.83 - took 0.0 sec\n",
            "Epoch 6/150  | val_loss: 1.03 - val_rmse: 1.01 - val_mae: 0.82 - took 0.0 sec\n",
            "Epoch 7/150  | val_loss: 1.01 - val_rmse: 1.01 - val_mae: 0.81 - took 0.0 sec\n",
            "Epoch 8/150  | val_loss: 1.00 - val_rmse: 1.00 - val_mae: 0.81 - took 0.0 sec\n",
            "Epoch 9/150  | val_loss: 0.99 - val_rmse: 1.00 - val_mae: 0.80 - took 0.0 sec\n",
            "Epoch 10/150 | val_loss: 0.99 - val_rmse: 0.99 - val_mae: 0.80 - took 0.0 sec\n",
            "Epoch 11/150 | val_loss: 0.98 - val_rmse: 0.99 - val_mae: 0.79 - took 0.0 sec\n",
            "Epoch 12/150 | val_loss: 0.97 - val_rmse: 0.99 - val_mae: 0.79 - took 0.0 sec\n",
            "Epoch 13/150 | val_loss: 0.97 - val_rmse: 0.98 - val_mae: 0.79 - took 0.0 sec\n",
            "Epoch 14/150 | val_loss: 0.96 - val_rmse: 0.98 - val_mae: 0.78 - took 0.0 sec\n",
            "Epoch 15/150 | val_loss: 0.96 - val_rmse: 0.98 - val_mae: 0.78 - took 0.0 sec\n",
            "Epoch 16/150 | val_loss: 0.96 - val_rmse: 0.98 - val_mae: 0.78 - took 0.0 sec\n",
            "Epoch 17/150 | val_loss: 0.95 - val_rmse: 0.98 - val_mae: 0.78 - took 0.0 sec\n",
            "Epoch 18/150 | val_loss: 0.95 - val_rmse: 0.98 - val_mae: 0.78 - took 0.0 sec\n",
            "Epoch 19/150 | val_loss: 0.95 - val_rmse: 0.97 - val_mae: 0.77 - took 0.0 sec\n",
            "Epoch 20/150 | val_loss: 0.95 - val_rmse: 0.97 - val_mae: 0.77 - took 0.0 sec\n",
            "Epoch 21/150 | val_loss: 0.94 - val_rmse: 0.97 - val_mae: 0.77 - took 0.0 sec\n",
            "Epoch 22/150 | val_loss: 0.94 - val_rmse: 0.97 - val_mae: 0.77 - took 0.0 sec\n",
            "\n",
            "Training took 0 sec\n",
            "Mae is 0.755 and Rmse is 0.9501\n",
            "Training time is 0.0955 and Prediction time is 0.026\n"
          ]
        }
      ],
      "source": [
        "# SVD\n",
        "svd_mae_rp_m5, svd_rmse_rp_m5, tt_svd_rp_m5, pt_svd_rp_m5 = Svd(X_train_randomly_pruned5, X_val_randomly_pruned5, X_test, y_test) "
      ]
    },
    {
      "cell_type": "code",
      "execution_count": 1462,
      "metadata": {
        "id": "cmjw_UP7ehD2"
      },
      "outputs": [],
      "source": [
        "X_train_randomly_pruned5.drop(['rating'], axis = 1, inplace = True)"
      ]
    },
    {
      "cell_type": "code",
      "execution_count": 1463,
      "metadata": {
        "colab": {
          "base_uri": "https://localhost:8080/"
        },
        "id": "pzm3r7vCehD2",
        "outputId": "c9c5d51b-0c0f-4af3-c4cc-3ed7b57f6183"
      },
      "outputs": [
        {
          "name": "stdout",
          "output_type": "stream",
          "text": [
            "The mae is 0.7552 and rmse is 0.9506\n",
            "Training time is 2.2218 and Prediction time is 0.0073\n"
          ]
        }
      ],
      "source": [
        "# XgBoost\n",
        "xb_mae_rp_m5, xb_rmse_rp_m5, tt_xb_rp_m5, pt_xb_rp_m5 = XgBoost(X_train_randomly_pruned5, y_train_randomly_pruned5, X_test, y_test) "
      ]
    },
    {
      "cell_type": "code",
      "execution_count": 1464,
      "metadata": {
        "colab": {
          "base_uri": "https://localhost:8080/"
        },
        "id": "yL7ZpSO2ehD2",
        "outputId": "242b038e-7480-4cba-b827-ee47a23a9284"
      },
      "outputs": [
        {
          "name": "stdout",
          "output_type": "stream",
          "text": [
            "The mae is 0.8119 and rmse is 1.044\n",
            "Training time is 38.1437 and Prediction time is 0.7474\n"
          ]
        }
      ],
      "source": [
        "# Random Forest Regressor\n",
        "rf_mae_rp_m5, rf_rmse_rp_m5, tt_rf_rp_m5, pt_rf_rp_m5 = Random_Forest(X_train_randomly_pruned5, y_train_randomly_pruned5, X_test, y_test) "
      ]
    },
    {
      "attachments": {},
      "cell_type": "markdown",
      "metadata": {
        "id": "HjkMTml85B7W"
      },
      "source": [
        "### Model Six (M6) - Pruning users whose age is less than 18"
      ]
    },
    {
      "cell_type": "code",
      "execution_count": 1465,
      "metadata": {
        "id": "J7UNGzwmCaaE"
      },
      "outputs": [],
      "source": [
        "def prune_less_than_18(X_set, y_set, n):\n",
        "   X_train_other = pd.concat([X_set, y_set], axis = 1)\n",
        "   output = np.where(user_data['Age'] < n)\n",
        "   X_train_age = X_train_other[~X_train_other.u_id.isin(output[0])]\n",
        "   y_train_age = X_train_age['rating']\n",
        "   return X_train_age, y_train_age\n",
        "n = 18 \n",
        "X_train_18, y_train_18 = prune_less_than_18(X_train, y_train, n)"
      ]
    },
    {
      "cell_type": "code",
      "execution_count": 1466,
      "metadata": {
        "colab": {
          "base_uri": "https://localhost:8080/"
        },
        "id": "mx3n5-Bb5Ytj",
        "outputId": "796e4846-4183-40fa-f5b6-656ff8732aeb"
      },
      "outputs": [
        {
          "data": {
            "text/plain": [
              "(73155, 4)"
            ]
          },
          "execution_count": 1466,
          "metadata": {},
          "output_type": "execute_result"
        }
      ],
      "source": [
        "X_train_18.shape "
      ]
    },
    {
      "cell_type": "code",
      "execution_count": 1467,
      "metadata": {
        "colab": {
          "base_uri": "https://localhost:8080/"
        },
        "id": "4qq1xrihwvCq",
        "outputId": "fda6bf4f-6319-499b-e665-192589a15e6e"
      },
      "outputs": [
        {
          "data": {
            "text/plain": [
              "(76500, 3)"
            ]
          },
          "execution_count": 1467,
          "metadata": {},
          "output_type": "execute_result"
        }
      ],
      "source": [
        "X_train.shape"
      ]
    },
    {
      "cell_type": "code",
      "execution_count": 1468,
      "metadata": {
        "id": "-nbvGKLrEeti"
      },
      "outputs": [],
      "source": [
        "# For validation set \n",
        "X_val_18, y_val_18 = prune_less_than_18(X_val, y_val, n) "
      ]
    },
    {
      "attachments": {},
      "cell_type": "markdown",
      "metadata": {},
      "source": [
        "#### FunkSVD - M6"
      ]
    },
    {
      "cell_type": "code",
      "execution_count": 1470,
      "metadata": {
        "colab": {
          "base_uri": "https://localhost:8080/"
        },
        "id": "23Y9XLGcEetj",
        "outputId": "e9373e41-d762-4da6-a3b1-985d5d3322c5"
      },
      "outputs": [
        {
          "name": "stdout",
          "output_type": "stream",
          "text": [
            "Preprocessing data...\n",
            "\n",
            "Preprocessing data...\n",
            "\n",
            "Epoch 1/150  | val_loss: 1.19 - val_rmse: 1.09 - val_mae: 0.91 - took 0.0 sec\n",
            "Epoch 2/150  | val_loss: 1.13 - val_rmse: 1.06 - val_mae: 0.88 - took 0.0 sec\n",
            "Epoch 3/150  | val_loss: 1.09 - val_rmse: 1.04 - val_mae: 0.86 - took 0.0 sec\n",
            "Epoch 4/150  | val_loss: 1.06 - val_rmse: 1.03 - val_mae: 0.84 - took 0.0 sec\n",
            "Epoch 5/150  | val_loss: 1.04 - val_rmse: 1.02 - val_mae: 0.83 - took 0.0 sec\n",
            "Epoch 6/150  | val_loss: 1.02 - val_rmse: 1.01 - val_mae: 0.82 - took 0.0 sec\n",
            "Epoch 7/150  | val_loss: 1.01 - val_rmse: 1.00 - val_mae: 0.81 - took 0.0 sec\n",
            "Epoch 8/150  | val_loss: 1.00 - val_rmse: 1.00 - val_mae: 0.80 - took 0.0 sec\n",
            "Epoch 9/150  | val_loss: 0.99 - val_rmse: 0.99 - val_mae: 0.80 - took 0.0 sec\n",
            "Epoch 10/150 | val_loss: 0.98 - val_rmse: 0.99 - val_mae: 0.79 - took 0.0 sec\n",
            "Epoch 11/150 | val_loss: 0.98 - val_rmse: 0.99 - val_mae: 0.79 - took 0.0 sec\n",
            "Epoch 12/150 | val_loss: 0.97 - val_rmse: 0.98 - val_mae: 0.79 - took 0.0 sec\n",
            "Epoch 13/150 | val_loss: 0.97 - val_rmse: 0.98 - val_mae: 0.78 - took 0.0 sec\n",
            "Epoch 14/150 | val_loss: 0.96 - val_rmse: 0.98 - val_mae: 0.78 - took 0.0 sec\n",
            "Epoch 15/150 | val_loss: 0.96 - val_rmse: 0.98 - val_mae: 0.78 - took 0.0 sec\n",
            "Epoch 16/150 | val_loss: 0.95 - val_rmse: 0.98 - val_mae: 0.78 - took 0.0 sec\n",
            "Epoch 17/150 | val_loss: 0.95 - val_rmse: 0.98 - val_mae: 0.78 - took 0.0 sec\n",
            "Epoch 18/150 | val_loss: 0.95 - val_rmse: 0.97 - val_mae: 0.77 - took 0.0 sec\n",
            "Epoch 19/150 | val_loss: 0.95 - val_rmse: 0.97 - val_mae: 0.77 - took 0.0 sec\n",
            "Epoch 20/150 | val_loss: 0.94 - val_rmse: 0.97 - val_mae: 0.77 - took 0.0 sec\n",
            "Epoch 21/150 | val_loss: 0.94 - val_rmse: 0.97 - val_mae: 0.77 - took 0.0 sec\n",
            "Epoch 22/150 | val_loss: 0.94 - val_rmse: 0.97 - val_mae: 0.77 - took 0.0 sec\n",
            "\n",
            "Training took 0 sec\n",
            "Mae is 0.7544 and Rmse is 0.9497\n",
            "Training time is 0.104 and Prediction time is 0.0254\n"
          ]
        }
      ],
      "source": [
        "svd_mae_m6, svd_rmse_m6, tt_svd_m6, pt_svd_m6 = Svd(X_train_18, X_val_18, X_test, y_test) "
      ]
    },
    {
      "cell_type": "code",
      "execution_count": 1471,
      "metadata": {
        "id": "Cf4XZQOvEetk"
      },
      "outputs": [],
      "source": [
        "X_train_18.drop(['rating'], axis = 1, inplace = True)"
      ]
    },
    {
      "attachments": {},
      "cell_type": "markdown",
      "metadata": {},
      "source": [
        "#### XgBoost - M6"
      ]
    },
    {
      "cell_type": "code",
      "execution_count": 1472,
      "metadata": {
        "colab": {
          "base_uri": "https://localhost:8080/"
        },
        "id": "L8BAIItFEetk",
        "outputId": "b8eae22f-daf6-4c72-8636-00fd8828884d"
      },
      "outputs": [
        {
          "name": "stdout",
          "output_type": "stream",
          "text": [
            "The mae is 0.762 and rmse is 0.9572\n",
            "Training time is 2.3404 and Prediction time is 0.0088\n"
          ]
        }
      ],
      "source": [
        "xb_mae_m6, xb_rmse_m6, tt_xb_m6, pt_xb_m6 = XgBoost(X_train_18, y_train_18, X_test, y_test) "
      ]
    },
    {
      "attachments": {},
      "cell_type": "markdown",
      "metadata": {},
      "source": [
        "#### Random Forest Regressor  - M6"
      ]
    },
    {
      "cell_type": "code",
      "execution_count": 1629,
      "metadata": {
        "id": "m0hRe_oEEetl"
      },
      "outputs": [
        {
          "name": "stdout",
          "output_type": "stream",
          "text": [
            "The mae is 0.813 and rmse is 1.0423\n",
            "Training time is 41.751 and Prediction time is 0.9305\n"
          ]
        }
      ],
      "source": [
        "rf_mae_m6, rf_rmse_m6, tt_rf_m6, pt_rf_m6 = Random_Forest(X_train_18, y_train_18, X_test, y_test) "
      ]
    },
    {
      "attachments": {},
      "cell_type": "markdown",
      "metadata": {
        "id": "CTpHuLod6Ajd"
      },
      "source": [
        "### Random Pruning - M6"
      ]
    },
    {
      "cell_type": "code",
      "execution_count": 1630,
      "metadata": {
        "id": "lNB7R1QNehD0"
      },
      "outputs": [
        {
          "data": {
            "text/plain": [
              "3345"
            ]
          },
          "execution_count": 1630,
          "metadata": {},
          "output_type": "execute_result"
        }
      ],
      "source": [
        "n_m6 = difference(X_train, X_train_18) \n",
        "n_m6"
      ]
    },
    {
      "cell_type": "code",
      "execution_count": 1631,
      "metadata": {
        "id": "P9zuxt0-ehD1"
      },
      "outputs": [],
      "source": [
        "X_train_randomly_pruned6, y_train_randomly_pruned6 = random_pruning(X_train, y_train, n_m6,0) "
      ]
    },
    {
      "cell_type": "code",
      "execution_count": 1632,
      "metadata": {
        "colab": {
          "base_uri": "https://localhost:8080/"
        },
        "id": "U-ahB4CSehD1",
        "outputId": "da7af745-79d0-4a85-d926-4b0adc74e1b6"
      },
      "outputs": [
        {
          "data": {
            "text/plain": [
              "(73155, 4)"
            ]
          },
          "execution_count": 1632,
          "metadata": {},
          "output_type": "execute_result"
        }
      ],
      "source": [
        "X_train_randomly_pruned6.shape "
      ]
    },
    {
      "cell_type": "code",
      "execution_count": 1633,
      "metadata": {
        "id": "vELo-wsyehD1"
      },
      "outputs": [
        {
          "data": {
            "text/plain": [
              "581"
            ]
          },
          "execution_count": 1633,
          "metadata": {},
          "output_type": "execute_result"
        }
      ],
      "source": [
        "n_v_m6 = difference(X_val, X_val_18) \n",
        "n_v_m6"
      ]
    },
    {
      "cell_type": "code",
      "execution_count": 1634,
      "metadata": {
        "id": "sT7Q3GzSehD1"
      },
      "outputs": [],
      "source": [
        "X_val_randomly_pruned6, y_val_randomly_pruned6 = random_pruning(X_val, y_val, n_v_m6,0)"
      ]
    },
    {
      "cell_type": "code",
      "execution_count": 1635,
      "metadata": {
        "colab": {
          "base_uri": "https://localhost:8080/"
        },
        "id": "0a3Cg90SehD2",
        "outputId": "14aec9ac-0eb4-4626-b0ad-f1d3522b77bb"
      },
      "outputs": [
        {
          "data": {
            "text/plain": [
              "(12919, 4)"
            ]
          },
          "execution_count": 1635,
          "metadata": {},
          "output_type": "execute_result"
        }
      ],
      "source": [
        "X_val_randomly_pruned6.shape "
      ]
    },
    {
      "cell_type": "code",
      "execution_count": 1636,
      "metadata": {
        "colab": {
          "base_uri": "https://localhost:8080/"
        },
        "id": "YeL3K5ZtehD2",
        "outputId": "f67b64a2-13d3-42c3-d12c-6176b1b74720"
      },
      "outputs": [
        {
          "name": "stdout",
          "output_type": "stream",
          "text": [
            "Preprocessing data...\n",
            "\n",
            "Preprocessing data...\n",
            "\n",
            "Epoch 1/150  | val_loss: 1.19 - val_rmse: 1.09 - val_mae: 0.92 - took 0.0 sec\n",
            "Epoch 2/150  | val_loss: 1.13 - val_rmse: 1.06 - val_mae: 0.88 - took 0.0 sec\n",
            "Epoch 3/150  | val_loss: 1.09 - val_rmse: 1.04 - val_mae: 0.86 - took 0.0 sec\n",
            "Epoch 4/150  | val_loss: 1.06 - val_rmse: 1.03 - val_mae: 0.84 - took 0.0 sec\n",
            "Epoch 5/150  | val_loss: 1.04 - val_rmse: 1.02 - val_mae: 0.83 - took 0.0 sec\n",
            "Epoch 6/150  | val_loss: 1.02 - val_rmse: 1.01 - val_mae: 0.82 - took 0.0 sec\n",
            "Epoch 7/150  | val_loss: 1.01 - val_rmse: 1.01 - val_mae: 0.81 - took 0.0 sec\n",
            "Epoch 8/150  | val_loss: 1.00 - val_rmse: 1.00 - val_mae: 0.80 - took 0.0 sec\n",
            "Epoch 9/150  | val_loss: 0.99 - val_rmse: 1.00 - val_mae: 0.80 - took 0.0 sec\n",
            "Epoch 10/150 | val_loss: 0.98 - val_rmse: 0.99 - val_mae: 0.79 - took 0.0 sec\n",
            "Epoch 11/150 | val_loss: 0.98 - val_rmse: 0.99 - val_mae: 0.79 - took 0.0 sec\n",
            "Epoch 12/150 | val_loss: 0.97 - val_rmse: 0.99 - val_mae: 0.79 - took 0.0 sec\n",
            "Epoch 13/150 | val_loss: 0.97 - val_rmse: 0.98 - val_mae: 0.79 - took 0.0 sec\n",
            "Epoch 14/150 | val_loss: 0.96 - val_rmse: 0.98 - val_mae: 0.78 - took 0.0 sec\n",
            "Epoch 15/150 | val_loss: 0.96 - val_rmse: 0.98 - val_mae: 0.78 - took 0.0 sec\n",
            "Epoch 16/150 | val_loss: 0.96 - val_rmse: 0.98 - val_mae: 0.78 - took 0.0 sec\n",
            "Epoch 17/150 | val_loss: 0.95 - val_rmse: 0.98 - val_mae: 0.78 - took 0.0 sec\n",
            "Epoch 18/150 | val_loss: 0.95 - val_rmse: 0.98 - val_mae: 0.78 - took 0.0 sec\n",
            "Epoch 19/150 | val_loss: 0.95 - val_rmse: 0.97 - val_mae: 0.77 - took 0.0 sec\n",
            "Epoch 20/150 | val_loss: 0.95 - val_rmse: 0.97 - val_mae: 0.77 - took 0.0 sec\n",
            "Epoch 21/150 | val_loss: 0.94 - val_rmse: 0.97 - val_mae: 0.77 - took 0.0 sec\n",
            "Epoch 22/150 | val_loss: 0.94 - val_rmse: 0.97 - val_mae: 0.77 - took 0.0 sec\n",
            "\n",
            "Training took 0 sec\n",
            "Mae is 0.7532 and Rmse is 0.948\n",
            "Training time is 0.1145 and Prediction time is 0.0268\n"
          ]
        }
      ],
      "source": [
        "# SVD\n",
        "svd_mae_rp_m6, svd_rmse_rp_m6, tt_svd_rp_m6, pt_svd_rp_m6 = Svd(X_train_randomly_pruned6, X_val_randomly_pruned6, X_test, y_test) "
      ]
    },
    {
      "cell_type": "code",
      "execution_count": 1637,
      "metadata": {
        "id": "cmjw_UP7ehD2"
      },
      "outputs": [],
      "source": [
        "X_train_randomly_pruned6.drop(['rating'], axis = 1, inplace = True)"
      ]
    },
    {
      "cell_type": "code",
      "execution_count": 1638,
      "metadata": {
        "colab": {
          "base_uri": "https://localhost:8080/"
        },
        "id": "pzm3r7vCehD2",
        "outputId": "c9c5d51b-0c0f-4af3-c4cc-3ed7b57f6183"
      },
      "outputs": [
        {
          "name": "stdout",
          "output_type": "stream",
          "text": [
            "The mae is 0.7584 and rmse is 0.9531\n",
            "Training time is 2.8049 and Prediction time is 0.0274\n"
          ]
        }
      ],
      "source": [
        "# XgBoost\n",
        "xb_mae_rp_m6, xb_rmse_rp_m6, tt_xb_rp_m6, pt_xb_rp_m6 = XgBoost(X_train_randomly_pruned6, y_train_randomly_pruned6, X_test, y_test) "
      ]
    },
    {
      "cell_type": "code",
      "execution_count": 1639,
      "metadata": {
        "colab": {
          "base_uri": "https://localhost:8080/"
        },
        "id": "yL7ZpSO2ehD2",
        "outputId": "242b038e-7480-4cba-b827-ee47a23a9284"
      },
      "outputs": [
        {
          "name": "stdout",
          "output_type": "stream",
          "text": [
            "The mae is 0.8125 and rmse is 1.045\n",
            "Training time is 40.7549 and Prediction time is 0.8327\n"
          ]
        }
      ],
      "source": [
        "# Random Forest Regressor\n",
        "rf_mae_rp_m6, rf_rmse_rp_m6, tt_rf_rp_m6, pt_rf_rp_m6 = Random_Forest(X_train_randomly_pruned6, y_train_randomly_pruned6, X_test, y_test) "
      ]
    },
    {
      "attachments": {},
      "cell_type": "markdown",
      "metadata": {},
      "source": [
        "### Model Seven(M7) - Pruning users who have rated 1 or 5 more than twice of other ratings(2,3,4)"
      ]
    },
    {
      "cell_type": "code",
      "execution_count": 1587,
      "metadata": {},
      "outputs": [],
      "source": [
        "def pruning_twice_more(X_set, y_set, n):\n",
        "    X_train_twice = pd.concat([X_set, y_set], axis = 1) \n",
        "    X_train_twice1 = X_train_twice.groupby(['u_id','rating'])['rating'].count()\n",
        "    X_train_twice1 = X_train_twice1.unstack(level=-1)\n",
        "    X_train_twice1.columns = ['rating_1','rating_2','rating_3','rating_4','rating_5']\n",
        "    X_train_twice1 = X_train_twice1.reset_index()\n",
        "    X_train_twice1 = X_train_twice1.fillna(0).astype({\"rating_1\":\"int\",\"rating_2\":\"int\",\"rating_3\":\"int\",\"rating_4\":\"int\", \"rating_5\":\"int\"})\n",
        "    # Select rows where rating_1 is at least twice as large as the other rating columns\n",
        "    df_filtered_1 = X_train_twice1[X_train_twice1['rating_1'] >= n*(X_train_twice1[['rating_2', 'rating_3', 'rating_4', 'rating_5']]).max(axis=1)]\n",
        "    # Select rows where rating_5 is at least twice as large as the other rating columns\n",
        "    df_filtered_5 = X_train_twice1[X_train_twice1['rating_5'] >= n*(X_train_twice1[['rating_2', 'rating_3', 'rating_4', 'rating_1']]).max(axis=1)] \n",
        "    u_id_values_rating1 = list(df_filtered_1['u_id'])\n",
        "    u_id_values_rating5 = list(df_filtered_5['u_id'])\n",
        "    # X_train_pruned_twice = pd.concat([X_train, y_train], axis = 1) \n",
        "    # Pruning the data where u_id is same as the values in u_id_values_rating1 and u_id_values_rating5\n",
        "    X_train_pruned_twice = X_train_twice[~X_train_twice.u_id.isin(u_id_values_rating1)]\n",
        "    X_train_pruned_twice_X = X_train_pruned_twice[~X_train_pruned_twice.u_id.isin(u_id_values_rating5)] \n",
        "    X_train_pruned_twice_y = X_train_pruned_twice_X['rating']\n",
        "    return X_train_pruned_twice_X, X_train_pruned_twice_y\n",
        "\n",
        "X_train_pruned_twice_X, X_train_pruned_twice_y = pruning_twice_more(X_train, y_train, 2) "
      ]
    },
    {
      "cell_type": "code",
      "execution_count": 1588,
      "metadata": {},
      "outputs": [
        {
          "data": {
            "text/plain": [
              "(76500, 3)"
            ]
          },
          "execution_count": 1588,
          "metadata": {},
          "output_type": "execute_result"
        }
      ],
      "source": [
        "X_train.shape "
      ]
    },
    {
      "cell_type": "code",
      "execution_count": 1589,
      "metadata": {},
      "outputs": [
        {
          "data": {
            "text/plain": [
              "(72683, 4)"
            ]
          },
          "execution_count": 1589,
          "metadata": {},
          "output_type": "execute_result"
        }
      ],
      "source": [
        "X_train_pruned_twice_X.shape"
      ]
    },
    {
      "cell_type": "code",
      "execution_count": 1590,
      "metadata": {},
      "outputs": [],
      "source": [
        "# pruning validation set\n",
        "X_val_pruned_twice_X, X_val_pruned_twice_y = pruning_twice_more(X_val, y_val, 2)"
      ]
    },
    {
      "attachments": {},
      "cell_type": "markdown",
      "metadata": {},
      "source": [
        "#### FunkSVD - M7"
      ]
    },
    {
      "cell_type": "code",
      "execution_count": 1591,
      "metadata": {},
      "outputs": [
        {
          "name": "stdout",
          "output_type": "stream",
          "text": [
            "Preprocessing data...\n",
            "\n",
            "Preprocessing data...\n",
            "\n",
            "Epoch 1/150  | val_loss: 1.14 - val_rmse: 1.07 - val_mae: 0.89 - took 0.0 sec\n",
            "Epoch 2/150  | val_loss: 1.09 - val_rmse: 1.04 - val_mae: 0.86 - took 0.0 sec\n",
            "Epoch 3/150  | val_loss: 1.05 - val_rmse: 1.03 - val_mae: 0.84 - took 0.0 sec\n",
            "Epoch 4/150  | val_loss: 1.03 - val_rmse: 1.01 - val_mae: 0.82 - took 0.0 sec\n",
            "Epoch 5/150  | val_loss: 1.01 - val_rmse: 1.00 - val_mae: 0.81 - took 0.0 sec\n",
            "Epoch 6/150  | val_loss: 1.00 - val_rmse: 1.00 - val_mae: 0.80 - took 0.0 sec\n",
            "Epoch 7/150  | val_loss: 0.98 - val_rmse: 0.99 - val_mae: 0.79 - took 0.0 sec\n",
            "Epoch 8/150  | val_loss: 0.97 - val_rmse: 0.99 - val_mae: 0.79 - took 0.0 sec\n",
            "Epoch 9/150  | val_loss: 0.97 - val_rmse: 0.98 - val_mae: 0.78 - took 0.0 sec\n",
            "Epoch 10/150 | val_loss: 0.96 - val_rmse: 0.98 - val_mae: 0.78 - took 0.0 sec\n",
            "Epoch 11/150 | val_loss: 0.95 - val_rmse: 0.98 - val_mae: 0.78 - took 0.0 sec\n",
            "Epoch 12/150 | val_loss: 0.95 - val_rmse: 0.97 - val_mae: 0.77 - took 0.0 sec\n",
            "Epoch 13/150 | val_loss: 0.94 - val_rmse: 0.97 - val_mae: 0.77 - took 0.0 sec\n",
            "Epoch 14/150 | val_loss: 0.94 - val_rmse: 0.97 - val_mae: 0.77 - took 0.0 sec\n",
            "Epoch 15/150 | val_loss: 0.94 - val_rmse: 0.97 - val_mae: 0.77 - took 0.0 sec\n",
            "Epoch 16/150 | val_loss: 0.93 - val_rmse: 0.97 - val_mae: 0.77 - took 0.0 sec\n",
            "Epoch 17/150 | val_loss: 0.93 - val_rmse: 0.97 - val_mae: 0.76 - took 0.0 sec\n",
            "Epoch 18/150 | val_loss: 0.93 - val_rmse: 0.96 - val_mae: 0.76 - took 0.0 sec\n",
            "Epoch 19/150 | val_loss: 0.93 - val_rmse: 0.96 - val_mae: 0.76 - took 0.0 sec\n",
            "Epoch 20/150 | val_loss: 0.92 - val_rmse: 0.96 - val_mae: 0.76 - took 0.0 sec\n",
            "Epoch 21/150 | val_loss: 0.92 - val_rmse: 0.96 - val_mae: 0.76 - took 0.0 sec\n",
            "\n",
            "Training took 0 sec\n",
            "Mae is 0.7752 and Rmse is 0.9764\n",
            "Training time is 0.1029 and Prediction time is 0.0289\n"
          ]
        }
      ],
      "source": [
        "svd_mae_m7, svd_rmse_m7, tt_svd_m7, pt_svd_m7  = Svd(X_train_pruned_twice_X, X_val_pruned_twice_X, X_test, y_test) "
      ]
    },
    {
      "cell_type": "code",
      "execution_count": 1592,
      "metadata": {},
      "outputs": [],
      "source": [
        "X_train_pruned_twice_X.drop(['rating'], axis = 1, inplace = True)"
      ]
    },
    {
      "attachments": {},
      "cell_type": "markdown",
      "metadata": {},
      "source": [
        "#### XgBoost - M7"
      ]
    },
    {
      "cell_type": "code",
      "execution_count": 1593,
      "metadata": {},
      "outputs": [
        {
          "name": "stdout",
          "output_type": "stream",
          "text": [
            "The mae is 0.7799 and rmse is 0.9798\n",
            "Training time is 2.6696 and Prediction time is 0.0097\n"
          ]
        }
      ],
      "source": [
        "xb_mae_m7, xb_rmse_m7, tt_xb_m7, pt_xb_m7 = XgBoost(X_train_pruned_twice_X, X_train_pruned_twice_y, X_test, y_test)"
      ]
    },
    {
      "attachments": {},
      "cell_type": "markdown",
      "metadata": {},
      "source": [
        "#### Random Forest Regressor - M7"
      ]
    },
    {
      "cell_type": "code",
      "execution_count": 1594,
      "metadata": {},
      "outputs": [
        {
          "name": "stdout",
          "output_type": "stream",
          "text": [
            "The mae is 0.8259 and rmse is 1.0742\n",
            "Training time is 41.6053 and Prediction time is 0.9788\n"
          ]
        }
      ],
      "source": [
        "rf_mae_m7, rf_rmse_m7, tt_rf_m7, pt_rf_m7 = Random_Forest(X_train_pruned_twice_X, X_train_pruned_twice_y, X_test, y_test) "
      ]
    },
    {
      "attachments": {},
      "cell_type": "markdown",
      "metadata": {
        "id": "CTpHuLod6Ajd"
      },
      "source": [
        "### Random Pruning - M7"
      ]
    },
    {
      "cell_type": "code",
      "execution_count": 1595,
      "metadata": {
        "id": "lNB7R1QNehD0"
      },
      "outputs": [
        {
          "data": {
            "text/plain": [
              "3817"
            ]
          },
          "execution_count": 1595,
          "metadata": {},
          "output_type": "execute_result"
        }
      ],
      "source": [
        "n_m7 = difference(X_train, X_train_pruned_twice_X) \n",
        "n_m7"
      ]
    },
    {
      "cell_type": "code",
      "execution_count": 1596,
      "metadata": {
        "id": "P9zuxt0-ehD1"
      },
      "outputs": [],
      "source": [
        "X_train_randomly_pruned7, y_train_randomly_pruned7 = random_pruning(X_train, y_train, n_m7,0) "
      ]
    },
    {
      "cell_type": "code",
      "execution_count": 1597,
      "metadata": {
        "colab": {
          "base_uri": "https://localhost:8080/"
        },
        "id": "U-ahB4CSehD1",
        "outputId": "da7af745-79d0-4a85-d926-4b0adc74e1b6"
      },
      "outputs": [
        {
          "data": {
            "text/plain": [
              "(72683, 4)"
            ]
          },
          "execution_count": 1597,
          "metadata": {},
          "output_type": "execute_result"
        }
      ],
      "source": [
        "X_train_randomly_pruned7.shape "
      ]
    },
    {
      "cell_type": "code",
      "execution_count": 1598,
      "metadata": {
        "id": "vELo-wsyehD1"
      },
      "outputs": [
        {
          "data": {
            "text/plain": [
              "1042"
            ]
          },
          "execution_count": 1598,
          "metadata": {},
          "output_type": "execute_result"
        }
      ],
      "source": [
        "n_v_m7 = difference(X_val, X_val_pruned_twice_X) \n",
        "n_v_m7"
      ]
    },
    {
      "cell_type": "code",
      "execution_count": 1599,
      "metadata": {
        "id": "sT7Q3GzSehD1"
      },
      "outputs": [],
      "source": [
        "X_val_randomly_pruned7, y_val_randomly_pruned7 = random_pruning(X_val, y_val, n_v_m7,0)"
      ]
    },
    {
      "cell_type": "code",
      "execution_count": 1600,
      "metadata": {
        "colab": {
          "base_uri": "https://localhost:8080/"
        },
        "id": "0a3Cg90SehD2",
        "outputId": "14aec9ac-0eb4-4626-b0ad-f1d3522b77bb"
      },
      "outputs": [
        {
          "data": {
            "text/plain": [
              "(12458, 4)"
            ]
          },
          "execution_count": 1600,
          "metadata": {},
          "output_type": "execute_result"
        }
      ],
      "source": [
        "X_val_randomly_pruned7.shape "
      ]
    },
    {
      "cell_type": "code",
      "execution_count": 1601,
      "metadata": {
        "colab": {
          "base_uri": "https://localhost:8080/"
        },
        "id": "YeL3K5ZtehD2",
        "outputId": "f67b64a2-13d3-42c3-d12c-6176b1b74720"
      },
      "outputs": [
        {
          "name": "stdout",
          "output_type": "stream",
          "text": [
            "Preprocessing data...\n",
            "\n",
            "Preprocessing data...\n",
            "\n",
            "Epoch 1/150  | val_loss: 1.20 - val_rmse: 1.09 - val_mae: 0.92 - took 0.0 sec\n",
            "Epoch 2/150  | val_loss: 1.14 - val_rmse: 1.07 - val_mae: 0.89 - took 0.0 sec\n",
            "Epoch 3/150  | val_loss: 1.09 - val_rmse: 1.05 - val_mae: 0.86 - took 0.0 sec\n",
            "Epoch 4/150  | val_loss: 1.06 - val_rmse: 1.03 - val_mae: 0.84 - took 0.0 sec\n",
            "Epoch 5/150  | val_loss: 1.04 - val_rmse: 1.02 - val_mae: 0.83 - took 0.0 sec\n",
            "Epoch 6/150  | val_loss: 1.03 - val_rmse: 1.01 - val_mae: 0.82 - took 0.0 sec\n",
            "Epoch 7/150  | val_loss: 1.01 - val_rmse: 1.01 - val_mae: 0.81 - took 0.0 sec\n",
            "Epoch 8/150  | val_loss: 1.00 - val_rmse: 1.00 - val_mae: 0.81 - took 0.0 sec\n",
            "Epoch 9/150  | val_loss: 0.99 - val_rmse: 1.00 - val_mae: 0.80 - took 0.0 sec\n",
            "Epoch 10/150 | val_loss: 0.99 - val_rmse: 0.99 - val_mae: 0.80 - took 0.0 sec\n",
            "Epoch 11/150 | val_loss: 0.98 - val_rmse: 0.99 - val_mae: 0.79 - took 0.0 sec\n",
            "Epoch 12/150 | val_loss: 0.97 - val_rmse: 0.99 - val_mae: 0.79 - took 0.0 sec\n",
            "Epoch 13/150 | val_loss: 0.97 - val_rmse: 0.98 - val_mae: 0.79 - took 0.0 sec\n",
            "Epoch 14/150 | val_loss: 0.97 - val_rmse: 0.98 - val_mae: 0.78 - took 0.0 sec\n",
            "Epoch 15/150 | val_loss: 0.96 - val_rmse: 0.98 - val_mae: 0.78 - took 0.0 sec\n",
            "Epoch 16/150 | val_loss: 0.96 - val_rmse: 0.98 - val_mae: 0.78 - took 0.0 sec\n",
            "Epoch 17/150 | val_loss: 0.96 - val_rmse: 0.98 - val_mae: 0.78 - took 0.0 sec\n",
            "Epoch 18/150 | val_loss: 0.95 - val_rmse: 0.98 - val_mae: 0.78 - took 0.0 sec\n",
            "Epoch 19/150 | val_loss: 0.95 - val_rmse: 0.97 - val_mae: 0.77 - took 0.0 sec\n",
            "Epoch 20/150 | val_loss: 0.95 - val_rmse: 0.97 - val_mae: 0.77 - took 0.0 sec\n",
            "Epoch 21/150 | val_loss: 0.95 - val_rmse: 0.97 - val_mae: 0.77 - took 0.0 sec\n",
            "Epoch 22/150 | val_loss: 0.94 - val_rmse: 0.97 - val_mae: 0.77 - took 0.0 sec\n",
            "\n",
            "Training took 0 sec\n",
            "Mae is 0.7537 and Rmse is 0.9484\n",
            "Training time is 0.1067 and Prediction time is 0.0284\n"
          ]
        }
      ],
      "source": [
        "# SVD\n",
        "svd_mae_rp_m7, svd_rmse_rp_m7, tt_svd_rp_m7, pt_svd_rp_m7 = Svd(X_train_randomly_pruned7, X_val_randomly_pruned7, X_test, y_test) "
      ]
    },
    {
      "cell_type": "code",
      "execution_count": 1602,
      "metadata": {
        "id": "cmjw_UP7ehD2"
      },
      "outputs": [],
      "source": [
        "X_train_randomly_pruned7.drop(['rating'], axis = 1, inplace = True)"
      ]
    },
    {
      "cell_type": "code",
      "execution_count": 1603,
      "metadata": {
        "colab": {
          "base_uri": "https://localhost:8080/"
        },
        "id": "pzm3r7vCehD2",
        "outputId": "c9c5d51b-0c0f-4af3-c4cc-3ed7b57f6183"
      },
      "outputs": [
        {
          "name": "stdout",
          "output_type": "stream",
          "text": [
            "The mae is 0.7604 and rmse is 0.9548\n",
            "Training time is 2.3408 and Prediction time is 0.0095\n"
          ]
        }
      ],
      "source": [
        "# XgBoost\n",
        "xb_mae_rp_m7, xb_rmse_rp_m7, tt_xb_rp_m7, pt_xb_rp_m7 = XgBoost(X_train_randomly_pruned7, y_train_randomly_pruned7, X_test, y_test) "
      ]
    },
    {
      "cell_type": "code",
      "execution_count": 1604,
      "metadata": {
        "colab": {
          "base_uri": "https://localhost:8080/"
        },
        "id": "yL7ZpSO2ehD2",
        "outputId": "242b038e-7480-4cba-b827-ee47a23a9284"
      },
      "outputs": [
        {
          "name": "stdout",
          "output_type": "stream",
          "text": [
            "The mae is 0.8124 and rmse is 1.0457\n",
            "Training time is 40.362 and Prediction time is 0.9696\n"
          ]
        }
      ],
      "source": [
        "# Random Forest Regressor\n",
        "rf_mae_rp_m7, rf_rmse_rp_m7, tt_rf_rp_m7, pt_rf_rp_m7 = Random_Forest(X_train_randomly_pruned7, y_train_randomly_pruned7, X_test, y_test) "
      ]
    },
    {
      "attachments": {},
      "cell_type": "markdown",
      "metadata": {},
      "source": [
        "### Visualization for final results including Random Pruning"
      ]
    },
    {
      "cell_type": "code",
      "execution_count": 1689,
      "metadata": {},
      "outputs": [
        {
          "data": {
            "image/png": "[encoded data removed]",
            "text/plain": [
              "<Figure size 1000x600 with 1 Axes>"
            ]
          },
          "metadata": {},
          "output_type": "display_data"
        }
      ],
      "source": [
        "def visualization_results(svdrmse_m1,svdrmse_m2,svdrmse_rp_m2, svdrmse_m3, svdrmse_rp_m3, svdrmse_m4, svdrmse_rp_m4, svdrmse_m5, svdrmse_rp_m5,svdrmse_m6,svdrmse_rp_m6, svdrmse_m7,svdrmse_rp_m7,\n",
        "svdmae_m1,svdmae_m2,svdmae_rp_m2, svdmae_m3, svdmae_rp_m3, svdmae_m4, svdmae_rp_m4, svdmae_m5, svdmae_rp_m5,svdmae_m6,svdmae_rp_m6,svdmae_m7,svdmae_rp_m7,\n",
        "xbrmse_m1,xbrmse_m2,xbrmse_rp_m2, xbrmse_m3, xbrmse_rp_m3, xbrmse_m4,xbrmse_rp_m4, xbrmse_m5,xbrmse_rp_m5,xbrmse_m6,xbrmse_rp_m6,xbrmse_m7,xbrmse_rp_m7,\n",
        "xbmae_m1,xbmae_m2, xbmae_rp_m2, xbmae_m3, xbmae_rp_m3, xbmae_m4, xbmae_rp_m4, xbmae_m5,xbmae_rp_m5,xbmae_m6,xbmae_rp_m6,xbmae_m7,xbmae_rp_m7,\n",
        "rfrmse_m1,rfrmse_m2,rfrmse_rp_m2, rfrmse_m3, rfrmse_rp_m3, rfrmse_m4, rfrmse_rp_m4, rfrmse_m5,rfrmse_rp_m5, rfrmse_m6,rfrmse_rp_m6,rfrmse_m7,rfrmse_rp_m7,\n",
        "rfmae_m1,rfmae_m2,rfmae_rp_m2, rfmae_m3, rfmae_rp_m3, rfmae_m4,rfmae_rp_m4, rfmae_m5,rf_rp_m5,rfmae_m6,rfmae_rp_m6,rfmae_m7,rfmae_rp_m7):\n",
        "    \n",
        "    x1 = np.array(['M1','M2', 'RP-M2', 'M3', 'RP-M3', 'M4', 'RP-M4','M5','RP-M5','M6','RP-M6','M7','RP-M7'])\n",
        "    y1 = np.array([svdrmse_m1,svdrmse_m2,svdrmse_rp_m2, svdrmse_m3, svdrmse_rp_m3, svdrmse_m4, svdrmse_rp_m4, svdrmse_m5, svdrmse_rp_m5,svdrmse_m6,svdrmse_rp_m6,svdrmse_m7,svdrmse_rp_m7])\n",
        "\n",
        "    y2 = np.array([svdmae_m1,svdmae_m2,svdmae_rp_m2, svdmae_m3, svdmae_rp_m3, svdmae_m4, svdmae_rp_m4, svdmae_m5, svdmae_rp_m5,svdmae_m6,svdmae_rp_m6,svdmae_m7,svdmae_rp_m7])\n",
        "\n",
        "    y3 = np.array([xbrmse_m1,xbrmse_m2,xbrmse_rp_m2, xbrmse_m3, xbrmse_rp_m3, xbrmse_m4,xbrmse_rp_m4, xbrmse_m5,xbrmse_rp_m5,xbrmse_m6,xbrmse_rp_m6,xbrmse_m7,xbrmse_rp_m7])\n",
        "\n",
        "    y4 = np.array([xbmae_m1,xbmae_m2, xbmae_rp_m2, xbmae_m3, xbmae_rp_m3, xbmae_m4, xbmae_rp_m4, xbmae_m5,xbmae_rp_m5,xbmae_m6,xbmae_rp_m6,xbmae_m7,xbmae_rp_m7])\n",
        "\n",
        "    y5 = np.array([rfrmse_m1,rfrmse_m2,rfrmse_rp_m2, rfrmse_m3, rfrmse_rp_m3, rfrmse_m4, rfrmse_rp_m4, rfrmse_m5,rfrmse_rp_m5 ,rfrmse_m6,rfrmse_rp_m6,rfrmse_m7,rfrmse_rp_m7])\n",
        "\n",
        "    y6 = np.array([rfmae_m1,rfmae_m2,rfmae_rp_m2, rfmae_m3, rfmae_rp_m3, rfmae_m4,rfmae_rp_m4, rfmae_m5,rf_rp_m5,rfmae_m6,rfmae_rp_m6,rfmae_m7,rfmae_rp_m7])\n",
        "\n",
        "    # Plot 1\n",
        "    plt.figure(figsize=(10,6))\n",
        "    plt.subplot(2,1,1)\n",
        "    plt.plot(x1, y1, 'o-', label = 'RMSE', color = '#ff7f0e')\n",
        "    plt.yticks([0.7,0.8,0.9,1.0,1.1,1.2,1.3])\n",
        "    plt.title('RMSE & MAE comparison (MovieLens100k)')\n",
        "    plt.ylabel('Error value')\n",
        "    plt.xlabel('Models')\n",
        "\n",
        "    #Plot 2\n",
        "    plt.subplot(2,1,1)\n",
        "    plt.plot(x1, y2, '+--', label = 'MAE', color = '#ff7f0e')\n",
        "    plt.yticks([0.7,0.8,0.9,1.0,1.1,1.2,1.3])\n",
        "\n",
        "    # Plot 3\n",
        "    plt.subplot(2,1,1)\n",
        "    plt.plot(x1, y3, 'o-', color = '#1f77b4')\n",
        "    plt.yticks([0.7,0.8,0.9,1.0,1.1,1.2,1.3])\n",
        "\n",
        "    # Plot 4\n",
        "    plt.subplot(2,1,1)\n",
        "    plt.plot(x1, y4, '+--', color = '#1f77b4')\n",
        "    plt.yticks([0.7,0.8,0.9,1.0,1.1,1.2,1.3])\n",
        "\n",
        "    # Plot 5\n",
        "    plt.subplot(2,1,1)\n",
        "    plt.plot(x1, y5, 'o-', color = '#9467bd')\n",
        "    plt.yticks([0.7,0.8,0.9,1.0,1.1,1.2,1.3])\n",
        "\n",
        "    # Plot 6\n",
        "    plt.subplot(2,1,1)\n",
        "    plt.plot(x1, y6, '+--', color = '#9467bd')\n",
        "    plt.yticks([0.7,0.8,0.9,1.0,1.1,1.2,1.3])\n",
        "\n",
        "    col_labels=['', 'M1', 'M2', 'RP-M2', 'M3', 'RP-M3', 'M4', 'RP-M4', 'M5','RP-M5','M6','RP-M6','M7','RP-M7']\n",
        "    row_labels=['FunkSVD RMSE','FunkSVD MAE', 'XgBoost RMSE','XgBoost MAE', 'RandomForest RMSE', 'RandomForest MAE']\n",
        "    colors_key_rp = [[\"#ff7f0e\",\"w\",\"#f8ad9d\",\"w\",\"w\",\"w\",\"w\",\"w\",\"w\",\"w\",\"#b9fbc0\",\"w\",\"w\",\"w\"],[\"#ff7f0e\",\"w\",\"#f8ad9d\",\"w\",\"w\",\"w\",\"w\",\"w\",\"w\",\"w\",\"#b9fbc0\",\"w\",\"w\",\"w\"],\n",
        "    [\"#1f77b4\", \"w\",\"#f8ad9d\",\"w\",\"w\",\"w\",\"w\",\"w\",\"w\",\"w\",\"#b9fbc0\",\"w\",\"w\",\"w\"],[\"#1f77b4\", \"w\",\"#f8ad9d\",\"w\",\"w\",\"w\",\"w\",\"w\",\"w\",\"w\",\"#b9fbc0\",\"w\",\"w\",\"w\"],\n",
        "    [\"#9467bd\", \"w\",\"#f8ad9d\",\"w\",\"w\",\"w\",\"w\",\"w\",\"w\",\"w\",\"#b9fbc0\",\"w\",\"w\",\"w\"],[\"#9467bd\", \"w\",\"#f8ad9d\",\"w\",\"w\",\"w\",\"w\",\"w\",\"w\",\"w\",\"#b9fbc0\",\"w\",\"w\",\"w\"]]\n",
        "    table_vals= [['',svdrmse_m1,svdrmse_m2,svdrmse_rp_m2, svdrmse_m3, svdrmse_rp_m3, svdrmse_m4, svdrmse_rp_m4, svdrmse_m5,svdrmse_m6,svdrmse_rp_m6, svdrmse_rp_m5,svdrmse_m7,svdrmse_rp_m7],\n",
        "    ['',svdmae_m1,svdmae_m2,svdmae_rp_m2, svdmae_m3, svdmae_rp_m3, svdmae_m4, svdmae_rp_m4, svdmae_m5, svdmae_rp_m5,svdmae_m6,svdmae_rp_m6,svdmae_m7,svdmae_rp_m7],\n",
        "    ['',xbrmse_m1,xbrmse_m2,xbrmse_rp_m2, xbrmse_m3, xbrmse_rp_m3, xbrmse_m4,xbrmse_rp_m4, xbrmse_m5,xbrmse_rp_m5,xbrmse_m6,xbrmse_rp_m6,xbrmse_m7,xbrmse_rp_m7],\n",
        "    ['',xbmae_m1,xbmae_m2, xbmae_rp_m2, xbmae_m3, xbmae_rp_m3, xbmae_m4, xbmae_rp_m4, xbmae_m5,xbmae_rp_m5,xbmae_m6,xbmae_rp_m6,xbmae_m7,xbmae_rp_m7],\n",
        "    ['',rfrmse_m1,rfrmse_m2,rfrmse_rp_m2, rfrmse_m3, rfrmse_rp_m3, rfrmse_m4, rfrmse_rp_m4, rfrmse_m5,rfrmse_rp_m5,rfrmse_m6,rfrmse_rp_m6,rfrmse_m7,rfrmse_rp_m7],\n",
        "    ['',rfmae_m1,rfmae_m2,rfmae_rp_m2, rfmae_m3, rfmae_rp_m3, rfmae_m4,rfmae_rp_m4, rfmae_m5,rf_rp_m5,rfmae_m6,rfmae_rp_m6,rfmae_m7,rfmae_rp_m7]]\n",
        "\n",
        "    #The first coordinate is a shift on the x-axis, second coordinate is a gap between plot and text box (table in your case), \n",
        "    # third coordinate is a width of the text box, fourth coordinate is a height of text box.\n",
        "\n",
        "    the_table = plt.table(cellText=table_vals,\n",
        "         cellColours=colors_key_rp,\n",
        "         rowLabels=row_labels,\n",
        "         colWidths = [0.07,0.35,0.35,0.35,0.35,0.35,0.35,0.35,0.35,0.35,0.35,0.35,0.35,0.35],\n",
        "         colLabels=col_labels,\n",
        "         cellLoc='center',\n",
        "         fontsize = 30,\n",
        "         loc='bottom', bbox=[-0.04, -1.1, 1.05, 0.8])\n",
        "\n",
        "    col_labels_model=['Pruning Method']\n",
        "    row_labels_model=[' M1 ', ' M2 ', ' M3 ', ' M4 ', ' M5 ',' M6 ', ' M7 ',' RP ']\n",
        "    model_vals = [['Unpruned data(baseline)'], ['Movie ratings < 2'], ['User ratings < 30'], ['Timestamp-initial 2 months'], ['Occupation = \"other\"'],['Age < 18'], ['R(1/5)>2*R(max(2,3,4,1/5))'],['Random Pruning']]\n",
        "\n",
        "    model_table = plt.table(cellText=model_vals,\n",
        "        colLabels= col_labels_model,\n",
        "          rowLabels=row_labels_model,\n",
        "          cellLoc = 'left',\n",
        "          loc='left', bbox=[-0.35, 0, 0.26, 0.9])\n",
        "\n",
        "    row_labels_key=[\"\", \"\", \"\"]\n",
        "    colors_key = [[\"#ff7f0e\",\"w\"],[\"#1f77b4\", \"w\"],[\"#9467bd\", \"w\"]]\n",
        "    key_vals = [['','FunkSVD'], ['','XgBoost'], ['','RandomForest']]\n",
        "\n",
        "    plt.annotate('* Worst performing model highlighted in red \\n * Best performing model highlighted in green', \n",
        "            xy=(-0.1, 0), \n",
        "            xycoords=('axes fraction', 'figure fraction'),\n",
        "            xytext=(0, 20),  \n",
        "            textcoords='offset points',\n",
        "            size=9, ha='center', va='bottom')\n",
        "    \n",
        "    legend_elements = [Line2D([0], [0], color='black', linestyle='-', marker='o'), Line2D([0], [0], color='black', linestyle='--', marker='+')]\n",
        "    plt.legend(legend_elements,['RMSE','MAE'])\n",
        "    plt.show()\n",
        "\n",
        "visualization_results(svd_rmse_m1,svd_rmse_m2,svd_rmse_rp_m2,svd_rmse_m3,svd_rmse_rp_m3, svd_rmse_m4 ,svd_rmse_rp_m4, svd_rmse_m5,svd_rmse_rp_m5,svd_rmse_m6,svd_rmse_rp_m6,svd_rmse_m7,svd_rmse_rp_m7,\n",
        "svd_mae_m1,svd_mae_m2,svd_mae_rp_m2,svd_mae_m3,svd_mae_rp_m3 ,svd_mae_m4, svd_mae_rp_m4,svd_mae_m5, svd_mae_rp_m5,svd_mae_m6, svd_mae_rp_m6, svd_mae_m7,svd_mae_rp_m7,\n",
        "xb_rmse_m1,xb_rmse_m2,xb_rmse_rp_m2,xb_rmse_m3,xb_rmse_rp_m3, xb_rmse_m4 ,xb_rmse_rp_m4, xb_rmse_m5,xb_rmse_rp_m5,xb_rmse_m6,xb_rmse_rp_m6,xb_rmse_m7,xb_rmse_rp_m7,\n",
        "xb_mae_m1,xb_mae_m2,xb_mae_rp_m2,xb_mae_m3,xb_mae_rp_m3, xb_mae_m4 ,xb_mae_rp_m4,xb_mae_m5,xb_mae_rp_m5,xb_mae_m6,xb_mae_rp_m6, xb_mae_m7,xb_mae_rp_m7,\n",
        "rf_rmse_m1,rf_rmse_m2,rf_rmse_rp_m2,rf_rmse_m3, rf_rmse_rp_m3, rf_rmse_m4 ,rf_rmse_rp_m4, rf_rmse_m5, rf_rmse_rp_m5,rf_rmse_m6, rf_rmse_rp_m6,rf_rmse_m7,rf_rmse_rp_m7,\n",
        "rf_mae_m1,rf_mae_m2,rf_mae_rp_m2,rf_mae_m3, rf_mae_rp_m3 ,rf_mae_m4, rf_mae_rp_m4,rf_mae_m5, rf_mae_rp_m5,rf_mae_m6, rf_mae_rp_m6,rf_mae_m7,rf_mae_rp_m7,)"
      ]
    },
    {
      "attachments": {},
      "cell_type": "markdown",
      "metadata": {},
      "source": [
        "### Visualisation showing data complexity and time efficiency"
      ]
    },
    {
      "cell_type": "code",
      "execution_count": 1688,
      "metadata": {},
      "outputs": [
        {
          "data": {
            "image/png": "[encoded data removed]",
            "text/plain": [
              "<Figure size 900x600 with 1 Axes>"
            ]
          },
          "metadata": {},
          "output_type": "display_data"
        }
      ],
      "source": [
        "def visualization_data_time(n2, n3, n4, n5, n6, n7, tt1, tt2, tt3, tt4, tt5, tt6, tt7, tt8, tt9, tt10, tt11, tt12, tt13, tt14, tt15, tt16, tt17, tt18, \n",
        "tt19, tt20, tt21, pt1, pt2, pt3, pt4, pt5, pt6, pt7, pt8, pt9, pt10, pt11, pt12, pt13, pt14, pt15, pt16, pt17, pt18, pt19, pt20, pt21):\n",
        "    \n",
        "    x1 = np.array(['M1', 'M2', 'M3', 'M4', 'M5', 'M6','M7'])\n",
        "\n",
        "    n1 = 0\n",
        "\n",
        "    y1 = np.array([n1, n2, n3, n4, n5, n6, n7])\n",
        "\n",
        "    y2 = np.array([tt1, tt2, tt3, tt4, tt5, tt6, tt7])\n",
        "\n",
        "    y3 = np.array([pt1, pt2, pt3, pt4, pt5, pt6, pt7])\n",
        "\n",
        "    y4 = np.array([tt8, tt9, tt10, tt11, tt12, tt13, tt14])\n",
        "\n",
        "    y5 = np.array([pt8, pt9, pt10, pt11, pt12, pt13, pt14])\n",
        "\n",
        "    y6 = np.array([tt15, tt16, tt17, tt18, tt19, tt20, tt21])\n",
        "\n",
        "    y7 = np.array([pt15, pt16, pt17, pt18, pt19, pt20, pt21])\n",
        "\n",
        "    # Plot 1\n",
        "    plt.figure(figsize=(9,6))\n",
        "    plt.subplot(2,1,1)\n",
        "    plt.plot(x1, y1, 'o-', label = 'Users pruned', color = '#ff7f0e')\n",
        "    plt.title('Data complexity & Time efficiency (MovieLens100k)')\n",
        "    plt.yticks([0,5000,10000,15000,20000,25000,30000])\n",
        "    plt.ylabel('No.of Users Pruned')\n",
        "    plt.xlabel('Models')\n",
        "\n",
        "    col_labels_model=['Pruning Method']\n",
        "    row_labels_model=[' M1 ', ' M2 ', ' M3 ', ' M4 ', ' M5 ',' M6 ', ' M7 ']\n",
        "    model_vals = [['Unpruned data(baseline)'], ['Movie ratings < 2'], ['User ratings < 30'], ['Timestamp-initial 2 months'], ['Occupation = \"other\"'],['Age < 18'], ['R(1/5)>2*R(max(2,3,4,1/5))']]\n",
        "\n",
        "    model_table = plt.table(cellText=model_vals,\n",
        "          rowLabels=row_labels_model,\n",
        "          colLabels=col_labels_model,\n",
        "          cellLoc = 'left',\n",
        "          loc='left', bbox=[-0.40, 0, 0.27, 0.9])\n",
        "\n",
        "    for x,y in zip(x1,y1):\n",
        "        label = y\n",
        "        plt.annotate(label,\n",
        "                 (x,y),\n",
        "                 textcoords=\"offset points\", \n",
        "                 xytext=(0,7),\n",
        "                 ha='center')\n",
        "\n",
        "    col_labels=['M1', 'M2', 'M3', 'M4', 'M5', 'M6', 'M7']\n",
        "    row_labels=['FunkSVD Train time','FunkSVD Prediction time', 'XgBoost Train time','XgBoost Prediction time', 'RandomForest Train time', 'RandomForest Prediction time']\n",
        "    table_vals= [[tt1, tt2, tt3, tt4, tt5, tt6, tt7],[pt1, pt2, pt3, pt4, pt5, pt6, pt7],\n",
        "    [tt8, tt9, tt10, tt11, tt12, tt13, tt14],[pt8, pt9, pt10, pt11, pt12, pt13, pt14],\n",
        "    [tt15, tt16, tt17, tt18, tt19, tt20, tt21],[pt15, pt16, pt17, pt18, pt19, pt20, pt21]]\n",
        "\n",
        "    the_table = plt.table(cellText=table_vals,\n",
        "          rowLabels=row_labels,\n",
        "          colLabels=col_labels,\n",
        "          cellLoc='center',\n",
        "          fontsize = 30,\n",
        "          loc='bottom', bbox=[-0.04, -1.2, 1.05, 0.9])\n",
        "\n",
        "    plt.annotate('* Training time & Prediction time in seconds', \n",
        "            xy=(-0.20, 0), \n",
        "            xycoords=('axes fraction', 'figure fraction'),\n",
        "            xytext=(0, 20),  \n",
        "            textcoords='offset points',\n",
        "            size=9, ha='center', va='bottom')\n",
        "    \n",
        "    plt.legend(loc = \"upper right\")\n",
        "    plt.show()\n",
        "\n",
        "visualization_data_time(n_m2, n_m3, n_m4, n_m5, n_m6, n_m7, tt_svd_m1, tt_svd_m2, tt_svd_m3, tt_svd_m4, tt_svd_m5, tt_svd_m6, tt_svd_m7, tt_xb_m1,\n",
        "tt_xb_m2, tt_xb_m3, tt_xb_m4, tt_xb_m5, tt_xb_m6, tt_xb_m7, tt_rf_m1, tt_rf_m2, tt_rf_m3, tt_rf_m4, tt_rf_m5, tt_rf_m6, tt_rf_m7, pt_svd_m1, \n",
        "pt_svd_m2, pt_svd_m3, pt_svd_m4, pt_svd_m5, pt_svd_m6, pt_svd_m7, pt_xb_m1, pt_xb_m2, pt_xb_m3, pt_xb_m4, pt_xb_m5, pt_xb_m6, \n",
        "pt_xb_m7, pt_rf_m1, pt_rf_m2, pt_rf_m3, pt_rf_m4, pt_rf_m5, pt_rf_m6, pt_rf_m7 )"
      ]
    },
    {
      "attachments": {},
      "cell_type": "markdown",
      "metadata": {},
      "source": [
        "### Visualisation of RMSE & MAE of all models"
      ]
    },
    {
      "cell_type": "code",
      "execution_count": 1687,
      "metadata": {},
      "outputs": [
        {
          "data": {
            "image/png": "[encoded data removed]",
            "text/plain": [
              "<Figure size 900x600 with 1 Axes>"
            ]
          },
          "metadata": {},
          "output_type": "display_data"
        }
      ],
      "source": [
        "def visualization_models(rmse_error,rmse_error1, rmse_error2, rmse_error3, rmse_error4, rmse_error5, rmse_m7, mae_error, mae_error1, \n",
        "mae_error2, mae_error3, mae_error4, mae_error5, mae_m7, rmse_error6,rmse_error7, rmse_error8, rmse_error9, rmse_error10, rmse_error11, rmse_m7_1, mae_error6, mae_error7, \n",
        "mae_error8, mae_error9, mae_error10, mae_error11, mae_m7_1, rmse_error12,rmse_error13, rmse_error14, rmse_error15, rmse_error16, rmse_error17, rmse_m7_2,\n",
        "mae_error12, mae_error13, mae_error14, mae_error15, mae_error16, mae_error17, mae_m7_2):\n",
        "    \n",
        "    x1 = np.array(['M1', 'M2', 'M3', 'M4', 'M5', 'M6','M7'])\n",
        "    y1 = np.array([rmse_error,rmse_error1, rmse_error2, rmse_error3, rmse_error4, rmse_error5, rmse_m7])\n",
        "\n",
        "    y2 = np.array([mae_error, mae_error1, mae_error2, mae_error3, mae_error4, mae_error5, mae_m7])\n",
        "\n",
        "    y3 = np.array([rmse_error6,rmse_error7, rmse_error8, rmse_error9, rmse_error10, rmse_error11, rmse_m7_1])\n",
        "\n",
        "    y4 = np.array([mae_error6, mae_error7, mae_error8, mae_error9, mae_error10, mae_error11, mae_m7_1])\n",
        "\n",
        "    y5 = np.array([rmse_error12,rmse_error13, rmse_error14, rmse_error15, rmse_error16, rmse_error17, rmse_m7_2])\n",
        "\n",
        "    y6 = np.array([mae_error12, mae_error13, mae_error14, mae_error15, mae_error16, mae_error17, mae_m7_2])\n",
        "\n",
        "    # Plot 1\n",
        "    plt.figure(figsize=(9,6))\n",
        "    plt.subplot(2,1,1)\n",
        "    plt.plot(x1, y1, 'o-', label = 'RMSE', color = '#ff7f0e')\n",
        "    plt.yticks([0.7,0.8,0.9,1.0,1.1,1.2,1.3])\n",
        "    plt.title('RMSE & MAE comparison')\n",
        "    plt.ylabel('Error value')\n",
        "    plt.xlabel('Models')\n",
        "\n",
        "    #Plot 2\n",
        "    plt.subplot(2,1,1)\n",
        "    plt.plot(x1, y2, '+--', label = 'MAE', color = '#ff7f0e')\n",
        "    plt.yticks([0.7,0.8,0.9,1.0,1.1,1.2,1.3])\n",
        "\n",
        "    # Plot 3\n",
        "    plt.subplot(2,1,1)\n",
        "    plt.plot(x1, y3, 'o-', color = '#1f77b4')\n",
        "    plt.yticks([0.7,0.8,0.9,1.0,1.1,1.2,1.3])\n",
        "\n",
        "    # Plot 4\n",
        "    plt.subplot(2,1,1)\n",
        "    plt.plot(x1, y4, '+--', color = '#1f77b4')\n",
        "    plt.yticks([0.7,0.8,0.9,1.0,1.1,1.2,1.3])\n",
        "\n",
        "    # Plot 5\n",
        "    plt.subplot(2,1,1)\n",
        "    plt.plot(x1, y5, 'o-', color = '#9467bd')\n",
        "    plt.yticks([0.7,0.8,0.9,1.0,1.1,1.2,1.3])\n",
        "\n",
        "    # Plot 6\n",
        "    plt.subplot(2,1,1)\n",
        "    plt.plot(x1, y6, '+--', color = '#9467bd')\n",
        "    plt.yticks([0.7,0.8,0.9,1.0,1.1,1.2,1.3])\n",
        "\n",
        "    col_labels=['','M1', 'M2', 'M3', 'M4', 'M5', 'M6', 'M7']\n",
        "    row_labels=['FunkSVD RMSE','FunkSVD MAE', 'XgBoost RMSE','XgBoost MAE', 'RandomForest RMSE', 'RandomForest MAE']\n",
        "    colors_key_ = [[\"#ff7f0e\",\"w\",\"w\",\"w\",\"w\",\"w\",\"w\",\"w\"],[\"#ff7f0e\",\"w\",\"w\",\"w\",\"w\",\"w\",\"w\",\"w\"],[\"#1f77b4\", \"w\",\"w\",\"w\",\"w\",\"w\",\"w\",\"w\"],[\"#1f77b4\", \"w\",\"w\",\"w\",\"w\",\"w\",\"w\",\"w\"],\n",
        "    [\"#9467bd\", \"w\",\"w\",\"w\",\"w\",\"w\",\"w\",\"w\"],[\"#9467bd\", \"w\",\"w\",\"w\",\"w\",\"w\",\"w\",\"w\"]]\n",
        "    table_vals= [['',rmse_error,rmse_error1, rmse_error2, rmse_error3, rmse_error4, rmse_error5, rmse_m7],['',mae_error, mae_error1, mae_error2, mae_error3, mae_error4, mae_error5, mae_m7],\n",
        "    ['',rmse_error6,rmse_error7, rmse_error8, rmse_error9, rmse_error10, rmse_error11, rmse_m7_1],['',mae_error6, mae_error7, mae_error8, mae_error9, mae_error10, mae_error11, mae_m7_1],\n",
        "    ['',rmse_error12,rmse_error13, rmse_error14, rmse_error15, rmse_error16, rmse_error17, rmse_m7_2],['',mae_error12, mae_error13, mae_error14, mae_error15, mae_error16, mae_error17, mae_m7_2]]\n",
        "\n",
        "    #The first coordinate is a shift on the x-axis, second coordinate is a gap between plot and text box (table in your case), \n",
        "    # third coordinate is a width of the text box, fourth coordinate is a height of text box.\n",
        "\n",
        "    the_table = plt.table(cellText=table_vals,\n",
        "            cellColours=colors_key_,\n",
        "          rowLabels=row_labels,\n",
        "          colWidths = [0.07,0.25,0.25,0.25,0.25,0.25,0.25,0.25,0.25],\n",
        "          colLabels=col_labels,\n",
        "          cellLoc='center',\n",
        "          fontsize = 30,\n",
        "          loc='bottom', bbox=[-0.04, -1.1, 1.05, 0.8])\n",
        "\n",
        "    col_labels_model=['Pruning Method']\n",
        "    row_labels_model=['M1', 'M2', 'M3', 'M4', 'M5', 'M6', 'M7']\n",
        "    model_vals = [['Unpruned data(baseline)'], ['Movie ratings < 2'], ['User ratings < 30'], ['Timestamp-initial 2 months'], ['Occupation = \"other\"'],['Age < 18'], ['R(1/5)>2*R(max(2,3,4,1/5))']]\n",
        "\n",
        "    model_table = plt.table(cellText=model_vals,\n",
        "          rowLabels=row_labels_model,\n",
        "          colLabels=col_labels_model,\n",
        "          cellLoc = 'left',\n",
        "          fontsize = 25,\n",
        "          loc='left', bbox=[-0.34, 0, 0.25, 0.9])\n",
        "\n",
        "    row_labels_key=[\"\", \"\", \"\"]\n",
        "    colors_key = [[\"#ff7f0e\",\"w\"],[\"#1f77b4\", \"w\"],[\"#9467bd\", \"w\"]]\n",
        "    key_vals = [['','FunkSVD'], ['','XgBoost'], ['','RandomForest']]\n",
        "\n",
        "    legend_elements = [Line2D([0], [0], color='black', linestyle='-', marker='o'), Line2D([0], [0], color='black', linestyle='--', marker='+')]\n",
        "    plt.legend(legend_elements,['RMSE','MAE'])\n",
        "    plt.show()\n",
        "\n",
        "visualization_models(svd_rmse_m1,svd_rmse_m2,svd_rmse_m3,svd_rmse_m4, svd_rmse_m5 ,svd_rmse_m6, svd_rmse_m7, svd_mae_m1,svd_mae_m2,svd_mae_m3,svd_mae_m4, \n",
        "svd_mae_m5 ,svd_mae_m6, svd_mae_m7, xb_rmse_m1,xb_rmse_m2,xb_rmse_m3,xb_rmse_m4, xb_rmse_m5 ,xb_rmse_m6, xb_rmse_m7, xb_mae_m1,xb_mae_m2,xb_mae_m3,xb_mae_m4, \n",
        "xb_mae_m5 ,xb_mae_m6, xb_mae_m7, rf_rmse_m1,rf_rmse_m2,rf_rmse_m3, rf_rmse_m4, rf_rmse_m5 ,rf_rmse_m6, rf_rmse_m7, rf_mae_m1,rf_mae_m2,rf_mae_m3,rf_mae_m4, \n",
        "rf_mae_m5 ,rf_mae_m6, rf_mae_m7)"
      ]
    }
  ],
  "metadata": {
    "colab": {
      "collapsed_sections": [
        "54Ug6Dnzii3Q",
        "fQ_evhKlJhp0",
        "zk05s6xJKk5w",
        "9KSOzBCJMmlO",
        "-EoEAVH8tzKU",
        "OKnP7tzER8cB"
      ],
      "provenance": []
    },
    "kernelspec": {
      "display_name": "low",
      "language": "python",
      "name": "python3"
    },
    "language_info": {
      "codemirror_mode": {
        "name": "ipython",
        "version": 3
      },
      "file_extension": ".py",
      "mimetype": "text/x-python",
      "name": "python",
      "nbconvert_exporter": "python",
      "pygments_lexer": "ipython3",
      "version": "3.9.12"
    },
    "vscode": {
      "interpreter": {
        "hash": "c36a091529cbae68308b50987b620a325694a5b9bfc0296bafc5b6ee9ee2ae02"
      }
    }
  },
  "nbformat": 4,
  "nbformat_minor": 0
}
