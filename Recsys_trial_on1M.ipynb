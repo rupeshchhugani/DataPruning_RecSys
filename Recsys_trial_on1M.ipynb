{
  "cells": [
    {
      "cell_type": "markdown",
      "metadata": {
        "id": "Va_c8RGkLucV"
      },
      "source": [
        "### Importing libraries"
      ]
    },
    {
      "cell_type": "code",
      "execution_count": 693,
      "metadata": {
        "colab": {
          "base_uri": "https://localhost:8080/"
        },
        "id": "qMdxM3_V-G4e",
        "outputId": "72873b79-f667-41c8-b915-6386f398a1c3"
      },
      "outputs": [
        {
          "name": "stdout",
          "output_type": "stream",
          "text": [
            "Collecting git+https://github.com/gbolmier/funk-svd\n",
            "  Cloning https://github.com/gbolmier/funk-svd to /private/var/folders/dx/3vxbz5s15v9d6d9kx6cr_0ph0000gn/T/pip-req-build-2gj37e4y\n",
            "  Running command git clone --filter=blob:none --quiet https://github.com/gbolmier/funk-svd /private/var/folders/dx/3vxbz5s15v9d6d9kx6cr_0ph0000gn/T/pip-req-build-2gj37e4y\n",
            "  Resolved https://github.com/gbolmier/funk-svd to commit fecc38ea1c2859ef6a6d9af0b7f953e1b693764e\n",
            "  Preparing metadata (setup.py) ... \u001b[?25ldone\n",
            "\u001b[?25hRequirement already satisfied: numba>=0.38.0 in /Users/rupeshkumarchhugani/opt/miniconda3/lib/python3.9/site-packages (from funk-svd==0.0.1.dev1) (0.56.3)\n",
            "Requirement already satisfied: numpy>=1.14.3 in /Users/rupeshkumarchhugani/opt/miniconda3/lib/python3.9/site-packages (from funk-svd==0.0.1.dev1) (1.23.4)\n",
            "Requirement already satisfied: pandas>=0.23.0 in /Users/rupeshkumarchhugani/opt/miniconda3/lib/python3.9/site-packages (from funk-svd==0.0.1.dev1) (1.5.1)\n",
            "Requirement already satisfied: llvmlite<0.40,>=0.39.0dev0 in /Users/rupeshkumarchhugani/opt/miniconda3/lib/python3.9/site-packages (from numba>=0.38.0->funk-svd==0.0.1.dev1) (0.39.1)\n",
            "Requirement already satisfied: setuptools in /Users/rupeshkumarchhugani/opt/miniconda3/lib/python3.9/site-packages (from numba>=0.38.0->funk-svd==0.0.1.dev1) (65.5.0)\n",
            "Requirement already satisfied: pytz>=2020.1 in /Users/rupeshkumarchhugani/opt/miniconda3/lib/python3.9/site-packages (from pandas>=0.23.0->funk-svd==0.0.1.dev1) (2022.6)\n",
            "Requirement already satisfied: python-dateutil>=2.8.1 in /Users/rupeshkumarchhugani/opt/miniconda3/lib/python3.9/site-packages (from pandas>=0.23.0->funk-svd==0.0.1.dev1) (2.8.2)\n",
            "Requirement already satisfied: six>=1.5 in /Users/rupeshkumarchhugani/opt/miniconda3/lib/python3.9/site-packages (from python-dateutil>=2.8.1->pandas>=0.23.0->funk-svd==0.0.1.dev1) (1.16.0)\n"
          ]
        }
      ],
      "source": [
        "!pip install git+https://github.com/gbolmier/funk-svd "
      ]
    },
    {
      "cell_type": "code",
      "execution_count": 694,
      "metadata": {
        "id": "ZwU97RZuL0wI"
      },
      "outputs": [],
      "source": [
        "import numpy as np\n",
        "import random\n",
        "import pandas as pd\n",
        "import matplotlib.pyplot as plt \n",
        "from funk_svd import SVD \n",
        "from xgboost import XGBRegressor\n",
        "from sklearn.metrics import mean_absolute_error, mean_squared_error\n",
        "from sklearn.ensemble import RandomForestRegressor\n",
        "import time\n",
        "from matplotlib.patches import Patch\n",
        "from matplotlib.lines import Line2D\n",
        "import textwrap as twp"
      ]
    },
    {
      "attachments": {},
      "cell_type": "markdown",
      "metadata": {},
      "source": [
        "### Importing Data"
      ]
    },
    {
      "cell_type": "code",
      "execution_count": 695,
      "metadata": {
        "colab": {
          "base_uri": "https://localhost:8080/",
          "height": 241
        },
        "id": "6kLOG77uL_pX",
        "outputId": "e8b9bb3a-8008-4b0e-e0f2-70b2fdd14beb"
      },
      "outputs": [
        {
          "name": "stderr",
          "output_type": "stream",
          "text": [
            "/var/folders/dx/3vxbz5s15v9d6d9kx6cr_0ph0000gn/T/ipykernel_15853/361589548.py:2: DtypeWarning: Columns (0,1,2,3) have mixed types. Specify dtype option on import or set low_memory=False.\n",
            "  ml1M = pd.read_csv('ratings.csv', sep=';', names=column_names)\n"
          ]
        },
        {
          "data": {
            "text/html": [
              "<div>\n",
              "<style scoped>\n",
              "    .dataframe tbody tr th:only-of-type {\n",
              "        vertical-align: middle;\n",
              "    }\n",
              "\n",
              "    .dataframe tbody tr th {\n",
              "        vertical-align: top;\n",
              "    }\n",
              "\n",
              "    .dataframe thead th {\n",
              "        text-align: right;\n",
              "    }\n",
              "</style>\n",
              "<table border=\"1\" class=\"dataframe\">\n",
              "  <thead>\n",
              "    <tr style=\"text-align: right;\">\n",
              "      <th></th>\n",
              "      <th>u_id</th>\n",
              "      <th>i_id</th>\n",
              "      <th>rating</th>\n",
              "      <th>timestamp</th>\n",
              "    </tr>\n",
              "  </thead>\n",
              "  <tbody>\n",
              "    <tr>\n",
              "      <th>1</th>\n",
              "      <td>1.0</td>\n",
              "      <td>1193.0</td>\n",
              "      <td>5.0</td>\n",
              "      <td>978300760.0</td>\n",
              "    </tr>\n",
              "    <tr>\n",
              "      <th>2</th>\n",
              "      <td>1.0</td>\n",
              "      <td>661.0</td>\n",
              "      <td>3.0</td>\n",
              "      <td>978302109.0</td>\n",
              "    </tr>\n",
              "    <tr>\n",
              "      <th>3</th>\n",
              "      <td>1.0</td>\n",
              "      <td>914.0</td>\n",
              "      <td>3.0</td>\n",
              "      <td>978301968.0</td>\n",
              "    </tr>\n",
              "    <tr>\n",
              "      <th>4</th>\n",
              "      <td>1.0</td>\n",
              "      <td>3408.0</td>\n",
              "      <td>4.0</td>\n",
              "      <td>978300275.0</td>\n",
              "    </tr>\n",
              "    <tr>\n",
              "      <th>5</th>\n",
              "      <td>1.0</td>\n",
              "      <td>2355.0</td>\n",
              "      <td>5.0</td>\n",
              "      <td>978824291.0</td>\n",
              "    </tr>\n",
              "  </tbody>\n",
              "</table>\n",
              "</div>"
            ],
            "text/plain": [
              "   u_id    i_id  rating    timestamp\n",
              "1   1.0  1193.0     5.0  978300760.0\n",
              "2   1.0   661.0     3.0  978302109.0\n",
              "3   1.0   914.0     3.0  978301968.0\n",
              "4   1.0  3408.0     4.0  978300275.0\n",
              "5   1.0  2355.0     5.0  978824291.0"
            ]
          },
          "execution_count": 695,
          "metadata": {},
          "output_type": "execute_result"
        }
      ],
      "source": [
        "column_names = ['u_id', 'i_id', 'rating', 'timestamp']\n",
        "ml1M = pd.read_csv('ratings.csv', sep=';', names=column_names)\n",
        "ml1M.columns = column_names\n",
        "ml1M.drop(ml1M[(ml1M['u_id'] == 'userId')].index, inplace=True)\n",
        "ml1M = ml1M.astype(float)\n",
        "ml1M.head()"
      ]
    },
    {
      "cell_type": "code",
      "execution_count": 696,
      "metadata": {
        "colab": {
          "base_uri": "https://localhost:8080/",
          "height": 424
        },
        "id": "1FpOshzVzLJs",
        "outputId": "f0c42003-2783-42bf-860a-13adf50d4aa5"
      },
      "outputs": [
        {
          "data": {
            "text/html": [
              "<div>\n",
              "<style scoped>\n",
              "    .dataframe tbody tr th:only-of-type {\n",
              "        vertical-align: middle;\n",
              "    }\n",
              "\n",
              "    .dataframe tbody tr th {\n",
              "        vertical-align: top;\n",
              "    }\n",
              "\n",
              "    .dataframe thead th {\n",
              "        text-align: right;\n",
              "    }\n",
              "</style>\n",
              "<table border=\"1\" class=\"dataframe\">\n",
              "  <thead>\n",
              "    <tr style=\"text-align: right;\">\n",
              "      <th></th>\n",
              "      <th>u_id</th>\n",
              "      <th>gender</th>\n",
              "      <th>age</th>\n",
              "      <th>occupation</th>\n",
              "      <th>zip_code</th>\n",
              "    </tr>\n",
              "  </thead>\n",
              "  <tbody>\n",
              "    <tr>\n",
              "      <th>0</th>\n",
              "      <td>1</td>\n",
              "      <td>F</td>\n",
              "      <td>Under18</td>\n",
              "      <td>K-12student</td>\n",
              "      <td>48067</td>\n",
              "    </tr>\n",
              "    <tr>\n",
              "      <th>1</th>\n",
              "      <td>2</td>\n",
              "      <td>M</td>\n",
              "      <td>56+</td>\n",
              "      <td>self-employed</td>\n",
              "      <td>70072</td>\n",
              "    </tr>\n",
              "    <tr>\n",
              "      <th>2</th>\n",
              "      <td>3</td>\n",
              "      <td>M</td>\n",
              "      <td>25-34</td>\n",
              "      <td>scientist</td>\n",
              "      <td>55117</td>\n",
              "    </tr>\n",
              "    <tr>\n",
              "      <th>3</th>\n",
              "      <td>4</td>\n",
              "      <td>M</td>\n",
              "      <td>45-49</td>\n",
              "      <td>executive/managerial</td>\n",
              "      <td>2460</td>\n",
              "    </tr>\n",
              "    <tr>\n",
              "      <th>4</th>\n",
              "      <td>5</td>\n",
              "      <td>M</td>\n",
              "      <td>25-34</td>\n",
              "      <td>writer</td>\n",
              "      <td>55455</td>\n",
              "    </tr>\n",
              "    <tr>\n",
              "      <th>...</th>\n",
              "      <td>...</td>\n",
              "      <td>...</td>\n",
              "      <td>...</td>\n",
              "      <td>...</td>\n",
              "      <td>...</td>\n",
              "    </tr>\n",
              "    <tr>\n",
              "      <th>6035</th>\n",
              "      <td>6036</td>\n",
              "      <td>F</td>\n",
              "      <td>25-34</td>\n",
              "      <td>scientist</td>\n",
              "      <td>32603</td>\n",
              "    </tr>\n",
              "    <tr>\n",
              "      <th>6036</th>\n",
              "      <td>6037</td>\n",
              "      <td>F</td>\n",
              "      <td>45-49</td>\n",
              "      <td>academic/educator</td>\n",
              "      <td>76006</td>\n",
              "    </tr>\n",
              "    <tr>\n",
              "      <th>6037</th>\n",
              "      <td>6038</td>\n",
              "      <td>F</td>\n",
              "      <td>56+</td>\n",
              "      <td>academic/educator</td>\n",
              "      <td>14706</td>\n",
              "    </tr>\n",
              "    <tr>\n",
              "      <th>6038</th>\n",
              "      <td>6039</td>\n",
              "      <td>F</td>\n",
              "      <td>45-49</td>\n",
              "      <td>other</td>\n",
              "      <td>1060</td>\n",
              "    </tr>\n",
              "    <tr>\n",
              "      <th>6039</th>\n",
              "      <td>6040</td>\n",
              "      <td>M</td>\n",
              "      <td>25-34</td>\n",
              "      <td>doctor/health care</td>\n",
              "      <td>11106</td>\n",
              "    </tr>\n",
              "  </tbody>\n",
              "</table>\n",
              "<p>6040 rows × 5 columns</p>\n",
              "</div>"
            ],
            "text/plain": [
              "      u_id gender      age            occupation zip_code\n",
              "0        1      F  Under18           K-12student    48067\n",
              "1        2      M      56+         self-employed    70072\n",
              "2        3      M    25-34             scientist    55117\n",
              "3        4      M    45-49  executive/managerial     2460\n",
              "4        5      M    25-34                writer    55455\n",
              "...    ...    ...      ...                   ...      ...\n",
              "6035  6036      F    25-34             scientist    32603\n",
              "6036  6037      F    45-49     academic/educator    76006\n",
              "6037  6038      F      56+     academic/educator    14706\n",
              "6038  6039      F    45-49                 other     1060\n",
              "6039  6040      M    25-34    doctor/health care    11106\n",
              "\n",
              "[6040 rows x 5 columns]"
            ]
          },
          "execution_count": 696,
          "metadata": {},
          "output_type": "execute_result"
        }
      ],
      "source": [
        "column_names = ['u_id','gender','age','occupation','zip_code']\n",
        "user_data = pd.read_csv('users1.csv', sep = ';')\n",
        "user_data.columns = column_names\n",
        "user_data "
      ]
    },
    {
      "cell_type": "markdown",
      "metadata": {
        "id": "54Ug6Dnzii3Q"
      },
      "source": [
        "### Splitting data into train, valid and test set"
      ]
    },
    {
      "cell_type": "code",
      "execution_count": 697,
      "metadata": {
        "id": "ychc37k534kj"
      },
      "outputs": [],
      "source": [
        "X = ml1M.drop(['rating'], axis = 1)"
      ]
    },
    {
      "cell_type": "code",
      "execution_count": 698,
      "metadata": {
        "id": "W3_e477m34vk"
      },
      "outputs": [],
      "source": [
        "y = ml1M['rating']"
      ]
    },
    {
      "cell_type": "code",
      "execution_count": 699,
      "metadata": {
        "id": "-TDwramIr2ph"
      },
      "outputs": [],
      "source": [
        "# train_test_split\n",
        "from sklearn.model_selection import train_test_split\n",
        "train_ratio = 0.75\n",
        "validation_ratio = 0.15 \n",
        "test_ratio = 0.10\n",
        "\n",
        "# train set is 90% of the entire dataset\n",
        "    # Out of train set, 15% is validation set\n",
        "    # Out of train set, 75% is used for actual training\n",
        "# test set is 10% of the entire dataset\n",
        "\n",
        "X_train, X_test, y_train, y_test = train_test_split(X, y, test_size = test_ratio)\n",
        "X_train ,X_val,y_train, y_val = train_test_split(X_train, y_train, test_size = validation_ratio) \n"
      ]
    },
    {
      "cell_type": "code",
      "execution_count": 700,
      "metadata": {
        "colab": {
          "base_uri": "https://localhost:8080/",
          "height": 206
        },
        "id": "ICfALt9CIBKp",
        "outputId": "0874b558-2e87-4dc4-f3bd-b29aac5f6a2a"
      },
      "outputs": [
        {
          "data": {
            "text/html": [
              "<div>\n",
              "<style scoped>\n",
              "    .dataframe tbody tr th:only-of-type {\n",
              "        vertical-align: middle;\n",
              "    }\n",
              "\n",
              "    .dataframe tbody tr th {\n",
              "        vertical-align: top;\n",
              "    }\n",
              "\n",
              "    .dataframe thead th {\n",
              "        text-align: right;\n",
              "    }\n",
              "</style>\n",
              "<table border=\"1\" class=\"dataframe\">\n",
              "  <thead>\n",
              "    <tr style=\"text-align: right;\">\n",
              "      <th></th>\n",
              "      <th>u_id</th>\n",
              "      <th>i_id</th>\n",
              "      <th>timestamp</th>\n",
              "      <th>rating</th>\n",
              "    </tr>\n",
              "  </thead>\n",
              "  <tbody>\n",
              "    <tr>\n",
              "      <th>522640</th>\n",
              "      <td>3224.0</td>\n",
              "      <td>2321.0</td>\n",
              "      <td>968521110.0</td>\n",
              "      <td>4.0</td>\n",
              "    </tr>\n",
              "    <tr>\n",
              "      <th>340407</th>\n",
              "      <td>2010.0</td>\n",
              "      <td>1459.0</td>\n",
              "      <td>974687988.0</td>\n",
              "      <td>1.0</td>\n",
              "    </tr>\n",
              "    <tr>\n",
              "      <th>388473</th>\n",
              "      <td>2273.0</td>\n",
              "      <td>2706.0</td>\n",
              "      <td>974568301.0</td>\n",
              "      <td>5.0</td>\n",
              "    </tr>\n",
              "    <tr>\n",
              "      <th>723573</th>\n",
              "      <td>4335.0</td>\n",
              "      <td>2407.0</td>\n",
              "      <td>965339084.0</td>\n",
              "      <td>3.0</td>\n",
              "    </tr>\n",
              "    <tr>\n",
              "      <th>676572</th>\n",
              "      <td>4055.0</td>\n",
              "      <td>3141.0</td>\n",
              "      <td>965495476.0</td>\n",
              "      <td>3.0</td>\n",
              "    </tr>\n",
              "  </tbody>\n",
              "</table>\n",
              "</div>"
            ],
            "text/plain": [
              "          u_id    i_id    timestamp  rating\n",
              "522640  3224.0  2321.0  968521110.0     4.0\n",
              "340407  2010.0  1459.0  974687988.0     1.0\n",
              "388473  2273.0  2706.0  974568301.0     5.0\n",
              "723573  4335.0  2407.0  965339084.0     3.0\n",
              "676572  4055.0  3141.0  965495476.0     3.0"
            ]
          },
          "execution_count": 700,
          "metadata": {},
          "output_type": "execute_result"
        }
      ],
      "source": [
        "# concating X_train and y_train for training on SVD\n",
        "X_train_svd = pd.concat([X_train, y_train], axis = 1)\n",
        "X_train_svd.head() "
      ]
    },
    {
      "cell_type": "code",
      "execution_count": 701,
      "metadata": {
        "colab": {
          "base_uri": "https://localhost:8080/",
          "height": 206
        },
        "id": "h8sKQWjIIBVW",
        "outputId": "cbaa359b-c9e3-496d-d96e-972d59d6b920"
      },
      "outputs": [
        {
          "data": {
            "text/html": [
              "<div>\n",
              "<style scoped>\n",
              "    .dataframe tbody tr th:only-of-type {\n",
              "        vertical-align: middle;\n",
              "    }\n",
              "\n",
              "    .dataframe tbody tr th {\n",
              "        vertical-align: top;\n",
              "    }\n",
              "\n",
              "    .dataframe thead th {\n",
              "        text-align: right;\n",
              "    }\n",
              "</style>\n",
              "<table border=\"1\" class=\"dataframe\">\n",
              "  <thead>\n",
              "    <tr style=\"text-align: right;\">\n",
              "      <th></th>\n",
              "      <th>u_id</th>\n",
              "      <th>i_id</th>\n",
              "      <th>timestamp</th>\n",
              "      <th>rating</th>\n",
              "    </tr>\n",
              "  </thead>\n",
              "  <tbody>\n",
              "    <tr>\n",
              "      <th>572679</th>\n",
              "      <td>3509.0</td>\n",
              "      <td>588.0</td>\n",
              "      <td>9.670382e+08</td>\n",
              "      <td>4.0</td>\n",
              "    </tr>\n",
              "    <tr>\n",
              "      <th>27507</th>\n",
              "      <td>193.0</td>\n",
              "      <td>3068.0</td>\n",
              "      <td>1.025569e+09</td>\n",
              "      <td>3.0</td>\n",
              "    </tr>\n",
              "    <tr>\n",
              "      <th>305825</th>\n",
              "      <td>1820.0</td>\n",
              "      <td>3697.0</td>\n",
              "      <td>9.746983e+08</td>\n",
              "      <td>4.0</td>\n",
              "    </tr>\n",
              "    <tr>\n",
              "      <th>337191</th>\n",
              "      <td>1983.0</td>\n",
              "      <td>15.0</td>\n",
              "      <td>9.746878e+08</td>\n",
              "      <td>4.0</td>\n",
              "    </tr>\n",
              "    <tr>\n",
              "      <th>401262</th>\n",
              "      <td>2391.0</td>\n",
              "      <td>1233.0</td>\n",
              "      <td>9.742963e+08</td>\n",
              "      <td>5.0</td>\n",
              "    </tr>\n",
              "  </tbody>\n",
              "</table>\n",
              "</div>"
            ],
            "text/plain": [
              "          u_id    i_id     timestamp  rating\n",
              "572679  3509.0   588.0  9.670382e+08     4.0\n",
              "27507    193.0  3068.0  1.025569e+09     3.0\n",
              "305825  1820.0  3697.0  9.746983e+08     4.0\n",
              "337191  1983.0    15.0  9.746878e+08     4.0\n",
              "401262  2391.0  1233.0  9.742963e+08     5.0"
            ]
          },
          "execution_count": 701,
          "metadata": {},
          "output_type": "execute_result"
        }
      ],
      "source": [
        "# concatinating X_val and Y_val for validating\n",
        "X_val_svd = pd.concat([X_val, y_val], axis = 1) \n",
        "X_val_svd.head() "
      ]
    },
    {
      "attachments": {},
      "cell_type": "markdown",
      "metadata": {
        "id": "9uQ_tcmji_Ew"
      },
      "source": [
        "### Model One (M1) - Entirely unpruned dataset\n"
      ]
    },
    {
      "attachments": {},
      "cell_type": "markdown",
      "metadata": {},
      "source": [
        "#### Funk SVD - M1"
      ]
    },
    {
      "cell_type": "code",
      "execution_count": 702,
      "metadata": {
        "colab": {
          "base_uri": "https://localhost:8080/"
        },
        "id": "rfnKaoDSOlaa",
        "outputId": "9f85fc7b-f6ab-4e60-fa55-0673c0f0537f"
      },
      "outputs": [
        {
          "name": "stdout",
          "output_type": "stream",
          "text": [
            "Preprocessing data...\n",
            "\n",
            "Preprocessing data...\n",
            "\n",
            "Epoch 1/150  | val_loss: 1.03 - val_rmse: 1.02 - val_mae: 0.83 - took 0.0 sec\n",
            "Epoch 2/150  | val_loss: 0.96 - val_rmse: 0.98 - val_mae: 0.79 - took 0.0 sec\n",
            "Epoch 3/150  | val_loss: 0.92 - val_rmse: 0.96 - val_mae: 0.77 - took 0.0 sec\n",
            "Epoch 4/150  | val_loss: 0.90 - val_rmse: 0.95 - val_mae: 0.76 - took 0.0 sec\n",
            "Epoch 5/150  | val_loss: 0.89 - val_rmse: 0.94 - val_mae: 0.75 - took 0.0 sec\n",
            "Epoch 6/150  | val_loss: 0.88 - val_rmse: 0.94 - val_mae: 0.74 - took 0.0 sec\n",
            "Epoch 7/150  | val_loss: 0.87 - val_rmse: 0.93 - val_mae: 0.74 - took 0.0 sec\n",
            "Epoch 8/150  | val_loss: 0.86 - val_rmse: 0.93 - val_mae: 0.74 - took 0.0 sec\n",
            "Epoch 9/150  | val_loss: 0.86 - val_rmse: 0.93 - val_mae: 0.74 - took 0.0 sec\n",
            "Epoch 10/150 | val_loss: 0.85 - val_rmse: 0.92 - val_mae: 0.73 - took 0.0 sec\n",
            "Epoch 11/150 | val_loss: 0.85 - val_rmse: 0.92 - val_mae: 0.73 - took 0.0 sec\n",
            "Epoch 12/150 | val_loss: 0.85 - val_rmse: 0.92 - val_mae: 0.73 - took 0.0 sec\n",
            "Epoch 13/150 | val_loss: 0.84 - val_rmse: 0.92 - val_mae: 0.73 - took 0.0 sec\n",
            "Epoch 14/150 | val_loss: 0.84 - val_rmse: 0.92 - val_mae: 0.73 - took 0.0 sec\n",
            "Epoch 15/150 | val_loss: 0.84 - val_rmse: 0.92 - val_mae: 0.73 - took 0.0 sec\n",
            "\n",
            "Training took 1 sec\n",
            "Mae is 0.7299 and Rmse is 0.9221\n",
            "Training time is 0.9282 and Prediction time is 0.3357\n"
          ]
        }
      ],
      "source": [
        "def Svd(X_train, X_val, X_test, y_test): \n",
        "  svd = SVD(lr = 0.001, reg=0.005, n_epochs=150, n_factors=15, \n",
        "          early_stopping = True, shuffle = False, min_rating=1, max_rating=5)\n",
        "  start = time.time()\n",
        "  svd.fit(X = X_train, X_val = X_val)\n",
        "  svd_Ttime = round(time.time() - start,4)\n",
        "  start = time.time()\n",
        "  pred = svd.predict(X_test)\n",
        "  svd_Ptime = round(time.time() - start,4)\n",
        "  mae = round(mean_absolute_error(y_test, pred),4)\n",
        "  rmse = round(mean_squared_error(y_test, pred, squared = False),4)\n",
        "  print(f'Mae is {mae} and Rmse is {rmse}')\n",
        "  print(f'Training time is {svd_Ttime} and Prediction time is {svd_Ptime}')\n",
        "  return mae, rmse,svd_Ttime, svd_Ptime\n",
        "svd_mae_m1, svd_rmse_m1, tt_svd_m1, pt_svd_m1 = Svd(X_train_svd, X_val_svd, X_test, y_test)   "
      ]
    },
    {
      "attachments": {},
      "cell_type": "markdown",
      "metadata": {
        "id": "fQ_evhKlJhp0"
      },
      "source": [
        "#### Xgboost - M1"
      ]
    },
    {
      "cell_type": "code",
      "execution_count": 703,
      "metadata": {
        "colab": {
          "base_uri": "https://localhost:8080/"
        },
        "id": "6zoS1uqEPtSO",
        "outputId": "be0fb971-cca0-405a-aca9-ad23f8d5b7ad"
      },
      "outputs": [
        {
          "name": "stdout",
          "output_type": "stream",
          "text": [
            "The mae is 0.8069 and rmse is 0.9968\n",
            "Training time is 24.441 and Prediction time is 0.0611\n"
          ]
        }
      ],
      "source": [
        "def XgBoost(X_train, y_train, X_test, y_test):\n",
        "    xb = XGBRegressor()\n",
        "    start = time.time()\n",
        "    xb.fit(X_train, y_train)\n",
        "    xb_Ttime = round(time.time() - start,4)\n",
        "    start = time.time()\n",
        "    xb_pred = xb.predict(X_test) \n",
        "    xb_Ptime = round(time.time() - start,4) \n",
        "    xb_mae =  round(mean_absolute_error(y_test, xb_pred),4)\n",
        "    xb_rmse =  round(mean_squared_error(y_test, xb_pred, squared = False),4)\n",
        "    print(f'The mae is {xb_mae} and rmse is {xb_rmse}')\n",
        "    print(f'Training time is {xb_Ttime} and Prediction time is {xb_Ptime}')\n",
        "    return xb_mae, xb_rmse,xb_Ttime, xb_Ptime\n",
        "xb_mae_m1, xb_rmse_m1, tt_xb_m1, pt_xb_m1  = XgBoost(X_train, y_train, X_test, y_test)"
      ]
    },
    {
      "attachments": {},
      "cell_type": "markdown",
      "metadata": {
        "id": "zk05s6xJKk5w"
      },
      "source": [
        "#### Random Forest Regressor-M1"
      ]
    },
    {
      "cell_type": "code",
      "execution_count": 704,
      "metadata": {
        "colab": {
          "base_uri": "https://localhost:8080/"
        },
        "id": "z0g01wQqQedh",
        "outputId": "f8178a6d-4f68-43c9-847c-3b6147293d07"
      },
      "outputs": [
        {
          "name": "stdout",
          "output_type": "stream",
          "text": [
            "The mae is 0.8676 and rmse is 1.2064\n",
            "Training time is 588.7413 and Prediction time is 26.9165\n"
          ]
        }
      ],
      "source": [
        "def Random_Forest(X_train, y_train, X_test, y_test):\n",
        "    rf = RandomForestRegressor(n_estimators = 200) \n",
        "    start = time.time() \n",
        "    rf.fit(X_train, y_train)\n",
        "    rf_Ttime = round(time.time() - start,4)\n",
        "    start = time.time()\n",
        "    rf_pred = rf.predict(X_test)\n",
        "    rf_Ptime = round(time.time() - start,4) \n",
        "    rf_mae = round(mean_absolute_error(y_test, rf_pred),4) \n",
        "    rf_rmse = round(mean_squared_error(y_test, rf_pred),4)\n",
        "    print(f'The mae is {rf_mae} and rmse is {rf_rmse}')\n",
        "    print(f'Training time is {rf_Ttime} and Prediction time is {rf_Ptime}')\n",
        "    return rf_mae, rf_rmse,rf_Ttime, rf_Ptime\n",
        "rf_mae_m1, rf_rmse_m1, tt_rf_m1, pt_rf_m1 = Random_Forest(X_train, y_train, X_test, y_test) "
      ]
    },
    {
      "attachments": {},
      "cell_type": "markdown",
      "metadata": {
        "id": "755zQtW7LaC5"
      },
      "source": [
        "### Model Two (M2) - Pruning on the basis of movie ratings"
      ]
    },
    {
      "attachments": {},
      "cell_type": "markdown",
      "metadata": {
        "id": "39aTsQvsMWml"
      },
      "source": [
        "#### Pruning all the movies whose ratings are less than 2 "
      ]
    },
    {
      "cell_type": "code",
      "execution_count": 705,
      "metadata": {
        "id": "SPU-jHzeWUg0"
      },
      "outputs": [],
      "source": [
        "# for training set \n",
        "def ratings_less_than_n(X_set, y_set, n): \n",
        "    X_set_for_pruning = pd.concat([X_set, y_set], axis = 1) \n",
        "    X_set_pruned_ratings = X_set_for_pruning[X_set_for_pruning['rating'] > n]\n",
        "    y_set_pruned_ratings = X_set_pruned_ratings['rating'] \n",
        "    return X_set_pruned_ratings, y_set_pruned_ratings \n",
        "X_train_pruned_ratings,y_train_pruned_ratings = ratings_less_than_n(X_train, y_train, 2) "
      ]
    },
    {
      "cell_type": "code",
      "execution_count": 706,
      "metadata": {
        "id": "ei5n1E6YBwrs"
      },
      "outputs": [],
      "source": [
        "# for validation set\n",
        "X_val_pruned_ratings,y_val_pruned_ratings = ratings_less_than_n(X_val, y_val, 2) "
      ]
    },
    {
      "attachments": {},
      "cell_type": "markdown",
      "metadata": {},
      "source": [
        "#### FunkSVD - M2"
      ]
    },
    {
      "cell_type": "code",
      "execution_count": 707,
      "metadata": {
        "colab": {
          "base_uri": "https://localhost:8080/"
        },
        "id": "zyX3ZM0HYL9Z",
        "outputId": "2b1b73ee-6a8f-4a81-c381-dd519cded394"
      },
      "outputs": [
        {
          "name": "stdout",
          "output_type": "stream",
          "text": [
            "Preprocessing data...\n",
            "\n",
            "Preprocessing data...\n",
            "\n",
            "Epoch 1/150  | val_loss: 0.51 - val_rmse: 0.72 - val_mae: 0.58 - took 0.0 sec\n",
            "Epoch 2/150  | val_loss: 0.49 - val_rmse: 0.70 - val_mae: 0.58 - took 0.0 sec\n",
            "Epoch 3/150  | val_loss: 0.48 - val_rmse: 0.69 - val_mae: 0.57 - took 0.0 sec\n",
            "Epoch 4/150  | val_loss: 0.47 - val_rmse: 0.69 - val_mae: 0.57 - took 0.0 sec\n",
            "Epoch 5/150  | val_loss: 0.47 - val_rmse: 0.68 - val_mae: 0.57 - took 0.0 sec\n",
            "Epoch 6/150  | val_loss: 0.46 - val_rmse: 0.68 - val_mae: 0.57 - took 0.0 sec\n",
            "Epoch 7/150  | val_loss: 0.46 - val_rmse: 0.68 - val_mae: 0.56 - took 0.0 sec\n",
            "Epoch 8/150  | val_loss: 0.46 - val_rmse: 0.68 - val_mae: 0.56 - took 0.0 sec\n",
            "Epoch 9/150  | val_loss: 0.46 - val_rmse: 0.67 - val_mae: 0.56 - took 0.0 sec\n",
            "Epoch 10/150 | val_loss: 0.45 - val_rmse: 0.67 - val_mae: 0.56 - took 0.0 sec\n",
            "Epoch 11/150 | val_loss: 0.45 - val_rmse: 0.67 - val_mae: 0.56 - took 0.0 sec\n",
            "\n",
            "Training took 1 sec\n",
            "Mae is 0.8048 and Rmse is 1.0594\n",
            "Training time is 0.5755 and Prediction time is 0.2326\n"
          ]
        }
      ],
      "source": [
        "svd_mae_m2, svd_rmse_m2, tt_svd_m2, pt_svd_m2 = Svd(X_train_pruned_ratings, X_val_pruned_ratings, X_test, y_test)   "
      ]
    },
    {
      "cell_type": "code",
      "execution_count": 708,
      "metadata": {
        "id": "PHtzHgu2Gsmy"
      },
      "outputs": [],
      "source": [
        "X_train_pruned_ratings.drop(['rating'], axis = 1, inplace = True) "
      ]
    },
    {
      "attachments": {},
      "cell_type": "markdown",
      "metadata": {},
      "source": [
        "#### XgBoost - M2"
      ]
    },
    {
      "cell_type": "code",
      "execution_count": 709,
      "metadata": {
        "colab": {
          "base_uri": "https://localhost:8080/"
        },
        "id": "jPZedzozYaqP",
        "outputId": "0c2533b0-1fe4-44bb-9e89-5d90e14a482d"
      },
      "outputs": [
        {
          "name": "stdout",
          "output_type": "stream",
          "text": [
            "The mae is 0.843 and rmse is 1.1051\n",
            "Training time is 18.2617 and Prediction time is 0.0468\n"
          ]
        }
      ],
      "source": [
        "xb_mae_m2, xb_rmse_m2, tt_xb_m2, pt_xb_m2= XgBoost(X_train_pruned_ratings, y_train_pruned_ratings, X_test, y_test) "
      ]
    },
    {
      "attachments": {},
      "cell_type": "markdown",
      "metadata": {},
      "source": [
        "#### Random Forest Regressor - M2"
      ]
    },
    {
      "cell_type": "code",
      "execution_count": 710,
      "metadata": {
        "colab": {
          "base_uri": "https://localhost:8080/"
        },
        "id": "Spr8UbacYat1",
        "outputId": "e7f6607d-8088-4b97-f10f-73117aa24ed7"
      },
      "outputs": [
        {
          "name": "stdout",
          "output_type": "stream",
          "text": [
            "The mae is 0.8778 and rmse is 1.2825\n",
            "Training time is 480.6039 and Prediction time is 22.0071\n"
          ]
        }
      ],
      "source": [
        "rf_mae_m2, rf_rmse_m2, tt_rf_m2, pt_rf_m2 = Random_Forest(X_train_pruned_ratings, y_train_pruned_ratings, X_test, y_test) "
      ]
    },
    {
      "attachments": {},
      "cell_type": "markdown",
      "metadata": {
        "id": "ToBk7rD8d-YH"
      },
      "source": [
        "### Random Pruning - M2"
      ]
    },
    {
      "cell_type": "code",
      "execution_count": 453,
      "metadata": {
        "colab": {
          "base_uri": "https://localhost:8080/"
        },
        "id": "P_XcEsIQNjYD",
        "outputId": "ab319435-7c51-489e-8b0e-1c639c844e80"
      },
      "outputs": [
        {
          "data": {
            "text/plain": [
              "125189"
            ]
          },
          "execution_count": 453,
          "metadata": {},
          "output_type": "execute_result"
        }
      ],
      "source": [
        "def difference(X_before, X_after):\n",
        "  diff = X_before.shape[0] - X_after.shape[0] \n",
        "  return diff \n",
        "n_m2 = difference(X_train, X_train_pruned_ratings)\n",
        "n_m2"
      ]
    },
    {
      "cell_type": "code",
      "execution_count": 454,
      "metadata": {
        "id": "SwuGIMcPd8Gd"
      },
      "outputs": [],
      "source": [
        "# n = number of rows to be pruned \n",
        "def random_pruning(X_set, y_set, n,s):\n",
        "    X_set2 = pd.concat([X_set, y_set], axis = 1)\n",
        "    np.random.seed(s) \n",
        "    drop_indices = np.random.choice(X_set2.index, n, replace=False)\n",
        "    X_train_randomly_pruned = X_set2.drop(drop_indices)\n",
        "    y_train_randomly_pruned = X_train_randomly_pruned['rating']\n",
        "    return X_train_randomly_pruned, y_train_randomly_pruned\n",
        "X_train_randomly_pruned2, y_train_randomly_pruned2 = random_pruning(X_train, y_train,n_m2,10)"
      ]
    },
    {
      "cell_type": "code",
      "execution_count": 455,
      "metadata": {
        "colab": {
          "base_uri": "https://localhost:8080/"
        },
        "id": "srqYG4l2Nf2x",
        "outputId": "d368e400-72ed-4daa-d630-59b70bed4d6f"
      },
      "outputs": [
        {
          "data": {
            "text/plain": [
              "22264"
            ]
          },
          "execution_count": 455,
          "metadata": {},
          "output_type": "execute_result"
        }
      ],
      "source": [
        "# for validation set\n",
        "n_v_m2 = difference(X_val, X_val_pruned_ratings)\n",
        "n_v_m2"
      ]
    },
    {
      "cell_type": "code",
      "execution_count": 456,
      "metadata": {
        "id": "gChqRtZGEUYX"
      },
      "outputs": [],
      "source": [
        "# for validation set - we take n_v_m2 as we have pruned in above algorithm \n",
        "X_val_randomly_pruned2, y_val_randomly_pruned2 = random_pruning(X_val, y_val,n_v_m2,10) "
      ]
    },
    {
      "cell_type": "code",
      "execution_count": 457,
      "metadata": {
        "colab": {
          "base_uri": "https://localhost:8080/"
        },
        "id": "C9t-b-IoOCSt",
        "outputId": "30fb315c-d827-43c5-9116-66a938c2f64d"
      },
      "outputs": [
        {
          "data": {
            "text/plain": [
              "(112765, 4)"
            ]
          },
          "execution_count": 457,
          "metadata": {},
          "output_type": "execute_result"
        }
      ],
      "source": [
        "X_val_randomly_pruned2.shape"
      ]
    },
    {
      "cell_type": "code",
      "execution_count": 458,
      "metadata": {
        "colab": {
          "base_uri": "https://localhost:8080/"
        },
        "id": "PZHVetOaDiZA",
        "outputId": "9ea5cc37-4f23-4642-bd09-3d34e015948c"
      },
      "outputs": [
        {
          "name": "stdout",
          "output_type": "stream",
          "text": [
            "Preprocessing data...\n",
            "\n",
            "Preprocessing data...\n",
            "\n",
            "Epoch 1/150  | val_loss: 1.05 - val_rmse: 1.03 - val_mae: 0.84 - took 0.0 sec\n",
            "Epoch 2/150  | val_loss: 0.98 - val_rmse: 0.99 - val_mae: 0.80 - took 0.0 sec\n",
            "Epoch 3/150  | val_loss: 0.94 - val_rmse: 0.97 - val_mae: 0.78 - took 0.0 sec\n",
            "Epoch 4/150  | val_loss: 0.91 - val_rmse: 0.96 - val_mae: 0.76 - took 0.0 sec\n",
            "Epoch 5/150  | val_loss: 0.90 - val_rmse: 0.95 - val_mae: 0.76 - took 0.0 sec\n",
            "Epoch 6/150  | val_loss: 0.89 - val_rmse: 0.94 - val_mae: 0.75 - took 0.0 sec\n",
            "Epoch 7/150  | val_loss: 0.88 - val_rmse: 0.94 - val_mae: 0.75 - took 0.0 sec\n",
            "Epoch 8/150  | val_loss: 0.87 - val_rmse: 0.93 - val_mae: 0.74 - took 0.0 sec\n",
            "Epoch 9/150  | val_loss: 0.87 - val_rmse: 0.93 - val_mae: 0.74 - took 0.0 sec\n",
            "Epoch 10/150 | val_loss: 0.86 - val_rmse: 0.93 - val_mae: 0.74 - took 0.0 sec\n",
            "Epoch 11/150 | val_loss: 0.86 - val_rmse: 0.93 - val_mae: 0.74 - took 0.0 sec\n",
            "Epoch 12/150 | val_loss: 0.85 - val_rmse: 0.92 - val_mae: 0.73 - took 0.0 sec\n",
            "Epoch 13/150 | val_loss: 0.85 - val_rmse: 0.92 - val_mae: 0.73 - took 0.0 sec\n",
            "Epoch 14/150 | val_loss: 0.85 - val_rmse: 0.92 - val_mae: 0.73 - took 0.0 sec\n",
            "Epoch 15/150 | val_loss: 0.85 - val_rmse: 0.92 - val_mae: 0.73 - took 0.0 sec\n",
            "Epoch 16/150 | val_loss: 0.85 - val_rmse: 0.92 - val_mae: 0.73 - took 0.0 sec\n",
            "\n",
            "Training took 0 sec\n",
            "Mae is 0.7268 and Rmse is 0.9161\n",
            "Training time is 0.4692 and Prediction time is 0.1429\n"
          ]
        }
      ],
      "source": [
        "#SVD \n",
        "svd_mae_rp_m2, svd_rmse_rp_m2, tt_svd_rp_m2, pt_svd_rp_m2 = Svd(X_train_randomly_pruned2, X_val_randomly_pruned2, X_test, y_test)   "
      ]
    },
    {
      "cell_type": "code",
      "execution_count": 459,
      "metadata": {
        "id": "EuH3GSd0GWX4"
      },
      "outputs": [],
      "source": [
        "X_train_randomly_pruned2.drop(['rating'], axis = 1, inplace = True) "
      ]
    },
    {
      "cell_type": "code",
      "execution_count": 460,
      "metadata": {
        "colab": {
          "base_uri": "https://localhost:8080/"
        },
        "id": "ZVzRLN50Dice",
        "outputId": "73d96323-ae4d-4229-b6c7-e95714e912ac"
      },
      "outputs": [
        {
          "name": "stdout",
          "output_type": "stream",
          "text": [
            "The mae is 0.8034 and rmse is 0.9897\n",
            "Training time is 8.6345 and Prediction time is 0.0339\n"
          ]
        }
      ],
      "source": [
        "#XgBoost\n",
        "xb_mae_rp_m2, xb_rmse_rp_m2, tt_xb_rp_m2, pt_xb_rp_m2 = XgBoost(X_train_randomly_pruned2, y_train_randomly_pruned2, X_test, y_test)  "
      ]
    },
    {
      "cell_type": "code",
      "execution_count": 461,
      "metadata": {
        "colab": {
          "base_uri": "https://localhost:8080/"
        },
        "id": "9YqFR9yCDilS",
        "outputId": "c28c52bd-00c1-4c73-fc2b-35c73b832aed"
      },
      "outputs": [
        {
          "name": "stdout",
          "output_type": "stream",
          "text": [
            "The mae is 0.8617 and rmse is 1.1858\n",
            "Training time is 293.4973 and Prediction time is 18.0902\n"
          ]
        }
      ],
      "source": [
        "#Random Forest Regressor\n",
        "rf_mae_rp_m2, rf_rmse_rp_m2, tt_rf_rp_m2, pt_rf_rp_m2 = Random_Forest(X_train_randomly_pruned2, y_train_randomly_pruned2, X_test, y_test)  "
      ]
    },
    {
      "attachments": {},
      "cell_type": "markdown",
      "metadata": {
        "id": "zMPOtxbeMfCm"
      },
      "source": [
        "#### Pruning all the movies whose ratings are less than 3"
      ]
    },
    {
      "cell_type": "code",
      "execution_count": 462,
      "metadata": {
        "id": "VjRV4CTRHKoG"
      },
      "outputs": [],
      "source": [
        "# calling the function for pruning \n",
        "# training data \n",
        "X_train_pruned_ratings_3, y_train_pruned_ratings_3 = ratings_less_than_n(X_train, y_train, 3) "
      ]
    },
    {
      "cell_type": "code",
      "execution_count": 463,
      "metadata": {
        "id": "3F38I7_0HK1p"
      },
      "outputs": [],
      "source": [
        "# validation data \n",
        "X_val_pruned_ratings_3, y_val_pruned_ratings_3 = ratings_less_than_n(X_val, y_val, 3)"
      ]
    },
    {
      "cell_type": "code",
      "execution_count": 464,
      "metadata": {
        "colab": {
          "base_uri": "https://localhost:8080/"
        },
        "id": "K-LDGV6XQqgp",
        "outputId": "0838d558-93d4-4c5e-f960-67df607c0b88"
      },
      "outputs": [
        {
          "name": "stdout",
          "output_type": "stream",
          "text": [
            "Preprocessing data...\n",
            "\n",
            "Preprocessing data...\n",
            "\n",
            "Epoch 1/150  | val_loss: 0.22 - val_rmse: 0.47 - val_mae: 0.46 - took 0.0 sec\n",
            "Epoch 2/150  | val_loss: 0.22 - val_rmse: 0.47 - val_mae: 0.45 - took 0.0 sec\n",
            "Epoch 3/150  | val_loss: 0.21 - val_rmse: 0.46 - val_mae: 0.44 - took 0.0 sec\n",
            "Epoch 4/150  | val_loss: 0.21 - val_rmse: 0.46 - val_mae: 0.44 - took 0.0 sec\n",
            "Epoch 5/150  | val_loss: 0.21 - val_rmse: 0.46 - val_mae: 0.43 - took 0.0 sec\n",
            "Epoch 6/150  | val_loss: 0.21 - val_rmse: 0.46 - val_mae: 0.43 - took 0.0 sec\n",
            "Epoch 7/150  | val_loss: 0.21 - val_rmse: 0.46 - val_mae: 0.43 - took 0.0 sec\n",
            "Epoch 8/150  | val_loss: 0.21 - val_rmse: 0.45 - val_mae: 0.42 - took 0.0 sec\n",
            "Epoch 9/150  | val_loss: 0.21 - val_rmse: 0.45 - val_mae: 0.42 - took 0.0 sec\n",
            "\n",
            "Training took 0 sec\n",
            "Mae is 1.0112 and Rmse is 1.3193\n",
            "Training time is 0.2498 and Prediction time is 0.1326\n"
          ]
        }
      ],
      "source": [
        "#SVD\n",
        "svd_mae_m2_3, svd_rmse_m2_3, tt_svd_m2_3, pt_svd_m2_3 = Svd(X_train_pruned_ratings_3, X_val_pruned_ratings_3, X_test, y_test) "
      ]
    },
    {
      "cell_type": "code",
      "execution_count": 465,
      "metadata": {
        "id": "EyyP1YfXQzsR"
      },
      "outputs": [],
      "source": [
        "X_train_pruned_ratings_3.drop(['rating'], axis = 1, inplace = True) "
      ]
    },
    {
      "cell_type": "code",
      "execution_count": 466,
      "metadata": {
        "colab": {
          "base_uri": "https://localhost:8080/"
        },
        "id": "GFZ5HVeZQzvh",
        "outputId": "5551b4af-90fd-40eb-c85b-f3ea1f8a32ca"
      },
      "outputs": [
        {
          "name": "stdout",
          "output_type": "stream",
          "text": [
            "The mae is 1.0334 and rmse is 1.3321\n",
            "Training time is 6.4456 and Prediction time is 0.0324\n"
          ]
        }
      ],
      "source": [
        "#XgBoost\n",
        "xb_mae_m2_3, xb_rmse_m2_3,tt_xb_m2_3, pt_xb_m2_3 = XgBoost(X_train_pruned_ratings_3, y_train_pruned_ratings_3, X_test, y_test) "
      ]
    },
    {
      "cell_type": "code",
      "execution_count": 467,
      "metadata": {
        "colab": {
          "base_uri": "https://localhost:8080/"
        },
        "id": "w6XyNLuvQzy5",
        "outputId": "76fb1e82-c02b-41e8-b9a4-5a46c86ba752"
      },
      "outputs": [
        {
          "name": "stdout",
          "output_type": "stream",
          "text": [
            "The mae is 1.0173 and rmse is 1.7842\n",
            "Training time is 196.4779 and Prediction time is 5.9292\n"
          ]
        }
      ],
      "source": [
        "#Random Forest Regressor\n",
        "rf_mae_m2_3, rf_rmse_m2_3,tt_rf_m2_3, pt_rf_m2_3 = Random_Forest(X_train_pruned_ratings_3, y_train_pruned_ratings_3, X_test, y_test) "
      ]
    },
    {
      "attachments": {},
      "cell_type": "markdown",
      "metadata": {
        "id": "3t2bEVlNM17x"
      },
      "source": [
        "### Model Three (M3) - Pruning on the basis of user ratings"
      ]
    },
    {
      "attachments": {},
      "cell_type": "markdown",
      "metadata": {
        "id": "w8cxRlpEMrdN"
      },
      "source": [
        "#### Pruning users who have rated less than 30 movies"
      ]
    },
    {
      "cell_type": "code",
      "execution_count": 711,
      "metadata": {
        "id": "obSx4Owsbbhw"
      },
      "outputs": [],
      "source": [
        "# count of both train and validation set is taken as common-\n",
        "counts = X_train['u_id'].value_counts() \n",
        "\n",
        "def total_rating_less_than_n(X_set, y_set, counts, n):\n",
        "    X_set_for_pruning_30 = pd.concat([X_set, y_set], axis = 1) \n",
        "    set_pruned_30 = X_set_for_pruning_30.loc[X_set_for_pruning_30['u_id'].isin(counts.index[counts > n])]\n",
        "    y_set_pruned_30 = set_pruned_30['rating']\n",
        "    return set_pruned_30, y_set_pruned_30\n",
        "train_pruned_30, y_train_pruned_30 = total_rating_less_than_n(X_train, y_train,counts, 30)"
      ]
    },
    {
      "cell_type": "code",
      "execution_count": 712,
      "metadata": {
        "id": "EUJBmOCdJDWE"
      },
      "outputs": [],
      "source": [
        "val_pruned_30, y_val_pruned_30 = total_rating_less_than_n(X_val, y_val,counts, 30)"
      ]
    },
    {
      "cell_type": "code",
      "execution_count": 713,
      "metadata": {
        "colab": {
          "base_uri": "https://localhost:8080/"
        },
        "id": "fqKI2Fo6Kk23",
        "outputId": "3df56c6c-5faa-4dea-ee0f-c1e330dfebee"
      },
      "outputs": [
        {
          "data": {
            "text/plain": [
              "(736462, 4)"
            ]
          },
          "execution_count": 713,
          "metadata": {},
          "output_type": "execute_result"
        }
      ],
      "source": [
        "train_pruned_30.shape"
      ]
    },
    {
      "cell_type": "code",
      "execution_count": 714,
      "metadata": {
        "colab": {
          "base_uri": "https://localhost:8080/"
        },
        "id": "O_8rfrUwKk6Z",
        "outputId": "a8cb2852-a765-4683-bb5e-c28bdb8eebe9"
      },
      "outputs": [
        {
          "data": {
            "text/plain": [
              "(129563, 4)"
            ]
          },
          "execution_count": 714,
          "metadata": {},
          "output_type": "execute_result"
        }
      ],
      "source": [
        "val_pruned_30.shape"
      ]
    },
    {
      "attachments": {},
      "cell_type": "markdown",
      "metadata": {},
      "source": [
        "#### FunkSVD - M3"
      ]
    },
    {
      "cell_type": "code",
      "execution_count": 715,
      "metadata": {
        "colab": {
          "base_uri": "https://localhost:8080/"
        },
        "id": "R8A_ivJPbblh",
        "outputId": "3e2db1a2-5a27-408e-e0f7-432624328bef"
      },
      "outputs": [
        {
          "name": "stdout",
          "output_type": "stream",
          "text": [
            "Preprocessing data...\n",
            "\n",
            "Preprocessing data...\n",
            "\n",
            "Epoch 1/150  | val_loss: 1.03 - val_rmse: 1.02 - val_mae: 0.83 - took 0.0 sec\n",
            "Epoch 2/150  | val_loss: 0.96 - val_rmse: 0.98 - val_mae: 0.79 - took 0.0 sec\n",
            "Epoch 3/150  | val_loss: 0.92 - val_rmse: 0.96 - val_mae: 0.77 - took 0.0 sec\n",
            "Epoch 4/150  | val_loss: 0.90 - val_rmse: 0.95 - val_mae: 0.76 - took 0.0 sec\n",
            "Epoch 5/150  | val_loss: 0.88 - val_rmse: 0.94 - val_mae: 0.75 - took 0.0 sec\n",
            "Epoch 6/150  | val_loss: 0.87 - val_rmse: 0.93 - val_mae: 0.74 - took 0.0 sec\n",
            "Epoch 7/150  | val_loss: 0.86 - val_rmse: 0.93 - val_mae: 0.74 - took 0.0 sec\n",
            "Epoch 8/150  | val_loss: 0.86 - val_rmse: 0.93 - val_mae: 0.74 - took 0.0 sec\n",
            "Epoch 9/150  | val_loss: 0.85 - val_rmse: 0.92 - val_mae: 0.73 - took 0.0 sec\n",
            "Epoch 10/150 | val_loss: 0.85 - val_rmse: 0.92 - val_mae: 0.73 - took 0.0 sec\n",
            "Epoch 11/150 | val_loss: 0.85 - val_rmse: 0.92 - val_mae: 0.73 - took 0.0 sec\n",
            "Epoch 12/150 | val_loss: 0.84 - val_rmse: 0.92 - val_mae: 0.73 - took 0.0 sec\n",
            "Epoch 13/150 | val_loss: 0.84 - val_rmse: 0.92 - val_mae: 0.73 - took 0.0 sec\n",
            "Epoch 14/150 | val_loss: 0.84 - val_rmse: 0.92 - val_mae: 0.73 - took 0.0 sec\n",
            "Epoch 15/150 | val_loss: 0.84 - val_rmse: 0.91 - val_mae: 0.73 - took 0.0 sec\n",
            "\n",
            "Training took 1 sec\n",
            "Mae is 0.7309 and Rmse is 0.9233\n",
            "Training time is 0.8151 and Prediction time is 0.2311\n"
          ]
        }
      ],
      "source": [
        "svd_mae_m3, svd_rmse_m3, tt_svd_m3, pt_svd_m3 = Svd(train_pruned_30, val_pruned_30, X_test, y_test) "
      ]
    },
    {
      "cell_type": "code",
      "execution_count": 716,
      "metadata": {
        "id": "qBNw6rm6JQ1t"
      },
      "outputs": [],
      "source": [
        "train_pruned_30.drop(['rating'], axis = 1, inplace = True)"
      ]
    },
    {
      "attachments": {},
      "cell_type": "markdown",
      "metadata": {},
      "source": [
        "#### XgBoost - M3"
      ]
    },
    {
      "cell_type": "code",
      "execution_count": 717,
      "metadata": {
        "colab": {
          "base_uri": "https://localhost:8080/"
        },
        "id": "uevf38dqcNt8",
        "outputId": "0ba8ff05-b8e5-4f98-c237-73ec371850eb"
      },
      "outputs": [
        {
          "name": "stdout",
          "output_type": "stream",
          "text": [
            "The mae is 0.8089 and rmse is 0.998\n",
            "Training time is 20.283 and Prediction time is 0.0526\n"
          ]
        }
      ],
      "source": [
        "xb_mae_m3, xb_rmse_m3, tt_xb_m3, pt_xb_m3 = XgBoost(train_pruned_30, y_train_pruned_30, X_test, y_test)"
      ]
    },
    {
      "attachments": {},
      "cell_type": "markdown",
      "metadata": {},
      "source": [
        "#### Random Forest Regressor - M3"
      ]
    },
    {
      "cell_type": "code",
      "execution_count": 718,
      "metadata": {
        "colab": {
          "base_uri": "https://localhost:8080/"
        },
        "id": "Ffgx45fjcNx2",
        "outputId": "8ad2fe66-325e-4784-ae0b-4fdf0dceec8a"
      },
      "outputs": [
        {
          "name": "stdout",
          "output_type": "stream",
          "text": [
            "The mae is 0.8681 and rmse is 1.2065\n",
            "Training time is 575.8426 and Prediction time is 30.2145\n"
          ]
        }
      ],
      "source": [
        "rf_mae_m3, rf_rmse_m3, tt_rf_m3, pt_rf_m3  = Random_Forest(train_pruned_30, y_train_pruned_30, X_test, y_test)"
      ]
    },
    {
      "attachments": {},
      "cell_type": "markdown",
      "metadata": {
        "id": "IOdueMFvKCHU"
      },
      "source": [
        "### Random Pruning - M3\n"
      ]
    },
    {
      "cell_type": "code",
      "execution_count": 476,
      "metadata": {
        "id": "upXvOtgCKEhW"
      },
      "outputs": [
        {
          "data": {
            "text/plain": [
              "28302"
            ]
          },
          "execution_count": 476,
          "metadata": {},
          "output_type": "execute_result"
        }
      ],
      "source": [
        "n_m3 = difference(X_train, train_pruned_30) \n",
        "n_m3"
      ]
    },
    {
      "cell_type": "code",
      "execution_count": 477,
      "metadata": {
        "id": "s4-K5TCTKEeW"
      },
      "outputs": [],
      "source": [
        "X_train_randomly_pruned3, y_train_randomly_pruned3 = random_pruning(X_train, y_train,n_m3,10) "
      ]
    },
    {
      "cell_type": "code",
      "execution_count": 478,
      "metadata": {
        "colab": {
          "base_uri": "https://localhost:8080/"
        },
        "id": "0AxtA3KjcZlR",
        "outputId": "981751ef-1132-424f-a4fd-310f68dba157"
      },
      "outputs": [
        {
          "data": {
            "text/plain": [
              "(736857, 4)"
            ]
          },
          "execution_count": 478,
          "metadata": {},
          "output_type": "execute_result"
        }
      ],
      "source": [
        "X_train_randomly_pruned3.shape"
      ]
    },
    {
      "cell_type": "code",
      "execution_count": 479,
      "metadata": {
        "id": "Pg9qDQdEKEn1"
      },
      "outputs": [],
      "source": [
        "n_v_m3 = difference(X_val, val_pruned_30)"
      ]
    },
    {
      "cell_type": "code",
      "execution_count": 480,
      "metadata": {
        "id": "OZWkeae9KEkZ"
      },
      "outputs": [],
      "source": [
        "X_val_randomly_pruned3, y_val_randomly_pruned3 = random_pruning(X_val, y_val,n_v_m3,10)"
      ]
    },
    {
      "cell_type": "code",
      "execution_count": 481,
      "metadata": {
        "colab": {
          "base_uri": "https://localhost:8080/"
        },
        "id": "sZ2bcrOHcaSp",
        "outputId": "3e120cbd-3cb3-4dad-91d5-9d25f404d4bf"
      },
      "outputs": [
        {
          "data": {
            "text/plain": [
              "(129780, 4)"
            ]
          },
          "execution_count": 481,
          "metadata": {},
          "output_type": "execute_result"
        }
      ],
      "source": [
        "X_val_randomly_pruned3.shape "
      ]
    },
    {
      "cell_type": "code",
      "execution_count": 482,
      "metadata": {
        "colab": {
          "base_uri": "https://localhost:8080/"
        },
        "id": "L4xW1vSGchHq",
        "outputId": "9ec74d65-467f-481c-c7e5-6ee9ca1f1a74"
      },
      "outputs": [
        {
          "name": "stdout",
          "output_type": "stream",
          "text": [
            "Preprocessing data...\n",
            "\n",
            "Preprocessing data...\n",
            "\n",
            "Epoch 1/150  | val_loss: 1.04 - val_rmse: 1.02 - val_mae: 0.83 - took 0.0 sec\n",
            "Epoch 2/150  | val_loss: 0.96 - val_rmse: 0.98 - val_mae: 0.79 - took 0.0 sec\n",
            "Epoch 3/150  | val_loss: 0.93 - val_rmse: 0.96 - val_mae: 0.77 - took 0.0 sec\n",
            "Epoch 4/150  | val_loss: 0.90 - val_rmse: 0.95 - val_mae: 0.76 - took 0.0 sec\n",
            "Epoch 5/150  | val_loss: 0.89 - val_rmse: 0.94 - val_mae: 0.75 - took 0.0 sec\n",
            "Epoch 6/150  | val_loss: 0.88 - val_rmse: 0.94 - val_mae: 0.75 - took 0.0 sec\n",
            "Epoch 7/150  | val_loss: 0.87 - val_rmse: 0.93 - val_mae: 0.74 - took 0.0 sec\n",
            "Epoch 8/150  | val_loss: 0.86 - val_rmse: 0.93 - val_mae: 0.74 - took 0.0 sec\n",
            "Epoch 9/150  | val_loss: 0.86 - val_rmse: 0.93 - val_mae: 0.74 - took 0.0 sec\n",
            "Epoch 10/150 | val_loss: 0.85 - val_rmse: 0.92 - val_mae: 0.73 - took 0.0 sec\n",
            "Epoch 11/150 | val_loss: 0.85 - val_rmse: 0.92 - val_mae: 0.73 - took 0.0 sec\n",
            "Epoch 12/150 | val_loss: 0.85 - val_rmse: 0.92 - val_mae: 0.73 - took 0.0 sec\n",
            "Epoch 13/150 | val_loss: 0.85 - val_rmse: 0.92 - val_mae: 0.73 - took 0.0 sec\n",
            "Epoch 14/150 | val_loss: 0.84 - val_rmse: 0.92 - val_mae: 0.73 - took 0.0 sec\n",
            "Epoch 15/150 | val_loss: 0.84 - val_rmse: 0.92 - val_mae: 0.73 - took 0.0 sec\n",
            "\n",
            "Training took 1 sec\n",
            "Mae is 0.7255 and Rmse is 0.9147\n",
            "Training time is 0.5828 and Prediction time is 0.1417\n"
          ]
        }
      ],
      "source": [
        "#SVD\n",
        "svd_mae_rp_m3, svd_rmse_rp_m3,tt_svd_rp_m3, pt_svd_rp_m3 = Svd(X_train_randomly_pruned3, X_val_randomly_pruned3, X_test, y_test) "
      ]
    },
    {
      "cell_type": "code",
      "execution_count": 483,
      "metadata": {
        "id": "O1KckuFNdC3M"
      },
      "outputs": [],
      "source": [
        "X_train_randomly_pruned3.drop(['rating'], axis = 1, inplace = True)"
      ]
    },
    {
      "cell_type": "code",
      "execution_count": 484,
      "metadata": {
        "colab": {
          "base_uri": "https://localhost:8080/"
        },
        "id": "yUqGcz1BchQY",
        "outputId": "fc966d10-d308-4c5d-e8cc-04a8e02e197f"
      },
      "outputs": [
        {
          "name": "stdout",
          "output_type": "stream",
          "text": [
            "The mae is 0.8062 and rmse is 0.9942\n",
            "Training time is 11.5239 and Prediction time is 0.0549\n"
          ]
        }
      ],
      "source": [
        "# Xgboost\n",
        "xb_mae_rp_m3, xb_rmse_rp_m3, tt_xb_rp_m3, pt_xb_rp_m3 = XgBoost(X_train_randomly_pruned3, y_train_randomly_pruned3, X_test, y_test) "
      ]
    },
    {
      "cell_type": "code",
      "execution_count": 485,
      "metadata": {
        "colab": {
          "base_uri": "https://localhost:8080/"
        },
        "id": "sOxjFhCcc3Sh",
        "outputId": "c8f1a187-5b22-4f10-a305-4f0e086137cb"
      },
      "outputs": [
        {
          "name": "stdout",
          "output_type": "stream",
          "text": [
            "The mae is 0.8616 and rmse is 1.1856\n",
            "Training time is 354.8865 and Prediction time is 20.0787\n"
          ]
        }
      ],
      "source": [
        "#Random Forest Regressor\n",
        "rf_mae_rp_m3, rf_rmse_rp_m3, tt_rf_rp_m3, pt_xb_rp_m3 = Random_Forest(X_train_randomly_pruned3, y_train_randomly_pruned3, X_test, y_test) "
      ]
    },
    {
      "attachments": {},
      "cell_type": "markdown",
      "metadata": {
        "id": "9KSOzBCJMmlO"
      },
      "source": [
        "#### Pruning users who have rated less than 40 movies"
      ]
    },
    {
      "cell_type": "code",
      "execution_count": 486,
      "metadata": {
        "id": "ipFnuxpYJoDW"
      },
      "outputs": [],
      "source": [
        "train_pruned_40, y_train_pruned_40 = total_rating_less_than_n(X_train, y_train,counts, 40)"
      ]
    },
    {
      "cell_type": "code",
      "execution_count": 487,
      "metadata": {
        "id": "BnbOL_RjJoHP"
      },
      "outputs": [],
      "source": [
        "val_pruned_40, y_val_pruned_40 = total_rating_less_than_n(X_val, y_val,counts, 40)"
      ]
    },
    {
      "cell_type": "code",
      "execution_count": 488,
      "metadata": {
        "colab": {
          "base_uri": "https://localhost:8080/"
        },
        "id": "_rLjQREgRjSw",
        "outputId": "676a4836-8ebc-4e33-c741-bef78479579b"
      },
      "outputs": [
        {
          "name": "stdout",
          "output_type": "stream",
          "text": [
            "Preprocessing data...\n",
            "\n",
            "Preprocessing data...\n",
            "\n",
            "Epoch 1/150  | val_loss: 1.03 - val_rmse: 1.02 - val_mae: 0.83 - took 0.0 sec\n",
            "Epoch 2/150  | val_loss: 0.95 - val_rmse: 0.98 - val_mae: 0.79 - took 0.0 sec\n",
            "Epoch 3/150  | val_loss: 0.92 - val_rmse: 0.96 - val_mae: 0.77 - took 0.0 sec\n",
            "Epoch 4/150  | val_loss: 0.89 - val_rmse: 0.95 - val_mae: 0.75 - took 0.0 sec\n",
            "Epoch 5/150  | val_loss: 0.88 - val_rmse: 0.94 - val_mae: 0.75 - took 0.0 sec\n",
            "Epoch 6/150  | val_loss: 0.87 - val_rmse: 0.93 - val_mae: 0.74 - took 0.0 sec\n",
            "Epoch 7/150  | val_loss: 0.86 - val_rmse: 0.93 - val_mae: 0.74 - took 0.0 sec\n",
            "Epoch 8/150  | val_loss: 0.85 - val_rmse: 0.92 - val_mae: 0.73 - took 0.0 sec\n",
            "Epoch 9/150  | val_loss: 0.85 - val_rmse: 0.92 - val_mae: 0.73 - took 0.0 sec\n",
            "Epoch 10/150 | val_loss: 0.85 - val_rmse: 0.92 - val_mae: 0.73 - took 0.0 sec\n",
            "Epoch 11/150 | val_loss: 0.84 - val_rmse: 0.92 - val_mae: 0.73 - took 0.0 sec\n",
            "Epoch 12/150 | val_loss: 0.84 - val_rmse: 0.92 - val_mae: 0.73 - took 0.0 sec\n",
            "Epoch 13/150 | val_loss: 0.84 - val_rmse: 0.92 - val_mae: 0.73 - took 0.0 sec\n",
            "Epoch 14/150 | val_loss: 0.84 - val_rmse: 0.91 - val_mae: 0.72 - took 0.0 sec\n",
            "Epoch 15/150 | val_loss: 0.83 - val_rmse: 0.91 - val_mae: 0.72 - took 0.0 sec\n",
            "\n",
            "Training took 0 sec\n",
            "Mae is 0.7263 and Rmse is 0.9162\n",
            "Training time is 0.4999 and Prediction time is 0.168\n"
          ]
        }
      ],
      "source": [
        "#SVD\n",
        "svd_mae_m3_40, svd_rmse_m3_40, tt_svd_m3_40, pt_svd_m3_40 = Svd(train_pruned_40, val_pruned_40, X_test, y_test) "
      ]
    },
    {
      "cell_type": "code",
      "execution_count": 489,
      "metadata": {
        "id": "e44W2b5QRjSw"
      },
      "outputs": [],
      "source": [
        "train_pruned_40 = train_pruned_40.drop(['rating'], axis = 1) "
      ]
    },
    {
      "cell_type": "code",
      "execution_count": 490,
      "metadata": {
        "colab": {
          "base_uri": "https://localhost:8080/"
        },
        "id": "6OYETLM0RjSw",
        "outputId": "72055c60-d8bd-4a87-d6a8-b86596b8a3dc"
      },
      "outputs": [
        {
          "name": "stdout",
          "output_type": "stream",
          "text": [
            "The mae is 0.8027 and rmse is 0.9896\n",
            "Training time is 9.4962 and Prediction time is 0.0319\n"
          ]
        }
      ],
      "source": [
        "#XgBoost\n",
        "xb_mae_m3_40, xb_rmse_m3_40,tt_xb_m3_40, pt_xb_m3_40 = XgBoost(train_pruned_40, y_train_pruned_40, X_test, y_test)"
      ]
    },
    {
      "cell_type": "code",
      "execution_count": 491,
      "metadata": {
        "colab": {
          "base_uri": "https://localhost:8080/"
        },
        "id": "O1fnkPoORjSw",
        "outputId": "93945551-d562-4709-827f-649f115ac7df"
      },
      "outputs": [
        {
          "name": "stdout",
          "output_type": "stream",
          "text": [
            "The mae is 0.8606 and rmse is 1.182\n",
            "Training time is 838.2211 and Prediction time is 20.0919\n"
          ]
        }
      ],
      "source": [
        "#Random Forest\n",
        "rf_mae_m3_40, rf_rmse_m3_40, tt_rf_m3_40, pt_rf_m3_40 = Random_Forest(train_pruned_40, y_train_pruned_40, X_test, y_test)"
      ]
    },
    {
      "attachments": {},
      "cell_type": "markdown",
      "metadata": {
        "id": "-EoEAVH8tzKU"
      },
      "source": [
        "### Model Four (M4) - Pruning data on the basis of timestamp\n",
        "#### The MovieLens1M dataset consists of data between 1997 and 2003."
      ]
    },
    {
      "attachments": {},
      "cell_type": "markdown",
      "metadata": {
        "id": "yIssWcnqNfok"
      },
      "source": [
        "#### Pruning data for initial 4 months"
      ]
    },
    {
      "cell_type": "code",
      "execution_count": 787,
      "metadata": {
        "colab": {
          "base_uri": "https://localhost:8080/"
        },
        "id": "r-43Qrw8xw1w",
        "outputId": "949122a1-85c9-49a9-e898-f3131428f444"
      },
      "outputs": [
        {
          "data": {
            "text/plain": [
              "765159"
            ]
          },
          "execution_count": 787,
          "metadata": {},
          "output_type": "execute_result"
        }
      ],
      "source": [
        "len(X_train)"
      ]
    },
    {
      "cell_type": "code",
      "execution_count": 788,
      "metadata": {
        "colab": {
          "base_uri": "https://localhost:8080/"
        },
        "id": "8s-bHSHruOhS",
        "outputId": "ad0eff6d-d369-47c4-90a9-182edb3878e3"
      },
      "outputs": [
        {
          "name": "stderr",
          "output_type": "stream",
          "text": [
            "/var/folders/dx/3vxbz5s15v9d6d9kx6cr_0ph0000gn/T/ipykernel_15853/3011600169.py:3: FutureWarning: The behavior of `series[i:j]` with an integer-dtype index is deprecated. In a future version, this will be treated as *label-based* indexing, consistent with e.g. `series[i]` lookups. To retain the old behavior, use `series.iloc[i:j]`. To get the future behavior, use `series.loc[i:j]`.\n",
            "  Timestamp[:300000]\n"
          ]
        },
        {
          "data": {
            "text/plain": [
              "999874     956703954.0\n",
              "1000008    956703977.0\n",
              "1000193    956703977.0\n",
              "999921     956704056.0\n",
              "999981     956704056.0\n",
              "              ...     \n",
              "556361     967396919.0\n",
              "556347     967396945.0\n",
              "556090     967396948.0\n",
              "556068     967396948.0\n",
              "556043     967396948.0\n",
              "Name: timestamp, Length: 300000, dtype: float64"
            ]
          },
          "execution_count": 788,
          "metadata": {},
          "output_type": "execute_result"
        }
      ],
      "source": [
        "from datetime import datetime \n",
        "Timestamp = X_train['timestamp'].sort_values(ascending = True)  \n",
        "Timestamp[:300000] \n"
      ]
    },
    {
      "cell_type": "code",
      "execution_count": 789,
      "metadata": {
        "colab": {
          "base_uri": "https://localhost:8080/"
        },
        "id": "hsuBQCamucWp",
        "outputId": "24c7c148-6572-4c48-ad82-b8f5afdcaba3"
      },
      "outputs": [
        {
          "name": "stdout",
          "output_type": "stream",
          "text": [
            "04-25-2000\n"
          ]
        }
      ],
      "source": [
        "ts = int(\"956703932\") \n",
        "print(datetime.utcfromtimestamp(ts).strftime('%m-%d-%Y')) "
      ]
    },
    {
      "cell_type": "code",
      "execution_count": 790,
      "metadata": {
        "colab": {
          "base_uri": "https://localhost:8080/"
        },
        "id": "ZoBK_bSPucZo",
        "outputId": "3d0253ee-89ef-428b-ecdb-56d38c60f32a"
      },
      "outputs": [
        {
          "name": "stdout",
          "output_type": "stream",
          "text": [
            "08-27-2000\n"
          ]
        }
      ],
      "source": [
        "ts = int(\"967396948\")  \n",
        "print(datetime.utcfromtimestamp(ts).strftime('%m-%d-%Y')) "
      ]
    },
    {
      "cell_type": "code",
      "execution_count": 791,
      "metadata": {
        "id": "B_bEy7T9Q7N2"
      },
      "outputs": [],
      "source": [
        "timestamp1 = 967396948\n",
        "def timestamp_n(X_train_timestamp, y_train, timestamp): \n",
        "  # concating X_train and y_train \n",
        "  X_train_timestamp_for_pruning = pd.concat([X_train_timestamp, y_train], axis = 1)\n",
        "  # pruning train data \n",
        "  X_train_timestamp_pruned = X_train_timestamp_for_pruning[X_train_timestamp_for_pruning['timestamp'] > timestamp] \n",
        "  y_train_timestamp_pruned = X_train_timestamp_pruned['rating']\n",
        "  X_train_timestamp_pruned.columns = ['u_id','i_id','timestamp','rating'] \n",
        "  return X_train_timestamp_pruned, y_train_timestamp_pruned\n",
        "X_train_timestamp_pruned, y_train_timestamp_pruned = timestamp_n(X_train, y_train, timestamp1)"
      ]
    },
    {
      "cell_type": "code",
      "execution_count": 792,
      "metadata": {
        "id": "0U-AvYnJQ7SG"
      },
      "outputs": [],
      "source": [
        "# for validation set \n",
        "X_val_timestamp_pruned, y_val_timestamp_pruned = timestamp_n(X_val, y_val, timestamp1) "
      ]
    },
    {
      "attachments": {},
      "cell_type": "markdown",
      "metadata": {},
      "source": [
        "#### FunkSVD - M4"
      ]
    },
    {
      "cell_type": "code",
      "execution_count": 793,
      "metadata": {
        "colab": {
          "base_uri": "https://localhost:8080/"
        },
        "id": "FmBC_vQFxJ9I",
        "outputId": "7063a4ed-3dfe-4108-f9ff-32dd6098743f"
      },
      "outputs": [
        {
          "name": "stdout",
          "output_type": "stream",
          "text": [
            "Preprocessing data...\n",
            "\n",
            "Preprocessing data...\n",
            "\n",
            "Epoch 1/150  | val_loss: 1.07 - val_rmse: 1.03 - val_mae: 0.85 - took 0.0 sec\n",
            "Epoch 2/150  | val_loss: 0.99 - val_rmse: 1.00 - val_mae: 0.80 - took 0.0 sec\n",
            "Epoch 3/150  | val_loss: 0.95 - val_rmse: 0.98 - val_mae: 0.78 - took 0.0 sec\n",
            "Epoch 4/150  | val_loss: 0.93 - val_rmse: 0.96 - val_mae: 0.77 - took 0.0 sec\n",
            "Epoch 5/150  | val_loss: 0.91 - val_rmse: 0.95 - val_mae: 0.76 - took 0.0 sec\n",
            "Epoch 6/150  | val_loss: 0.89 - val_rmse: 0.95 - val_mae: 0.75 - took 0.1 sec\n",
            "Epoch 7/150  | val_loss: 0.89 - val_rmse: 0.94 - val_mae: 0.75 - took 0.1 sec\n",
            "Epoch 8/150  | val_loss: 0.88 - val_rmse: 0.94 - val_mae: 0.74 - took 0.1 sec\n",
            "Epoch 9/150  | val_loss: 0.87 - val_rmse: 0.93 - val_mae: 0.74 - took 0.1 sec\n",
            "Epoch 10/150 | val_loss: 0.87 - val_rmse: 0.93 - val_mae: 0.74 - took 0.1 sec\n",
            "Epoch 11/150 | val_loss: 0.86 - val_rmse: 0.93 - val_mae: 0.74 - took 0.0 sec\n",
            "Epoch 12/150 | val_loss: 0.86 - val_rmse: 0.93 - val_mae: 0.74 - took 0.0 sec\n",
            "Epoch 13/150 | val_loss: 0.86 - val_rmse: 0.92 - val_mae: 0.73 - took 0.0 sec\n",
            "Epoch 14/150 | val_loss: 0.85 - val_rmse: 0.92 - val_mae: 0.73 - took 0.0 sec\n",
            "Epoch 15/150 | val_loss: 0.85 - val_rmse: 0.92 - val_mae: 0.73 - took 0.0 sec\n",
            "Epoch 16/150 | val_loss: 0.85 - val_rmse: 0.92 - val_mae: 0.73 - took 0.0 sec\n",
            "Epoch 17/150 | val_loss: 0.85 - val_rmse: 0.92 - val_mae: 0.73 - took 0.0 sec\n",
            "\n",
            "Training took 1 sec\n",
            "Mae is 0.755 and Rmse is 0.9534\n",
            "Training time is 0.88 and Prediction time is 0.1892\n"
          ]
        }
      ],
      "source": [
        "svd_mae_m4, svd_rmse_m4, tt_svd_m4, pt_svd_m4 = Svd(X_train_timestamp_pruned, X_val_timestamp_pruned, X_test, y_test) "
      ]
    },
    {
      "cell_type": "code",
      "execution_count": 794,
      "metadata": {
        "id": "y2wmdzk4f-C3"
      },
      "outputs": [],
      "source": [
        "X_train_timestamp_pruned.drop(['rating'],axis = 1, inplace = True) "
      ]
    },
    {
      "attachments": {},
      "cell_type": "markdown",
      "metadata": {},
      "source": [
        "#### XgBoost - M4"
      ]
    },
    {
      "cell_type": "code",
      "execution_count": 795,
      "metadata": {
        "colab": {
          "base_uri": "https://localhost:8080/"
        },
        "id": "cnCRRLNOfJh3",
        "outputId": "c48f399a-b7d0-4242-d8c9-37e5282eb5ee"
      },
      "outputs": [
        {
          "name": "stdout",
          "output_type": "stream",
          "text": [
            "Mae is 0.8327 and Rmse is 1.0353\n",
            "Training time is 15.0899 and Prediction time is 0.0739\n"
          ]
        }
      ],
      "source": [
        "xb = XGBRegressor()\n",
        "start = time.time() \n",
        "xb.fit(X_train_timestamp_pruned, y_train_timestamp_pruned)\n",
        "tt_xb_m4 = round(time.time() - start, 4)\n",
        "start = time.time()\n",
        "xb_pred = xb.predict(X_test)  \n",
        "pt_xb_m4 = round(time.time() - start, 4)\n",
        "xb_mae_m4 =  round(mean_absolute_error(y_test, xb_pred),4)\n",
        "xb_rmse_m4 =  round(mean_squared_error(y_test, xb_pred, squared = False),4)\n",
        "print(f'Mae is {xb_mae_m4} and Rmse is {xb_rmse_m4}') \n",
        "print(f'Training time is {tt_xb_m4} and Prediction time is {pt_xb_m4}')\n"
      ]
    },
    {
      "attachments": {},
      "cell_type": "markdown",
      "metadata": {},
      "source": [
        "#### Random Forest Regressor - M4"
      ]
    },
    {
      "cell_type": "code",
      "execution_count": 796,
      "metadata": {
        "colab": {
          "base_uri": "https://localhost:8080/"
        },
        "id": "-93TjYIKfJlS",
        "outputId": "2c080e0f-f563-4723-beb1-0b146b1d4c65"
      },
      "outputs": [
        {
          "name": "stdout",
          "output_type": "stream",
          "text": [
            "The mae is 0.8762 and rmse is 1.2153\n",
            "Training time is 349.6351 and Prediction time is 11.5661\n"
          ]
        }
      ],
      "source": [
        "rf_mae_m4, rf_rmse_m4, tt_rf_m4, pt_rf_m4   = Random_Forest(X_train_timestamp_pruned, y_train_timestamp_pruned, X_test, y_test)"
      ]
    },
    {
      "attachments": {},
      "cell_type": "markdown",
      "metadata": {
        "id": "YXSWhhySdc2v"
      },
      "source": [
        "### Random Pruning-M4"
      ]
    },
    {
      "cell_type": "code",
      "execution_count": 797,
      "metadata": {
        "id": "rZprtv13dpzB"
      },
      "outputs": [
        {
          "data": {
            "text/plain": [
              "300001"
            ]
          },
          "execution_count": 797,
          "metadata": {},
          "output_type": "execute_result"
        }
      ],
      "source": [
        "n_m4 = difference(X_train, X_train_timestamp_pruned) \n",
        "n_m4"
      ]
    },
    {
      "cell_type": "code",
      "execution_count": 798,
      "metadata": {
        "id": "E9JhtOEPdpzB"
      },
      "outputs": [],
      "source": [
        "X_train_randomly_pruned4, y_train_randomly_pruned4 = random_pruning(X_train, y_train,n_m4,10) "
      ]
    },
    {
      "cell_type": "code",
      "execution_count": 799,
      "metadata": {
        "colab": {
          "base_uri": "https://localhost:8080/"
        },
        "id": "KpnrZAY8dpzB",
        "outputId": "7d61d1c2-accd-4289-ebbc-c61bf0a836d3"
      },
      "outputs": [
        {
          "data": {
            "text/plain": [
              "(465158, 4)"
            ]
          },
          "execution_count": 799,
          "metadata": {},
          "output_type": "execute_result"
        }
      ],
      "source": [
        "X_train_randomly_pruned4.shape"
      ]
    },
    {
      "cell_type": "code",
      "execution_count": 824,
      "metadata": {
        "id": "OjXJaDFYdpzB"
      },
      "outputs": [
        {
          "data": {
            "text/plain": [
              "52815"
            ]
          },
          "execution_count": 824,
          "metadata": {},
          "output_type": "execute_result"
        }
      ],
      "source": [
        "n_v_m4 = difference(X_val, X_val_timestamp_pruned)\n",
        "n_v_m4"
      ]
    },
    {
      "cell_type": "code",
      "execution_count": 801,
      "metadata": {
        "id": "EjtkH4PfdpzB"
      },
      "outputs": [],
      "source": [
        "X_val_randomly_pruned4, y_val_randomly_pruned4 = random_pruning(X_val, y_val,n_v_m4,10)"
      ]
    },
    {
      "cell_type": "code",
      "execution_count": 802,
      "metadata": {
        "colab": {
          "base_uri": "https://localhost:8080/"
        },
        "id": "wnKockeAdpzB",
        "outputId": "b0a0ba0f-1569-43f1-822b-9e38c0d4cd5b"
      },
      "outputs": [
        {
          "data": {
            "text/plain": [
              "(82214, 4)"
            ]
          },
          "execution_count": 802,
          "metadata": {},
          "output_type": "execute_result"
        }
      ],
      "source": [
        "X_val_randomly_pruned4.shape"
      ]
    },
    {
      "cell_type": "code",
      "execution_count": 803,
      "metadata": {
        "colab": {
          "base_uri": "https://localhost:8080/"
        },
        "id": "li6q_SXadpzB",
        "outputId": "2f56c994-30d5-4147-ebcb-6349f3aea80f"
      },
      "outputs": [
        {
          "name": "stdout",
          "output_type": "stream",
          "text": [
            "Preprocessing data...\n",
            "\n",
            "Preprocessing data...\n",
            "\n",
            "Epoch 1/150  | val_loss: 1.09 - val_rmse: 1.04 - val_mae: 0.86 - took 0.0 sec\n",
            "Epoch 2/150  | val_loss: 1.01 - val_rmse: 1.01 - val_mae: 0.82 - took 0.0 sec\n",
            "Epoch 3/150  | val_loss: 0.97 - val_rmse: 0.99 - val_mae: 0.79 - took 0.0 sec\n",
            "Epoch 4/150  | val_loss: 0.94 - val_rmse: 0.97 - val_mae: 0.78 - took 0.0 sec\n",
            "Epoch 5/150  | val_loss: 0.92 - val_rmse: 0.96 - val_mae: 0.77 - took 0.0 sec\n",
            "Epoch 6/150  | val_loss: 0.91 - val_rmse: 0.95 - val_mae: 0.76 - took 0.0 sec\n",
            "Epoch 7/150  | val_loss: 0.90 - val_rmse: 0.95 - val_mae: 0.76 - took 0.0 sec\n",
            "Epoch 8/150  | val_loss: 0.89 - val_rmse: 0.94 - val_mae: 0.75 - took 0.0 sec\n",
            "Epoch 9/150  | val_loss: 0.88 - val_rmse: 0.94 - val_mae: 0.75 - took 0.0 sec\n",
            "Epoch 10/150 | val_loss: 0.88 - val_rmse: 0.94 - val_mae: 0.75 - took 0.0 sec\n",
            "Epoch 11/150 | val_loss: 0.87 - val_rmse: 0.93 - val_mae: 0.74 - took 0.0 sec\n",
            "Epoch 12/150 | val_loss: 0.87 - val_rmse: 0.93 - val_mae: 0.74 - took 0.0 sec\n",
            "Epoch 13/150 | val_loss: 0.87 - val_rmse: 0.93 - val_mae: 0.74 - took 0.0 sec\n",
            "Epoch 14/150 | val_loss: 0.86 - val_rmse: 0.93 - val_mae: 0.74 - took 0.0 sec\n",
            "Epoch 15/150 | val_loss: 0.86 - val_rmse: 0.93 - val_mae: 0.74 - took 0.0 sec\n",
            "Epoch 16/150 | val_loss: 0.86 - val_rmse: 0.93 - val_mae: 0.74 - took 0.0 sec\n",
            "Epoch 17/150 | val_loss: 0.86 - val_rmse: 0.93 - val_mae: 0.73 - took 0.0 sec\n",
            "Epoch 18/150 | val_loss: 0.85 - val_rmse: 0.92 - val_mae: 0.73 - took 0.0 sec\n",
            "\n",
            "Training took 1 sec\n",
            "Mae is 0.7354 and Rmse is 0.9283\n",
            "Training time is 0.6332 and Prediction time is 0.2255\n"
          ]
        }
      ],
      "source": [
        "#SVD\n",
        "svd_mae_rp_m4, svd_rmse_rp_m4,tt_svd_rp_m4, pt_svd_rp_m4 = Svd(X_train_randomly_pruned4, X_val_randomly_pruned4, X_test, y_test) "
      ]
    },
    {
      "cell_type": "code",
      "execution_count": 804,
      "metadata": {
        "id": "gLqIJNX8dpzB"
      },
      "outputs": [],
      "source": [
        "X_train_randomly_pruned4.drop(['rating'], axis = 1, inplace = True) "
      ]
    },
    {
      "cell_type": "code",
      "execution_count": 805,
      "metadata": {
        "colab": {
          "base_uri": "https://localhost:8080/"
        },
        "id": "YqnF6AwzdpzB",
        "outputId": "1a357667-c6eb-49d1-e5fc-a39ab05d6f7f"
      },
      "outputs": [
        {
          "name": "stdout",
          "output_type": "stream",
          "text": [
            "The mae is 0.8115 and rmse is 1.0015\n",
            "Training time is 15.15 and Prediction time is 0.0601\n"
          ]
        }
      ],
      "source": [
        "#XgBoost\n",
        "xb_mae_rp_m4, xb_rmse_rp_m4, tt_xb_rp_m4, pt_xb_rp_m4 = XgBoost(X_train_randomly_pruned4, y_train_randomly_pruned4, X_test, y_test) "
      ]
    },
    {
      "cell_type": "code",
      "execution_count": 806,
      "metadata": {
        "colab": {
          "base_uri": "https://localhost:8080/"
        },
        "id": "tY66woSwdpzC",
        "outputId": "c8f1a187-5b22-4f10-a305-4f0e086137cb"
      },
      "outputs": [
        {
          "name": "stdout",
          "output_type": "stream",
          "text": [
            "The mae is 0.8686 and rmse is 1.2052\n",
            "Training time is 340.5882 and Prediction time is 17.6488\n"
          ]
        }
      ],
      "source": [
        "#Random Forest Regressor\n",
        "rf_mae_rp_m4, rf_rmse_rp_m4, tt_rf_rp_m4, pt_rf_rp_m4 = Random_Forest(X_train_randomly_pruned4, y_train_randomly_pruned4, X_test, y_test) "
      ]
    },
    {
      "attachments": {},
      "cell_type": "markdown",
      "metadata": {
        "id": "OKnP7tzER8cB"
      },
      "source": [
        "#### Puning data for initial 6 months\n"
      ]
    },
    {
      "cell_type": "code",
      "execution_count": 807,
      "metadata": {
        "colab": {
          "base_uri": "https://localhost:8080/"
        },
        "id": "IVVv6Z_1SHQG",
        "outputId": "32cb64d3-61c0-4c29-abe0-9cfbadd35a74"
      },
      "outputs": [
        {
          "name": "stderr",
          "output_type": "stream",
          "text": [
            "/var/folders/dx/3vxbz5s15v9d6d9kx6cr_0ph0000gn/T/ipykernel_15853/1723413462.py:3: FutureWarning: The behavior of `series[i:j]` with an integer-dtype index is deprecated. In a future version, this will be treated as *label-based* indexing, consistent with e.g. `series[i]` lookups. To retain the old behavior, use `series.iloc[i:j]`. To get the future behavior, use `series.loc[i:j]`.\n",
            "  Timestamp[:520000]\n"
          ]
        },
        {
          "data": {
            "text/plain": [
              "999874     956703954.0\n",
              "1000008    956703977.0\n",
              "1000193    956703977.0\n",
              "999921     956704056.0\n",
              "999981     956704056.0\n",
              "              ...     \n",
              "272944     974805774.0\n",
              "273069     974805774.0\n",
              "272902     974805774.0\n",
              "273098     974805795.0\n",
              "273164     974805795.0\n",
              "Name: timestamp, Length: 520000, dtype: float64"
            ]
          },
          "execution_count": 807,
          "metadata": {},
          "output_type": "execute_result"
        }
      ],
      "source": [
        "from datetime import datetime \n",
        "Timestamp = X_train['timestamp'].sort_values(ascending = True)  \n",
        "Timestamp[:520000] "
      ]
    },
    {
      "cell_type": "code",
      "execution_count": 808,
      "metadata": {
        "colab": {
          "base_uri": "https://localhost:8080/"
        },
        "id": "Nv94Yh2ASHQG",
        "outputId": "8f0f730f-16e8-4ee7-e4e8-ce13f67173d2"
      },
      "outputs": [
        {
          "name": "stdout",
          "output_type": "stream",
          "text": [
            "04-25-2000\n"
          ]
        }
      ],
      "source": [
        "ts = int(\"956703932\") \n",
        "print(datetime.utcfromtimestamp(ts).strftime('%m-%d-%Y')) "
      ]
    },
    {
      "cell_type": "code",
      "execution_count": 809,
      "metadata": {
        "colab": {
          "base_uri": "https://localhost:8080/"
        },
        "id": "MzB7o4rHSHQG",
        "outputId": "b175cfdb-4cf7-475d-cdd7-9fe15b6b06cd"
      },
      "outputs": [
        {
          "name": "stdout",
          "output_type": "stream",
          "text": [
            "11-21-2000\n"
          ]
        }
      ],
      "source": [
        "ts = int(\"974805795\") \n",
        "print(datetime.utcfromtimestamp(ts).strftime('%m-%d-%Y')) "
      ]
    },
    {
      "cell_type": "code",
      "execution_count": 810,
      "metadata": {
        "id": "rnkaAPj6fipb"
      },
      "outputs": [],
      "source": [
        "# for training data\n",
        "timestamp2 = 974805795\n",
        "X_train_timestamp_pruned_3, y_train_timestamp_pruned_3 = timestamp_n(X_train, y_train, timestamp2)"
      ]
    },
    {
      "cell_type": "code",
      "execution_count": 811,
      "metadata": {
        "id": "ZrLx_DNrfisw"
      },
      "outputs": [],
      "source": [
        "# for validation data\n",
        "X_val_timestamp_pruned_3, y_val_timestamp_pruned_3 = timestamp_n(X_val, y_val, timestamp2)"
      ]
    },
    {
      "cell_type": "code",
      "execution_count": 812,
      "metadata": {
        "colab": {
          "base_uri": "https://localhost:8080/"
        },
        "id": "2sRhQpjdSHQN",
        "outputId": "61f00266-53ec-4068-cbcd-798340a72af4"
      },
      "outputs": [
        {
          "name": "stdout",
          "output_type": "stream",
          "text": [
            "Preprocessing data...\n",
            "\n",
            "Preprocessing data...\n",
            "\n",
            "Epoch 1/150  | val_loss: 1.11 - val_rmse: 1.05 - val_mae: 0.87 - took 0.0 sec\n",
            "Epoch 2/150  | val_loss: 1.04 - val_rmse: 1.02 - val_mae: 0.83 - took 0.0 sec\n",
            "Epoch 3/150  | val_loss: 0.99 - val_rmse: 1.00 - val_mae: 0.81 - took 0.0 sec\n",
            "Epoch 4/150  | val_loss: 0.96 - val_rmse: 0.98 - val_mae: 0.79 - took 0.0 sec\n",
            "Epoch 5/150  | val_loss: 0.94 - val_rmse: 0.97 - val_mae: 0.78 - took 0.0 sec\n",
            "Epoch 6/150  | val_loss: 0.93 - val_rmse: 0.96 - val_mae: 0.77 - took 0.0 sec\n",
            "Epoch 7/150  | val_loss: 0.91 - val_rmse: 0.96 - val_mae: 0.76 - took 0.0 sec\n",
            "Epoch 8/150  | val_loss: 0.90 - val_rmse: 0.95 - val_mae: 0.76 - took 0.0 sec\n",
            "Epoch 9/150  | val_loss: 0.89 - val_rmse: 0.95 - val_mae: 0.75 - took 0.0 sec\n",
            "Epoch 10/150 | val_loss: 0.89 - val_rmse: 0.94 - val_mae: 0.75 - took 0.0 sec\n",
            "Epoch 11/150 | val_loss: 0.88 - val_rmse: 0.94 - val_mae: 0.75 - took 0.0 sec\n",
            "Epoch 12/150 | val_loss: 0.88 - val_rmse: 0.94 - val_mae: 0.75 - took 0.0 sec\n",
            "Epoch 13/150 | val_loss: 0.87 - val_rmse: 0.93 - val_mae: 0.74 - took 0.0 sec\n",
            "Epoch 14/150 | val_loss: 0.87 - val_rmse: 0.93 - val_mae: 0.74 - took 0.0 sec\n",
            "Epoch 15/150 | val_loss: 0.87 - val_rmse: 0.93 - val_mae: 0.74 - took 0.0 sec\n",
            "Epoch 16/150 | val_loss: 0.86 - val_rmse: 0.93 - val_mae: 0.74 - took 0.0 sec\n",
            "Epoch 17/150 | val_loss: 0.86 - val_rmse: 0.93 - val_mae: 0.74 - took 0.0 sec\n",
            "Epoch 18/150 | val_loss: 0.86 - val_rmse: 0.93 - val_mae: 0.74 - took 0.0 sec\n",
            "Epoch 19/150 | val_loss: 0.86 - val_rmse: 0.93 - val_mae: 0.73 - took 0.0 sec\n",
            "Epoch 20/150 | val_loss: 0.85 - val_rmse: 0.92 - val_mae: 0.73 - took 0.0 sec\n",
            "Epoch 21/150 | val_loss: 0.85 - val_rmse: 0.92 - val_mae: 0.73 - took 0.0 sec\n",
            "\n",
            "Training took 0 sec\n",
            "Mae is 0.7748 and Rmse is 0.9757\n",
            "Training time is 0.3442 and Prediction time is 0.1592\n"
          ]
        }
      ],
      "source": [
        "# SVD \n",
        "svd_mae_m4_t2, svd_rmse_m4_t2, tt_svd_m4_t2, pt_svd_m4_t2 = Svd(X_train_timestamp_pruned_3, X_val_timestamp_pruned_3, X_test, y_test) "
      ]
    },
    {
      "cell_type": "code",
      "execution_count": 813,
      "metadata": {
        "id": "BvTAES3KSHQO"
      },
      "outputs": [],
      "source": [
        "X_train_timestamp_pruned_3.drop(['rating'],axis = 1, inplace = True) "
      ]
    },
    {
      "cell_type": "code",
      "execution_count": 814,
      "metadata": {
        "colab": {
          "base_uri": "https://localhost:8080/"
        },
        "id": "sXouuxTlSHQO",
        "outputId": "a993484a-95bb-436b-9d04-7be7b9ac9d6e"
      },
      "outputs": [
        {
          "name": "stdout",
          "output_type": "stream",
          "text": [
            "0.9429 1.1477\n"
          ]
        }
      ],
      "source": [
        "# Xgboost \n",
        "xb = XGBRegressor()\n",
        "xb.fit(X_train_timestamp_pruned_3, y_train_timestamp_pruned_3)\n",
        "xb_pred = xb.predict(X_test)\n",
        "xb_mae_m4_t2 =  round(mean_absolute_error(y_test, xb_pred),4)\n",
        "xb_rmse_m4_t2  =  round(mean_squared_error(y_test, xb_pred, squared = False),4)\n",
        "print(xb_mae_m4_t2, xb_rmse_m4_t2 ) \n"
      ]
    },
    {
      "cell_type": "code",
      "execution_count": 815,
      "metadata": {
        "colab": {
          "base_uri": "https://localhost:8080/"
        },
        "id": "io5V0vEMSHQQ",
        "outputId": "035184d2-54af-4d23-d2f9-791d565b4f5d"
      },
      "outputs": [
        {
          "name": "stdout",
          "output_type": "stream",
          "text": [
            "The mae is 0.877 and rmse is 1.2176\n",
            "Training time is 336.7358 and Prediction time is 15.0182\n"
          ]
        }
      ],
      "source": [
        "# Random Forest Regressor\n",
        "rf_mae_m4_t2, rf_rmse_m4_t2,tt_rf_m4_t2, pt_rf_m4_t2 = Random_Forest(X_train_timestamp_pruned, y_train_timestamp_pruned, X_test, y_test)"
      ]
    },
    {
      "attachments": {},
      "cell_type": "markdown",
      "metadata": {
        "id": "0zrnEMRo45X4"
      },
      "source": [
        "### Model five (M5) - Pruning users whose occupation is 'other'"
      ]
    },
    {
      "cell_type": "code",
      "execution_count": 619,
      "metadata": {
        "id": "bu0aCR4OAMiB"
      },
      "outputs": [],
      "source": [
        "def prune_other(X_set, y_set):\n",
        "   X_train_other = pd.concat([X_set, y_set], axis = 1)\n",
        "   output = np.where(user_data['occupation'] == 'other')\n",
        "   X_train_other1 = X_train_other[~X_train_other.u_id.isin(output[0])]\n",
        "   y_train_other1 = X_train_other1['rating']\n",
        "   return X_train_other1, y_train_other1  \n",
        "X_train_other1, y_train_other1 = prune_other(X_train, y_train)"
      ]
    },
    {
      "cell_type": "code",
      "execution_count": 620,
      "metadata": {
        "id": "uY-bnNAvDlcA"
      },
      "outputs": [],
      "source": [
        "# For validation set\n",
        "X_val_other1, y_val_other1 = prune_other(X_val, y_val) "
      ]
    },
    {
      "attachments": {},
      "cell_type": "markdown",
      "metadata": {},
      "source": [
        "#### FunkSVD - M5"
      ]
    },
    {
      "cell_type": "code",
      "execution_count": 621,
      "metadata": {
        "colab": {
          "base_uri": "https://localhost:8080/"
        },
        "id": "BGH__J2fDU8Q",
        "outputId": "cbec8d27-db53-4727-bbdb-34b349a19e17"
      },
      "outputs": [
        {
          "name": "stdout",
          "output_type": "stream",
          "text": [
            "Preprocessing data...\n",
            "\n",
            "Preprocessing data...\n",
            "\n",
            "Epoch 1/150  | val_loss: 1.04 - val_rmse: 1.02 - val_mae: 0.83 - took 0.0 sec\n",
            "Epoch 2/150  | val_loss: 0.97 - val_rmse: 0.98 - val_mae: 0.79 - took 0.0 sec\n",
            "Epoch 3/150  | val_loss: 0.93 - val_rmse: 0.96 - val_mae: 0.77 - took 0.0 sec\n",
            "Epoch 4/150  | val_loss: 0.91 - val_rmse: 0.95 - val_mae: 0.76 - took 0.0 sec\n",
            "Epoch 5/150  | val_loss: 0.89 - val_rmse: 0.94 - val_mae: 0.75 - took 0.0 sec\n",
            "Epoch 6/150  | val_loss: 0.88 - val_rmse: 0.94 - val_mae: 0.75 - took 0.0 sec\n",
            "Epoch 7/150  | val_loss: 0.87 - val_rmse: 0.93 - val_mae: 0.74 - took 0.0 sec\n",
            "Epoch 8/150  | val_loss: 0.87 - val_rmse: 0.93 - val_mae: 0.74 - took 0.0 sec\n",
            "Epoch 9/150  | val_loss: 0.86 - val_rmse: 0.93 - val_mae: 0.74 - took 0.0 sec\n",
            "Epoch 10/150 | val_loss: 0.86 - val_rmse: 0.93 - val_mae: 0.74 - took 0.0 sec\n",
            "Epoch 11/150 | val_loss: 0.85 - val_rmse: 0.92 - val_mae: 0.73 - took 0.0 sec\n",
            "Epoch 12/150 | val_loss: 0.85 - val_rmse: 0.92 - val_mae: 0.73 - took 0.0 sec\n",
            "Epoch 13/150 | val_loss: 0.85 - val_rmse: 0.92 - val_mae: 0.73 - took 0.0 sec\n",
            "Epoch 14/150 | val_loss: 0.85 - val_rmse: 0.92 - val_mae: 0.73 - took 0.0 sec\n",
            "Epoch 15/150 | val_loss: 0.84 - val_rmse: 0.92 - val_mae: 0.73 - took 0.0 sec\n",
            "\n",
            "Training took 1 sec\n",
            "Mae is 0.7318 and Rmse is 0.923\n",
            "Training time is 0.7297 and Prediction time is 0.2474\n"
          ]
        }
      ],
      "source": [
        "svd_mae_m5, svd_rmse_m5, tt_svd_m5, pt_svd_m5 = Svd(X_train_other1, X_val_other1, X_test, y_test) "
      ]
    },
    {
      "cell_type": "code",
      "execution_count": 622,
      "metadata": {
        "id": "NyZc7eBOEDlP"
      },
      "outputs": [],
      "source": [
        "X_train_other1.drop(['rating'], axis = 1, inplace = True)"
      ]
    },
    {
      "attachments": {},
      "cell_type": "markdown",
      "metadata": {},
      "source": [
        "#### XgBoost - M5"
      ]
    },
    {
      "cell_type": "code",
      "execution_count": 623,
      "metadata": {
        "colab": {
          "base_uri": "https://localhost:8080/"
        },
        "id": "-sUhpG7RDU_w",
        "outputId": "7e00ef32-d9bc-4826-b3cc-b06b8a2f7820"
      },
      "outputs": [
        {
          "name": "stdout",
          "output_type": "stream",
          "text": [
            "The mae is 0.8071 and rmse is 0.9956\n",
            "Training time is 20.3223 and Prediction time is 0.0732\n"
          ]
        }
      ],
      "source": [
        "xb_mae_m5, xb_rmse_m5, tt_xb_m5, pt_xb_m5 = XgBoost(X_train_other1, y_train_other1, X_test, y_test) "
      ]
    },
    {
      "attachments": {},
      "cell_type": "markdown",
      "metadata": {},
      "source": [
        "#### Random Forest Regressor - M5"
      ]
    },
    {
      "cell_type": "code",
      "execution_count": 526,
      "metadata": {
        "colab": {
          "base_uri": "https://localhost:8080/"
        },
        "id": "tXZNCTzxDVF7",
        "outputId": "377ae94d-810a-44ed-eb37-ab8691a4937f"
      },
      "outputs": [
        {
          "name": "stdout",
          "output_type": "stream",
          "text": [
            "The mae is 0.8618 and rmse is 1.1852\n",
            "Training time is 519.0091 and Prediction time is 25.0213\n"
          ]
        }
      ],
      "source": [
        "rf_mae_m5, rf_rmse_m5, tt_rf_m5, pt_rf_m5 = Random_Forest(X_train_other1, y_train_other1, X_test, y_test) "
      ]
    },
    {
      "attachments": {},
      "cell_type": "markdown",
      "metadata": {
        "id": "-3bkqJ6E0cug"
      },
      "source": [
        "### Random Pruning - M5"
      ]
    },
    {
      "cell_type": "code",
      "execution_count": 527,
      "metadata": {
        "id": "lNB7R1QNehD0"
      },
      "outputs": [
        {
          "data": {
            "text/plain": [
              "78326"
            ]
          },
          "execution_count": 527,
          "metadata": {},
          "output_type": "execute_result"
        }
      ],
      "source": [
        "n_m5 = difference(X_train, X_train_other1) \n",
        "n_m5"
      ]
    },
    {
      "cell_type": "code",
      "execution_count": 528,
      "metadata": {
        "id": "P9zuxt0-ehD1"
      },
      "outputs": [],
      "source": [
        "X_train_randomly_pruned5, y_train_randomly_pruned5 = random_pruning(X_train, y_train,n_m5,10) "
      ]
    },
    {
      "cell_type": "code",
      "execution_count": 529,
      "metadata": {
        "colab": {
          "base_uri": "https://localhost:8080/"
        },
        "id": "U-ahB4CSehD1",
        "outputId": "22876a4a-40f1-4ad2-d4d5-092c2601e11d"
      },
      "outputs": [
        {
          "data": {
            "text/plain": [
              "(686833, 4)"
            ]
          },
          "execution_count": 529,
          "metadata": {},
          "output_type": "execute_result"
        }
      ],
      "source": [
        "X_train_randomly_pruned5.shape"
      ]
    },
    {
      "cell_type": "code",
      "execution_count": 530,
      "metadata": {
        "id": "vELo-wsyehD1"
      },
      "outputs": [
        {
          "data": {
            "text/plain": [
              "13748"
            ]
          },
          "execution_count": 530,
          "metadata": {},
          "output_type": "execute_result"
        }
      ],
      "source": [
        "n_v_m5 = difference(X_val, X_val_other1)\n",
        "n_v_m5"
      ]
    },
    {
      "cell_type": "code",
      "execution_count": 531,
      "metadata": {
        "id": "sT7Q3GzSehD1"
      },
      "outputs": [],
      "source": [
        "X_val_randomly_pruned5, y_val_randomly_pruned5 = random_pruning(X_val, y_val,n_v_m5,10)"
      ]
    },
    {
      "cell_type": "code",
      "execution_count": 532,
      "metadata": {
        "colab": {
          "base_uri": "https://localhost:8080/"
        },
        "id": "0a3Cg90SehD2",
        "outputId": "b06c61bc-6b23-4b77-b643-6f83c847317d"
      },
      "outputs": [
        {
          "data": {
            "text/plain": [
              "(121281, 4)"
            ]
          },
          "execution_count": 532,
          "metadata": {},
          "output_type": "execute_result"
        }
      ],
      "source": [
        "X_val_randomly_pruned5.shape "
      ]
    },
    {
      "cell_type": "code",
      "execution_count": 533,
      "metadata": {
        "colab": {
          "base_uri": "https://localhost:8080/"
        },
        "id": "YeL3K5ZtehD2",
        "outputId": "401f516e-7cc5-4874-bb14-8df97d9d7781"
      },
      "outputs": [
        {
          "name": "stdout",
          "output_type": "stream",
          "text": [
            "Preprocessing data...\n",
            "\n",
            "Preprocessing data...\n",
            "\n",
            "Epoch 1/150  | val_loss: 1.04 - val_rmse: 1.02 - val_mae: 0.83 - took 0.0 sec\n",
            "Epoch 2/150  | val_loss: 0.97 - val_rmse: 0.98 - val_mae: 0.79 - took 0.0 sec\n",
            "Epoch 3/150  | val_loss: 0.93 - val_rmse: 0.97 - val_mae: 0.77 - took 0.0 sec\n",
            "Epoch 4/150  | val_loss: 0.91 - val_rmse: 0.95 - val_mae: 0.76 - took 0.0 sec\n",
            "Epoch 5/150  | val_loss: 0.89 - val_rmse: 0.94 - val_mae: 0.75 - took 0.0 sec\n",
            "Epoch 6/150  | val_loss: 0.88 - val_rmse: 0.94 - val_mae: 0.75 - took 0.0 sec\n",
            "Epoch 7/150  | val_loss: 0.87 - val_rmse: 0.93 - val_mae: 0.74 - took 0.0 sec\n",
            "Epoch 8/150  | val_loss: 0.87 - val_rmse: 0.93 - val_mae: 0.74 - took 0.0 sec\n",
            "Epoch 9/150  | val_loss: 0.86 - val_rmse: 0.93 - val_mae: 0.74 - took 0.0 sec\n",
            "Epoch 10/150 | val_loss: 0.86 - val_rmse: 0.93 - val_mae: 0.74 - took 0.0 sec\n",
            "Epoch 11/150 | val_loss: 0.85 - val_rmse: 0.92 - val_mae: 0.73 - took 0.0 sec\n",
            "Epoch 12/150 | val_loss: 0.85 - val_rmse: 0.92 - val_mae: 0.73 - took 0.0 sec\n",
            "Epoch 13/150 | val_loss: 0.85 - val_rmse: 0.92 - val_mae: 0.73 - took 0.0 sec\n",
            "Epoch 14/150 | val_loss: 0.85 - val_rmse: 0.92 - val_mae: 0.73 - took 0.0 sec\n",
            "Epoch 15/150 | val_loss: 0.84 - val_rmse: 0.92 - val_mae: 0.73 - took 0.0 sec\n",
            "\n",
            "Training took 1 sec\n",
            "Mae is 0.7265 and Rmse is 0.9158\n",
            "Training time is 0.7432 and Prediction time is 0.2377\n"
          ]
        }
      ],
      "source": [
        "#SVD\n",
        "svd_mae_rp_m5, svd_rmse_rp_m5, tt_svd_rp_m5, pt_svd_rp_m5 = Svd(X_train_randomly_pruned5, X_val_randomly_pruned5, X_test, y_test) "
      ]
    },
    {
      "cell_type": "code",
      "execution_count": 534,
      "metadata": {
        "id": "cmjw_UP7ehD2"
      },
      "outputs": [],
      "source": [
        "X_train_randomly_pruned5.drop(['rating'], axis = 1, inplace = True) "
      ]
    },
    {
      "cell_type": "code",
      "execution_count": 535,
      "metadata": {
        "colab": {
          "base_uri": "https://localhost:8080/"
        },
        "id": "pzm3r7vCehD2",
        "outputId": "97f82e5c-5d94-44f1-e446-d697ffd5987e"
      },
      "outputs": [
        {
          "name": "stdout",
          "output_type": "stream",
          "text": [
            "The mae is 0.8015 and rmse is 0.9883\n",
            "Training time is 19.1195 and Prediction time is 0.0543\n"
          ]
        }
      ],
      "source": [
        "#XgBoost\n",
        "xb_mae_rp_m5, xb_rmse_rp_m5, tt_xb_rp_m5, pt_xb_rp_m5 = XgBoost(X_train_randomly_pruned5, y_train_randomly_pruned5, X_test, y_test) "
      ]
    },
    {
      "cell_type": "code",
      "execution_count": 536,
      "metadata": {
        "colab": {
          "base_uri": "https://localhost:8080/"
        },
        "id": "yL7ZpSO2ehD2",
        "outputId": "242b038e-7480-4cba-b827-ee47a23a9284"
      },
      "outputs": [
        {
          "name": "stdout",
          "output_type": "stream",
          "text": [
            "The mae is 0.8622 and rmse is 1.1871\n",
            "Training time is 516.1707 and Prediction time is 24.2644\n"
          ]
        }
      ],
      "source": [
        "#Random Forest Regressor\n",
        "rf_mae_rp_m5, rf_rmse_rp_m5, tt_rf_rp_m5, pt_rf_rp_m5 = Random_Forest(X_train_randomly_pruned5, y_train_randomly_pruned5, X_test, y_test) "
      ]
    },
    {
      "attachments": {},
      "cell_type": "markdown",
      "metadata": {
        "id": "HjkMTml85B7W"
      },
      "source": [
        "### Model Six (M6) - Pruning users whose age is less than 18"
      ]
    },
    {
      "cell_type": "code",
      "execution_count": 624,
      "metadata": {
        "id": "J7UNGzwmCaaE"
      },
      "outputs": [],
      "source": [
        "def prune_less_than_18(X_set, y_set):\n",
        "   X_train_other = pd.concat([X_set, y_set], axis = 1)\n",
        "   output = np.where(user_data['age'] == 'Under18')\n",
        "   X_train_age = X_train_other[~X_train_other.u_id.isin(output[0])]\n",
        "   y_train_age = X_train_age['rating']\n",
        "   return X_train_age, y_train_age\n",
        "X_train_18, y_train_18 = prune_less_than_18(X_train, y_train)"
      ]
    },
    {
      "cell_type": "code",
      "execution_count": 625,
      "metadata": {
        "colab": {
          "base_uri": "https://localhost:8080/"
        },
        "id": "mx3n5-Bb5Ytj",
        "outputId": "25321a93-6758-46f2-bdfa-df9586c26618"
      },
      "outputs": [
        {
          "data": {
            "text/plain": [
              "(737099, 4)"
            ]
          },
          "execution_count": 625,
          "metadata": {},
          "output_type": "execute_result"
        }
      ],
      "source": [
        "X_train_18.shape "
      ]
    },
    {
      "cell_type": "code",
      "execution_count": 626,
      "metadata": {
        "colab": {
          "base_uri": "https://localhost:8080/"
        },
        "id": "4qq1xrihwvCq",
        "outputId": "260b7f5c-b9c1-438e-9f5f-dd5616567723"
      },
      "outputs": [
        {
          "data": {
            "text/plain": [
              "(765159, 3)"
            ]
          },
          "execution_count": 626,
          "metadata": {},
          "output_type": "execute_result"
        }
      ],
      "source": [
        "X_train.shape"
      ]
    },
    {
      "cell_type": "code",
      "execution_count": 627,
      "metadata": {
        "id": "-nbvGKLrEeti"
      },
      "outputs": [],
      "source": [
        "# For validation set \n",
        "X_val_18, y_val_18 = prune_less_than_18(X_val, y_val) "
      ]
    },
    {
      "attachments": {},
      "cell_type": "markdown",
      "metadata": {},
      "source": [
        "#### FunkSVD - M6"
      ]
    },
    {
      "cell_type": "code",
      "execution_count": 628,
      "metadata": {
        "colab": {
          "base_uri": "https://localhost:8080/"
        },
        "id": "23Y9XLGcEetj",
        "outputId": "8dd47576-f730-427f-df8b-beb720eed65b"
      },
      "outputs": [
        {
          "name": "stdout",
          "output_type": "stream",
          "text": [
            "Preprocessing data...\n",
            "\n",
            "Preprocessing data...\n",
            "\n",
            "Epoch 1/150  | val_loss: 1.03 - val_rmse: 1.02 - val_mae: 0.83 - took 0.0 sec\n",
            "Epoch 2/150  | val_loss: 0.96 - val_rmse: 0.98 - val_mae: 0.79 - took 0.0 sec\n",
            "Epoch 3/150  | val_loss: 0.92 - val_rmse: 0.96 - val_mae: 0.77 - took 0.0 sec\n",
            "Epoch 4/150  | val_loss: 0.90 - val_rmse: 0.95 - val_mae: 0.76 - took 0.0 sec\n",
            "Epoch 5/150  | val_loss: 0.89 - val_rmse: 0.94 - val_mae: 0.75 - took 0.0 sec\n",
            "Epoch 6/150  | val_loss: 0.88 - val_rmse: 0.94 - val_mae: 0.74 - took 0.0 sec\n",
            "Epoch 7/150  | val_loss: 0.87 - val_rmse: 0.93 - val_mae: 0.74 - took 0.0 sec\n",
            "Epoch 8/150  | val_loss: 0.86 - val_rmse: 0.93 - val_mae: 0.74 - took 0.0 sec\n",
            "Epoch 9/150  | val_loss: 0.86 - val_rmse: 0.93 - val_mae: 0.74 - took 0.0 sec\n",
            "Epoch 10/150 | val_loss: 0.85 - val_rmse: 0.92 - val_mae: 0.73 - took 0.0 sec\n",
            "Epoch 11/150 | val_loss: 0.85 - val_rmse: 0.92 - val_mae: 0.73 - took 0.0 sec\n",
            "Epoch 12/150 | val_loss: 0.85 - val_rmse: 0.92 - val_mae: 0.73 - took 0.0 sec\n",
            "Epoch 13/150 | val_loss: 0.85 - val_rmse: 0.92 - val_mae: 0.73 - took 0.0 sec\n",
            "Epoch 14/150 | val_loss: 0.84 - val_rmse: 0.92 - val_mae: 0.73 - took 0.0 sec\n",
            "Epoch 15/150 | val_loss: 0.84 - val_rmse: 0.92 - val_mae: 0.73 - took 0.0 sec\n",
            "\n",
            "Training took 1 sec\n",
            "Mae is 0.7281 and Rmse is 0.9186\n",
            "Training time is 0.8206 and Prediction time is 0.2344\n"
          ]
        }
      ],
      "source": [
        "svd_mae_m6, svd_rmse_m6, tt_svd_m6, pt_svd_m6= Svd(X_train_18, X_val_18, X_test, y_test)  "
      ]
    },
    {
      "cell_type": "code",
      "execution_count": 629,
      "metadata": {
        "id": "Cf4XZQOvEetk"
      },
      "outputs": [],
      "source": [
        "X_train_18.drop(['rating'], axis = 1, inplace = True) "
      ]
    },
    {
      "attachments": {},
      "cell_type": "markdown",
      "metadata": {},
      "source": [
        "#### XgBoost - M6"
      ]
    },
    {
      "cell_type": "code",
      "execution_count": 630,
      "metadata": {
        "colab": {
          "base_uri": "https://localhost:8080/"
        },
        "id": "L8BAIItFEetk",
        "outputId": "3719a72e-d27f-4997-a40d-bdb78e89fc20"
      },
      "outputs": [
        {
          "name": "stdout",
          "output_type": "stream",
          "text": [
            "The mae is 0.8055 and rmse is 0.9929\n",
            "Training time is 24.5854 and Prediction time is 0.078\n"
          ]
        }
      ],
      "source": [
        "xb_mae_m6, xb_rmse_m6, tt_xb_m6, pt_xb_m6 = XgBoost(X_train_18, y_train_18, X_test, y_test) "
      ]
    },
    {
      "attachments": {},
      "cell_type": "markdown",
      "metadata": {},
      "source": [
        "#### Random Forest Regressor  - M6"
      ]
    },
    {
      "cell_type": "code",
      "execution_count": 544,
      "metadata": {
        "id": "m0hRe_oEEetl"
      },
      "outputs": [
        {
          "name": "stdout",
          "output_type": "stream",
          "text": [
            "The mae is 0.8621 and rmse is 1.186\n",
            "Training time is 556.9747 and Prediction time is 26.1307\n"
          ]
        }
      ],
      "source": [
        "rf_mae_m6, rf_rmse_m6, tt_rf_m6, pt_rf_m6 = Random_Forest(X_train_18, y_train_18, X_test, y_test) "
      ]
    },
    {
      "attachments": {},
      "cell_type": "markdown",
      "metadata": {},
      "source": [
        "### Random Pruning - M6"
      ]
    },
    {
      "cell_type": "code",
      "execution_count": 545,
      "metadata": {},
      "outputs": [
        {
          "data": {
            "text/plain": [
              "28060"
            ]
          },
          "execution_count": 545,
          "metadata": {},
          "output_type": "execute_result"
        }
      ],
      "source": [
        "n_m6 = difference(X_train, X_train_18) \n",
        "n_m6"
      ]
    },
    {
      "cell_type": "code",
      "execution_count": 546,
      "metadata": {},
      "outputs": [],
      "source": [
        "X_train_randomly_pruned6, y_train_randomly_pruned6 = random_pruning(X_train, y_train, n_m6,10) "
      ]
    },
    {
      "cell_type": "code",
      "execution_count": 547,
      "metadata": {},
      "outputs": [
        {
          "data": {
            "text/plain": [
              "(737099, 4)"
            ]
          },
          "execution_count": 547,
          "metadata": {},
          "output_type": "execute_result"
        }
      ],
      "source": [
        "X_train_randomly_pruned6.shape "
      ]
    },
    {
      "cell_type": "code",
      "execution_count": 548,
      "metadata": {},
      "outputs": [
        {
          "data": {
            "text/plain": [
              "4844"
            ]
          },
          "execution_count": 548,
          "metadata": {},
          "output_type": "execute_result"
        }
      ],
      "source": [
        "n_v_m6 = difference(X_val, X_val_18) \n",
        "n_v_m6"
      ]
    },
    {
      "cell_type": "code",
      "execution_count": 549,
      "metadata": {},
      "outputs": [],
      "source": [
        "X_val_randomly_pruned6, y_val_randomly_pruned6 = random_pruning(X_val, y_val, n_v_m6,10)"
      ]
    },
    {
      "cell_type": "code",
      "execution_count": 550,
      "metadata": {},
      "outputs": [
        {
          "data": {
            "text/plain": [
              "(130185, 4)"
            ]
          },
          "execution_count": 550,
          "metadata": {},
          "output_type": "execute_result"
        }
      ],
      "source": [
        "X_val_randomly_pruned6.shape "
      ]
    },
    {
      "cell_type": "code",
      "execution_count": 551,
      "metadata": {},
      "outputs": [
        {
          "name": "stdout",
          "output_type": "stream",
          "text": [
            "Preprocessing data...\n",
            "\n",
            "Preprocessing data...\n",
            "\n",
            "Epoch 1/150  | val_loss: 1.04 - val_rmse: 1.02 - val_mae: 0.83 - took 0.0 sec\n",
            "Epoch 2/150  | val_loss: 0.96 - val_rmse: 0.98 - val_mae: 0.79 - took 0.0 sec\n",
            "Epoch 3/150  | val_loss: 0.93 - val_rmse: 0.96 - val_mae: 0.77 - took 0.0 sec\n",
            "Epoch 4/150  | val_loss: 0.90 - val_rmse: 0.95 - val_mae: 0.76 - took 0.0 sec\n",
            "Epoch 5/150  | val_loss: 0.89 - val_rmse: 0.94 - val_mae: 0.75 - took 0.0 sec\n",
            "Epoch 6/150  | val_loss: 0.88 - val_rmse: 0.94 - val_mae: 0.75 - took 0.0 sec\n",
            "Epoch 7/150  | val_loss: 0.87 - val_rmse: 0.93 - val_mae: 0.74 - took 0.0 sec\n",
            "Epoch 8/150  | val_loss: 0.86 - val_rmse: 0.93 - val_mae: 0.74 - took 0.0 sec\n",
            "Epoch 9/150  | val_loss: 0.86 - val_rmse: 0.93 - val_mae: 0.74 - took 0.0 sec\n",
            "Epoch 10/150 | val_loss: 0.85 - val_rmse: 0.92 - val_mae: 0.73 - took 0.0 sec\n",
            "Epoch 11/150 | val_loss: 0.85 - val_rmse: 0.92 - val_mae: 0.73 - took 0.0 sec\n",
            "Epoch 12/150 | val_loss: 0.85 - val_rmse: 0.92 - val_mae: 0.73 - took 0.0 sec\n",
            "Epoch 13/150 | val_loss: 0.85 - val_rmse: 0.92 - val_mae: 0.73 - took 0.0 sec\n",
            "Epoch 14/150 | val_loss: 0.84 - val_rmse: 0.92 - val_mae: 0.73 - took 0.0 sec\n",
            "Epoch 15/150 | val_loss: 0.84 - val_rmse: 0.92 - val_mae: 0.73 - took 0.0 sec\n",
            "\n",
            "Training took 1 sec\n",
            "Mae is 0.7253 and Rmse is 0.9146\n",
            "Training time is 0.7897 and Prediction time is 0.234\n"
          ]
        }
      ],
      "source": [
        "svd_mae_rp_m6, svd_rmse_rp_m6, tt_svd_rp_m6, pt_svd_rp_m6 = Svd(X_train_randomly_pruned6, X_val_randomly_pruned6, X_test, y_test) "
      ]
    },
    {
      "cell_type": "code",
      "execution_count": 552,
      "metadata": {},
      "outputs": [],
      "source": [
        "X_train_randomly_pruned6.drop(['rating'], axis = 1, inplace = True)"
      ]
    },
    {
      "cell_type": "code",
      "execution_count": 553,
      "metadata": {},
      "outputs": [
        {
          "name": "stdout",
          "output_type": "stream",
          "text": [
            "The mae is 0.8063 and rmse is 0.9938\n",
            "Training time is 20.7622 and Prediction time is 0.0629\n"
          ]
        }
      ],
      "source": [
        "# XgBoost\n",
        "xb_mae_rp_m6, xb_rmse_rp_m6, tt_xb_rp_m6, pt_xb_rp_m6 = XgBoost(X_train_randomly_pruned6, y_train_randomly_pruned6, X_test, y_test) "
      ]
    },
    {
      "cell_type": "code",
      "execution_count": 554,
      "metadata": {},
      "outputs": [
        {
          "name": "stdout",
          "output_type": "stream",
          "text": [
            "The mae is 0.8613 and rmse is 1.1854\n",
            "Training time is 557.926 and Prediction time is 26.125\n"
          ]
        }
      ],
      "source": [
        "# Random Forest Regressor\n",
        "rf_mae_rp_m6, rf_rmse_rp_m6, tt_rf_rp_m6, pt_rf_rp_m6 = Random_Forest(X_train_randomly_pruned6, y_train_randomly_pruned6, X_test, y_test) "
      ]
    },
    {
      "attachments": {},
      "cell_type": "markdown",
      "metadata": {},
      "source": [
        "###  Model Seven(M7) - Pruning users who have rated 1 or 5 more than twice of other ratings(2,3,4)"
      ]
    },
    {
      "cell_type": "code",
      "execution_count": 657,
      "metadata": {},
      "outputs": [],
      "source": [
        "def pruning_twice_more(X_set, y_set, n):\n",
        "    X_train_twice = pd.concat([X_set, y_set], axis = 1) \n",
        "    X_train_twice1 = X_train_twice.groupby(['u_id','rating'])['rating'].count()\n",
        "    X_train_twice1 = X_train_twice1.unstack(level=-1)\n",
        "    X_train_twice1.columns = ['rating_1','rating_2','rating_3','rating_4','rating_5']\n",
        "    X_train_twice1 = X_train_twice1.reset_index()\n",
        "    X_train_twice1 = X_train_twice1.fillna(0).astype({\"rating_1\":\"int\",\"rating_2\":\"int\",\"rating_3\":\"int\",\"rating_4\":\"int\", \"rating_5\":\"int\"})\n",
        "    # Select rows where rating_1 is at least twice as large as the other rating columns\n",
        "    df_filtered_1 = X_train_twice1[X_train_twice1['rating_1'] >= n*(X_train_twice1[['rating_2', 'rating_3', 'rating_4', 'rating_5']]).max(axis=1)]\n",
        "    # Select rows where rating_5 is at least twice as large as the other rating columns\n",
        "    df_filtered_5 = X_train_twice1[X_train_twice1['rating_5'] >= n*(X_train_twice1[['rating_2', 'rating_3', 'rating_4', 'rating_1']]).max(axis=1)] \n",
        "    u_id_values_rating1 = list(df_filtered_1['u_id'])\n",
        "    u_id_values_rating5 = list(df_filtered_5['u_id'])\n",
        "    # X_train_pruned_twice = pd.concat([X_train, y_train], axis = 1) \n",
        "    # Pruning the data where u_id is same as the values in u_id_values_rating1 and u_id_values_rating5\n",
        "    X_train_pruned_twice = X_train_twice[~X_train_twice.u_id.isin(u_id_values_rating1)]\n",
        "    X_train_pruned_twice_X = X_train_pruned_twice[~X_train_pruned_twice.u_id.isin(u_id_values_rating5)] \n",
        "    X_train_pruned_twice_y = X_train_pruned_twice_X['rating']\n",
        "    return X_train_pruned_twice_X, X_train_pruned_twice_y\n",
        "\n",
        "X_train_pruned_twice_X, X_train_pruned_twice_y = pruning_twice_more(X_train, y_train, 2) "
      ]
    },
    {
      "cell_type": "code",
      "execution_count": 658,
      "metadata": {},
      "outputs": [
        {
          "data": {
            "text/plain": [
              "(765159, 3)"
            ]
          },
          "execution_count": 658,
          "metadata": {},
          "output_type": "execute_result"
        }
      ],
      "source": [
        "X_train.shape "
      ]
    },
    {
      "cell_type": "code",
      "execution_count": 659,
      "metadata": {},
      "outputs": [
        {
          "data": {
            "text/plain": [
              "(740263, 4)"
            ]
          },
          "execution_count": 659,
          "metadata": {},
          "output_type": "execute_result"
        }
      ],
      "source": [
        "X_train_pruned_twice_X.shape"
      ]
    },
    {
      "cell_type": "code",
      "execution_count": 660,
      "metadata": {},
      "outputs": [],
      "source": [
        "# pruning validation set\n",
        "X_val_pruned_twice_X, X_val_pruned_twice_y = pruning_twice_more(X_val, y_val, 2)"
      ]
    },
    {
      "attachments": {},
      "cell_type": "markdown",
      "metadata": {},
      "source": [
        "#### FunkSVD - M7"
      ]
    },
    {
      "cell_type": "code",
      "execution_count": 661,
      "metadata": {},
      "outputs": [
        {
          "name": "stdout",
          "output_type": "stream",
          "text": [
            "Preprocessing data...\n",
            "\n",
            "Preprocessing data...\n",
            "\n",
            "Epoch 1/150  | val_loss: 1.01 - val_rmse: 1.00 - val_mae: 0.81 - took 0.0 sec\n",
            "Epoch 2/150  | val_loss: 0.94 - val_rmse: 0.97 - val_mae: 0.78 - took 0.0 sec\n",
            "Epoch 3/150  | val_loss: 0.90 - val_rmse: 0.95 - val_mae: 0.76 - took 0.0 sec\n",
            "Epoch 4/150  | val_loss: 0.88 - val_rmse: 0.94 - val_mae: 0.75 - took 0.0 sec\n",
            "Epoch 5/150  | val_loss: 0.87 - val_rmse: 0.93 - val_mae: 0.74 - took 0.0 sec\n",
            "Epoch 6/150  | val_loss: 0.86 - val_rmse: 0.93 - val_mae: 0.74 - took 0.0 sec\n",
            "Epoch 7/150  | val_loss: 0.85 - val_rmse: 0.92 - val_mae: 0.73 - took 0.0 sec\n",
            "Epoch 8/150  | val_loss: 0.85 - val_rmse: 0.92 - val_mae: 0.73 - took 0.0 sec\n",
            "Epoch 9/150  | val_loss: 0.84 - val_rmse: 0.92 - val_mae: 0.73 - took 0.0 sec\n",
            "Epoch 10/150 | val_loss: 0.84 - val_rmse: 0.92 - val_mae: 0.73 - took 0.0 sec\n",
            "Epoch 11/150 | val_loss: 0.84 - val_rmse: 0.91 - val_mae: 0.72 - took 0.0 sec\n",
            "Epoch 12/150 | val_loss: 0.83 - val_rmse: 0.91 - val_mae: 0.72 - took 0.0 sec\n",
            "Epoch 13/150 | val_loss: 0.83 - val_rmse: 0.91 - val_mae: 0.72 - took 0.0 sec\n",
            "Epoch 14/150 | val_loss: 0.83 - val_rmse: 0.91 - val_mae: 0.72 - took 0.0 sec\n",
            "\n",
            "Training took 1 sec\n",
            "Mae is 0.7319 and Rmse is 0.9221\n",
            "Training time is 0.7479 and Prediction time is 0.2281\n"
          ]
        }
      ],
      "source": [
        "svd_mae_m7, svd_rmse_m7, tt_svd_m7, pt_svd_m7  = Svd(X_train_pruned_twice_X, X_val_pruned_twice_X, X_test, y_test) "
      ]
    },
    {
      "cell_type": "code",
      "execution_count": 662,
      "metadata": {},
      "outputs": [],
      "source": [
        "X_train_pruned_twice_X.drop(['rating'], axis = 1, inplace = True)"
      ]
    },
    {
      "attachments": {},
      "cell_type": "markdown",
      "metadata": {},
      "source": [
        "#### XgBoost - M7"
      ]
    },
    {
      "cell_type": "code",
      "execution_count": 663,
      "metadata": {},
      "outputs": [
        {
          "name": "stdout",
          "output_type": "stream",
          "text": [
            "The mae is 0.8058 and rmse is 0.9929\n",
            "Training time is 21.7989 and Prediction time is 0.057\n"
          ]
        }
      ],
      "source": [
        "xb_mae_m7, xb_rmse_m7, tt_xb_m7, pt_xb_m7 = XgBoost(X_train_pruned_twice_X, X_train_pruned_twice_y, X_test, y_test)"
      ]
    },
    {
      "attachments": {},
      "cell_type": "markdown",
      "metadata": {},
      "source": [
        "#### Random Forest Regressor - M7\n"
      ]
    },
    {
      "cell_type": "code",
      "execution_count": 562,
      "metadata": {},
      "outputs": [
        {
          "name": "stdout",
          "output_type": "stream",
          "text": [
            "The mae is 0.8609 and rmse is 1.1829\n",
            "Training time is 581.4081 and Prediction time is 26.6216\n"
          ]
        }
      ],
      "source": [
        "rf_mae_m7, rf_rmse_m7, tt_rf_m7, pt_rf_m7 = Random_Forest(X_train_pruned_twice_X, X_train_pruned_twice_y, X_test, y_test) "
      ]
    },
    {
      "attachments": {},
      "cell_type": "markdown",
      "metadata": {},
      "source": [
        "### Random Pruning -M7"
      ]
    },
    {
      "cell_type": "code",
      "execution_count": 664,
      "metadata": {},
      "outputs": [
        {
          "data": {
            "text/plain": [
              "24896"
            ]
          },
          "execution_count": 664,
          "metadata": {},
          "output_type": "execute_result"
        }
      ],
      "source": [
        "n_m7 = difference(X_train, X_train_pruned_twice_X) \n",
        "n_m7"
      ]
    },
    {
      "cell_type": "code",
      "execution_count": 665,
      "metadata": {},
      "outputs": [],
      "source": [
        "X_train_randomly_pruned7, y_train_randomly_pruned7 = random_pruning(X_train, y_train, n_m7,10) "
      ]
    },
    {
      "cell_type": "code",
      "execution_count": 666,
      "metadata": {},
      "outputs": [
        {
          "data": {
            "text/plain": [
              "(740263, 4)"
            ]
          },
          "execution_count": 666,
          "metadata": {},
          "output_type": "execute_result"
        }
      ],
      "source": [
        "X_train_randomly_pruned7.shape "
      ]
    },
    {
      "cell_type": "code",
      "execution_count": 667,
      "metadata": {},
      "outputs": [
        {
          "data": {
            "text/plain": [
              "8594"
            ]
          },
          "execution_count": 667,
          "metadata": {},
          "output_type": "execute_result"
        }
      ],
      "source": [
        "n_v_m7 = difference(X_val, X_val_pruned_twice_X) \n",
        "n_v_m7"
      ]
    },
    {
      "cell_type": "code",
      "execution_count": 669,
      "metadata": {},
      "outputs": [],
      "source": [
        "X_val_randomly_pruned7, y_val_randomly_pruned7 = random_pruning(X_val, y_val, n_v_m7,10)"
      ]
    },
    {
      "cell_type": "code",
      "execution_count": 670,
      "metadata": {},
      "outputs": [
        {
          "data": {
            "text/plain": [
              "(126435, 4)"
            ]
          },
          "execution_count": 670,
          "metadata": {},
          "output_type": "execute_result"
        }
      ],
      "source": [
        "X_val_randomly_pruned7.shape "
      ]
    },
    {
      "cell_type": "code",
      "execution_count": 671,
      "metadata": {},
      "outputs": [
        {
          "name": "stdout",
          "output_type": "stream",
          "text": [
            "Preprocessing data...\n",
            "\n",
            "Preprocessing data...\n",
            "\n",
            "Epoch 1/150  | val_loss: 1.04 - val_rmse: 1.02 - val_mae: 0.83 - took 0.0 sec\n",
            "Epoch 2/150  | val_loss: 0.96 - val_rmse: 0.98 - val_mae: 0.79 - took 0.0 sec\n",
            "Epoch 3/150  | val_loss: 0.93 - val_rmse: 0.96 - val_mae: 0.77 - took 0.0 sec\n",
            "Epoch 4/150  | val_loss: 0.90 - val_rmse: 0.95 - val_mae: 0.76 - took 0.0 sec\n",
            "Epoch 5/150  | val_loss: 0.89 - val_rmse: 0.94 - val_mae: 0.75 - took 0.0 sec\n",
            "Epoch 6/150  | val_loss: 0.88 - val_rmse: 0.94 - val_mae: 0.75 - took 0.0 sec\n",
            "Epoch 7/150  | val_loss: 0.87 - val_rmse: 0.93 - val_mae: 0.74 - took 0.0 sec\n",
            "Epoch 8/150  | val_loss: 0.86 - val_rmse: 0.93 - val_mae: 0.74 - took 0.0 sec\n",
            "Epoch 9/150  | val_loss: 0.86 - val_rmse: 0.93 - val_mae: 0.74 - took 0.0 sec\n",
            "Epoch 10/150 | val_loss: 0.85 - val_rmse: 0.92 - val_mae: 0.73 - took 0.0 sec\n",
            "Epoch 11/150 | val_loss: 0.85 - val_rmse: 0.92 - val_mae: 0.73 - took 0.0 sec\n",
            "Epoch 12/150 | val_loss: 0.85 - val_rmse: 0.92 - val_mae: 0.73 - took 0.0 sec\n",
            "Epoch 13/150 | val_loss: 0.85 - val_rmse: 0.92 - val_mae: 0.73 - took 0.0 sec\n",
            "Epoch 14/150 | val_loss: 0.84 - val_rmse: 0.92 - val_mae: 0.73 - took 0.0 sec\n",
            "Epoch 15/150 | val_loss: 0.84 - val_rmse: 0.92 - val_mae: 0.73 - took 0.0 sec\n",
            "\n",
            "Training took 1 sec\n",
            "Mae is 0.7253 and Rmse is 0.9146\n",
            "Training time is 0.8148 and Prediction time is 0.2617\n"
          ]
        }
      ],
      "source": [
        "# SVD\n",
        "svd_mae_rp_m7, svd_rmse_rp_m7, tt_svd_rp_m7, pt_svd_rp_m7 = Svd(X_train_randomly_pruned7, X_val_randomly_pruned7, X_test, y_test) "
      ]
    },
    {
      "cell_type": "code",
      "execution_count": 672,
      "metadata": {},
      "outputs": [],
      "source": [
        "X_train_randomly_pruned7.drop(['rating'], axis = 1, inplace = True)"
      ]
    },
    {
      "cell_type": "code",
      "execution_count": 673,
      "metadata": {},
      "outputs": [
        {
          "name": "stdout",
          "output_type": "stream",
          "text": [
            "The mae is 0.8024 and rmse is 0.989\n",
            "Training time is 22.5033 and Prediction time is 0.0546\n"
          ]
        }
      ],
      "source": [
        "# XgBoost\n",
        "xb_mae_rp_m7, xb_rmse_rp_m7, tt_xb_rp_m7, pt_xb_rp_m7 = XgBoost(X_train_randomly_pruned7, y_train_randomly_pruned7, X_test, y_test) "
      ]
    },
    {
      "cell_type": "code",
      "execution_count": 572,
      "metadata": {},
      "outputs": [
        {
          "name": "stdout",
          "output_type": "stream",
          "text": [
            "The mae is 0.8612 and rmse is 1.1844\n",
            "Training time is 582.7257 and Prediction time is 26.9591\n"
          ]
        }
      ],
      "source": [
        "# Random Forest Regressor\n",
        "rf_mae_rp_m7, rf_rmse_rp_m7, tt_rf_rp_m7, pt_rf_rp_m7 = Random_Forest(X_train_randomly_pruned7, y_train_randomly_pruned7, X_test, y_test) "
      ]
    },
    {
      "attachments": {},
      "cell_type": "markdown",
      "metadata": {},
      "source": [
        "### Visualization for final results including Random Pruning"
      ]
    },
    {
      "cell_type": "code",
      "execution_count": 837,
      "metadata": {},
      "outputs": [
        {
          "data": {
            "image/png": "[encoded data removed]",
            "text/plain": [
              "<Figure size 1000x600 with 1 Axes>"
            ]
          },
          "metadata": {},
          "output_type": "display_data"
        }
      ],
      "source": [
        "def visualization_results(svdrmse_m1,svdrmse_m2,svdrmse_rp_m2, svdrmse_m3, svdrmse_rp_m3, svdrmse_m4, svdrmse_rp_m4, svdrmse_m5, svdrmse_rp_m5,svdrmse_m6,svdrmse_rp_m6, svdrmse_m7,svdrmse_rp_m7,\n",
        "svdmae_m1,svdmae_m2,svdmae_rp_m2, svdmae_m3, svdmae_rp_m3, svdmae_m4, svdmae_rp_m4, svdmae_m5, svdmae_rp_m5,svdmae_m6,svdmae_rp_m6,svdmae_m7,svdmae_rp_m7,\n",
        "xbrmse_m1,xbrmse_m2,xbrmse_rp_m2, xbrmse_m3, xbrmse_rp_m3, xbrmse_m4,xbrmse_rp_m4, xbrmse_m5,xbrmse_rp_m5,xbrmse_m6,xbrmse_rp_m6,xbrmse_m7,xbrmse_rp_m7,\n",
        "xbmae_m1,xbmae_m2, xbmae_rp_m2, xbmae_m3, xbmae_rp_m3, xbmae_m4, xbmae_rp_m4, xbmae_m5,xbmae_rp_m5,xbmae_m6,xbmae_rp_m6,xbmae_m7,xbmae_rp_m7,\n",
        "rfrmse_m1,rfrmse_m2,rfrmse_rp_m2, rfrmse_m3, rfrmse_rp_m3, rfrmse_m4, rfrmse_rp_m4, rfrmse_m5,rfrmse_rp_m5, rfrmse_m6,rfrmse_rp_m6,rfrmse_m7,rfrmse_rp_m7,\n",
        "rfmae_m1,rfmae_m2,rfmae_rp_m2, rfmae_m3, rfmae_rp_m3, rfmae_m4,rfmae_rp_m4, rfmae_m5,rf_rp_m5,rfmae_m6,rfmae_rp_m6,rfmae_m7,rfmae_rp_m7):\n",
        "    \n",
        "    x1 = np.array(['M1','M2', 'RP-M2', 'M3', 'RP-M3', 'M4', 'RP-M4','M5','RP-M5','M6','RP-M6','M7','RP-M7'])\n",
        "    y1 = np.array([svdrmse_m1,svdrmse_m2,svdrmse_rp_m2, svdrmse_m3, svdrmse_rp_m3, svdrmse_m4, svdrmse_rp_m4, svdrmse_m5, svdrmse_rp_m5,svdrmse_m6,svdrmse_rp_m6,svdrmse_m7,svdrmse_rp_m7])\n",
        "\n",
        "    y2 = np.array([svdmae_m1,svdmae_m2,svdmae_rp_m2, svdmae_m3, svdmae_rp_m3, svdmae_m4, svdmae_rp_m4, svdmae_m5, svdmae_rp_m5,svdmae_m6,svdmae_rp_m6,svdmae_m7,svdmae_rp_m7])\n",
        "\n",
        "    y3 = np.array([xbrmse_m1,xbrmse_m2,xbrmse_rp_m2, xbrmse_m3, xbrmse_rp_m3, xbrmse_m4,xbrmse_rp_m4, xbrmse_m5,xbrmse_rp_m5,xbrmse_m6,xbrmse_rp_m6,xbrmse_m7,xbrmse_rp_m7])\n",
        "\n",
        "    y4 = np.array([xbmae_m1,xbmae_m2, xbmae_rp_m2, xbmae_m3, xbmae_rp_m3, xbmae_m4, xbmae_rp_m4, xbmae_m5,xbmae_rp_m5,xbmae_m6,xbmae_rp_m6,xbmae_m7,xbmae_rp_m7])\n",
        "\n",
        "    y5 = np.array([rfrmse_m1,rfrmse_m2,rfrmse_rp_m2, rfrmse_m3, rfrmse_rp_m3, rfrmse_m4, rfrmse_rp_m4, rfrmse_m5,rfrmse_rp_m5 ,rfrmse_m6,rfrmse_rp_m6,rfrmse_m7,rfrmse_rp_m7])\n",
        "\n",
        "    y6 = np.array([rfmae_m1,rfmae_m2,rfmae_rp_m2, rfmae_m3, rfmae_rp_m3, rfmae_m4,rfmae_rp_m4, rfmae_m5,rf_rp_m5,rfmae_m6,rfmae_rp_m6,rfmae_m7,rfmae_rp_m7])\n",
        "\n",
        "    # Plot 1\n",
        "    plt.figure(figsize=(10,6))\n",
        "    plt.subplot(2,1,1)\n",
        "    plt.plot(x1, y1, 'o-', label = 'RMSE', color = '#ff7f0e')\n",
        "    plt.yticks([0.7,0.8,0.9,1.0,1.1,1.2,1.3,1.4])\n",
        "    plt.title('RMSE & MAE comparison (MovieLens 1M)')\n",
        "    plt.ylabel('Error value')\n",
        "    plt.xlabel('Models')\n",
        "\n",
        "    #Plot 2\n",
        "    plt.subplot(2,1,1)\n",
        "    plt.plot(x1, y2, '+--', label = 'MAE', color = '#ff7f0e')\n",
        "    plt.yticks([0.7,0.8,0.9,1.0,1.1,1.2,1.3,1.4])\n",
        "\n",
        "    # Plot 3\n",
        "    plt.subplot(2,1,1)\n",
        "    plt.plot(x1, y3, 'o-', color = '#1f77b4')\n",
        "    plt.yticks([0.7,0.8,0.9,1.0,1.1,1.2,1.3,1.4])\n",
        "\n",
        "    # Plot 4\n",
        "    plt.subplot(2,1,1)\n",
        "    plt.plot(x1, y4, '+--', color = '#1f77b4')\n",
        "    plt.yticks([0.7,0.8,0.9,1.0,1.1,1.2,1.3,1.4])\n",
        "\n",
        "    # Plot 5\n",
        "    plt.subplot(2,1,1)\n",
        "    plt.plot(x1, y5, 'o-', color = '#9467bd')\n",
        "    plt.yticks([0.7,0.8,0.9,1.0,1.1,1.2,1.3,1.4])\n",
        "\n",
        "    # Plot 6\n",
        "    plt.subplot(2,1,1)\n",
        "    plt.plot(x1, y6, '+--', color = '#9467bd')\n",
        "    plt.yticks([0.7,0.8,0.9,1.0,1.1,1.2,1.3,1.4])\n",
        "\n",
        "    col_labels=['', 'M1', 'M2', 'RP-M2', 'M3', 'RP-M3', 'M4', 'RP-M4', 'M5','RP-M5','M6','RP-M6','M7','RP-M7']\n",
        "    row_labels=['FunkSVD RMSE','FunkSVD MAE', 'XgBoost RMSE','XgBoost MAE', 'RandomForest RMSE', 'RandomForest MAE']\n",
        "    colors_key_rp = [[\"#ff7f0e\",\"w\",\"#f8ad9d\",\"w\",\"w\",\"w\",\"w\",\"w\",\"w\",\"w\",\"#b9fbc0\",\"w\",\"w\",\"w\"],[\"#ff7f0e\",\"w\",\"#f8ad9d\",\"w\",\"w\",\"w\",\"w\",\"w\",\"w\",\"w\",\"#b9fbc0\",\"w\",\"w\",\"w\"],\n",
        "    [\"#1f77b4\", \"w\",\"#f8ad9d\",\"w\",\"w\",\"w\",\"w\",\"w\",\"w\",\"w\",\"#b9fbc0\",\"w\",\"w\",\"w\"],[\"#1f77b4\", \"w\",\"#f8ad9d\",\"w\",\"w\",\"w\",\"w\",\"w\",\"w\",\"w\",\"#b9fbc0\",\"w\",\"w\",\"w\"],\n",
        "    [\"#9467bd\", \"w\",\"#f8ad9d\",\"w\",\"w\",\"w\",\"w\",\"w\",\"w\",\"w\",\"#b9fbc0\",\"w\",\"w\",\"w\"],[\"#9467bd\", \"w\",\"#f8ad9d\",\"w\",\"w\",\"w\",\"w\",\"w\",\"w\",\"w\",\"#b9fbc0\",\"w\",\"w\",\"w\"]]\n",
        "    table_vals= [['',svdrmse_m1,svdrmse_m2,svdrmse_rp_m2, svdrmse_m3, svdrmse_rp_m3, svdrmse_m4, svdrmse_rp_m4, svdrmse_m5,svdrmse_m6,svdrmse_rp_m6, svdrmse_rp_m5,svdrmse_m7,svdrmse_rp_m7],\n",
        "    ['',svdmae_m1,svdmae_m2,svdmae_rp_m2, svdmae_m3, svdmae_rp_m3, svdmae_m4, svdmae_rp_m4, svdmae_m5, svdmae_rp_m5,svdmae_m6,svdmae_rp_m6,svdmae_m7,svdmae_rp_m7],\n",
        "    ['',xbrmse_m1,xbrmse_m2,xbrmse_rp_m2, xbrmse_m3, xbrmse_rp_m3, xbrmse_m4,xbrmse_rp_m4, xbrmse_m5,xbrmse_rp_m5,xbrmse_m6,xbrmse_rp_m6,xbrmse_m7,xbrmse_rp_m7],\n",
        "    ['',xbmae_m1,xbmae_m2, xbmae_rp_m2, xbmae_m3, xbmae_rp_m3, xbmae_m4, xbmae_rp_m4, xbmae_m5,xbmae_rp_m5,xbmae_m6,xbmae_rp_m6,xbmae_m7,xbmae_rp_m7],\n",
        "    ['',rfrmse_m1,rfrmse_m2,rfrmse_rp_m2, rfrmse_m3, rfrmse_rp_m3, rfrmse_m4, rfrmse_rp_m4, rfrmse_m5,rfrmse_rp_m5,rfrmse_m6,rfrmse_rp_m6,rfrmse_m7,rfrmse_rp_m7],\n",
        "    ['',rfmae_m1,rfmae_m2,rfmae_rp_m2, rfmae_m3, rfmae_rp_m3, rfmae_m4,rfmae_rp_m4, rfmae_m5,rf_rp_m5,rfmae_m6,rfmae_rp_m6,rfmae_m7,rfmae_rp_m7]]\n",
        "\n",
        "    #The first coordinate is a shift on the x-axis, second coordinate is a gap between plot and text box (table in your case), \n",
        "    # third coordinate is a width of the text box, fourth coordinate is a height of text box.\n",
        "\n",
        "    the_table = plt.table(cellText=table_vals,\n",
        "         cellColours=colors_key_rp,\n",
        "         rowLabels=row_labels,\n",
        "         colWidths = [0.07,0.35,0.35,0.35,0.35,0.35,0.35,0.35,0.35,0.35,0.35,0.35,0.35,0.35],\n",
        "         colLabels=col_labels,\n",
        "         cellLoc='center',\n",
        "         fontsize = 30,\n",
        "         loc='bottom', bbox=[-0.04, -1.1, 1.05, 0.8])\n",
        "\n",
        "    col_labels_model=['Pruning Method']\n",
        "    row_labels_model=[' M1 ', ' M2 ', ' M3 ', ' M4 ', ' M5 ',' M6 ', ' M7 ',' RP ']\n",
        "    model_vals = [['Unpruned data(baseline)'], ['Movie ratings < 2'], ['User ratings < 30'], ['Timestamp-initial 4 months'], ['Occupation = \"other\"'],['Age < 18'], ['R(1/5)>2*R(max(2,3,4,1/5))'],['Random Pruning']]\n",
        "\n",
        "    model_table = plt.table(cellText=model_vals,\n",
        "          colLabels= col_labels_model,\n",
        "          rowLabels=row_labels_model,\n",
        "          cellLoc = 'left',\n",
        "          fontsize = 25,\n",
        "          loc='left', bbox=[-0.34, 0, 0.25, 0.9])\n",
        "\n",
        "    row_labels_key=[\"\", \"\", \"\"]\n",
        "    colors_key = [[\"#ff7f0e\",\"w\"],[\"#1f77b4\", \"w\"],[\"#9467bd\", \"w\"]]\n",
        "    key_vals = [['','FunkSVD'], ['','XgBoost'], ['','RandomForest']]\n",
        "\n",
        "    plt.annotate('* Worst performing model highlighted in red \\n * Best performing model highlighted in green', \n",
        "            xy=(-0.1, 0), \n",
        "            xycoords=('axes fraction', 'figure fraction'),\n",
        "            xytext=(0, 20),  \n",
        "            textcoords='offset points',\n",
        "            size=9, ha='center', va='bottom')\n",
        "    \n",
        "    legend_elements = [Line2D([0], [0], color='black', linestyle='-', marker='o'), Line2D([0], [0], color='black', linestyle='--', marker='+')]\n",
        "    plt.legend(legend_elements,['RMSE','MAE'],loc ='upper right')\n",
        "    plt.show()\n",
        "\n",
        "visualization_results(svd_rmse_m1,svd_rmse_m2,svd_rmse_rp_m2,svd_rmse_m3,svd_rmse_rp_m3, svd_rmse_m4 ,svd_rmse_rp_m4, svd_rmse_m5,svd_rmse_rp_m5,svd_rmse_m6,svd_rmse_rp_m6,svd_rmse_m7,svd_rmse_rp_m7,\n",
        "svd_mae_m1,svd_mae_m2,svd_mae_rp_m2,svd_mae_m3,svd_mae_rp_m3 ,svd_mae_m4, svd_mae_rp_m4,svd_mae_m5, svd_mae_rp_m5,svd_mae_m6, svd_mae_rp_m6, svd_mae_m7,svd_mae_rp_m7,\n",
        "xb_rmse_m1,xb_rmse_m2,xb_rmse_rp_m2,xb_rmse_m3,xb_rmse_rp_m3, xb_rmse_m4 ,xb_rmse_rp_m4, xb_rmse_m5,xb_rmse_rp_m5,xb_rmse_m6,xb_rmse_rp_m6,xb_rmse_m7,xb_rmse_rp_m7,\n",
        "xb_mae_m1,xb_mae_m2,xb_mae_rp_m2,xb_mae_m3,xb_mae_rp_m3, xb_mae_m4 ,xb_mae_rp_m4,xb_mae_m5,xb_mae_rp_m5,xb_mae_m6,xb_mae_rp_m6, xb_mae_m7,xb_mae_rp_m7,\n",
        "rf_rmse_m1,rf_rmse_m2,rf_rmse_rp_m2,rf_rmse_m3, rf_rmse_rp_m3, rf_rmse_m4 ,rf_rmse_rp_m4, rf_rmse_m5, rf_rmse_rp_m5,rf_rmse_m6, rf_rmse_rp_m6,rf_rmse_m7,rf_rmse_rp_m7,\n",
        "rf_mae_m1,rf_mae_m2,rf_mae_rp_m2,rf_mae_m3, rf_mae_rp_m3 ,rf_mae_m4, rf_mae_rp_m4,rf_mae_m5, rf_mae_rp_m5,rf_mae_m6, rf_mae_rp_m6,rf_mae_m7,rf_mae_rp_m7,)"
      ]
    },
    {
      "attachments": {},
      "cell_type": "markdown",
      "metadata": {},
      "source": [
        "### Visualisation showing data complexity and time efficiency"
      ]
    },
    {
      "cell_type": "code",
      "execution_count": 840,
      "metadata": {},
      "outputs": [
        {
          "data": {
            "image/png": "[encoded data removed]",
            "text/plain": [
              "<Figure size 900x600 with 1 Axes>"
            ]
          },
          "metadata": {},
          "output_type": "display_data"
        }
      ],
      "source": [
        "def visualization_data_time(n2, n3, n4, n5, n6, n7, tt1, tt2, tt3, tt4, tt5, tt6, tt7, tt8, tt9, tt10, tt11, tt12, tt13, tt14, tt15, tt16, tt17, tt18, \n",
        "tt19, tt20, tt21, pt1, pt2, pt3, pt4, pt5, pt6, pt7, pt8, pt9, pt10, pt11, pt12, pt13, pt14, pt15, pt16, pt17, pt18, pt19, pt20, pt21):\n",
        "    \n",
        "    x1 = np.array(['M1', 'M2', 'M3', 'M4', 'M5', 'M6','M7'])\n",
        "\n",
        "    n1 = 0\n",
        "\n",
        "    y1 = np.array([n1, n2, n3, n4, n5, n6, n7])\n",
        "\n",
        "    y2 = np.array([tt1, tt2, tt3, tt4, tt5, tt6, tt7])\n",
        "\n",
        "    y3 = np.array([pt1, pt2, pt3, pt4, pt5, pt6, pt7])\n",
        "\n",
        "    y4 = np.array([tt8, tt9, tt10, tt11, tt12, tt13, tt14])\n",
        "\n",
        "    y5 = np.array([pt8, pt9, pt10, pt11, pt12, pt13, pt14])\n",
        "\n",
        "    y6 = np.array([tt15, tt16, tt17, tt18, tt19, tt20, tt21])\n",
        "\n",
        "    y7 = np.array([pt15, pt16, pt17, pt18, pt19, pt20, pt21])\n",
        "\n",
        "    # Plot 1\n",
        "    plt.figure(figsize=(9,6))\n",
        "    plt.subplot(2,1,1)\n",
        "    plt.plot(x1, y1, 'o-', label = 'Users pruned', color = '#ff7f0e')\n",
        "    plt.title('Data complexity & Time efficiency (MovieLens 1M)')\n",
        "    plt.yticks([0,50000,100000,150000,200000,250000,300000,350000])\n",
        "    plt.ylabel('Users')\n",
        "    plt.xlabel('Models')\n",
        "\n",
        "    col_labels_model=['Pruning Method']\n",
        "    row_labels_model=[' M1 ', ' M2 ', ' M3 ', ' M4 ', ' M5 ',' M6 ', ' M7 ']\n",
        "    model_vals = [['Unpruned data(baseline)'], ['Movie ratings < 2'], ['User ratings < 30'], ['Timestamp-initial 4 months'], ['Occupation = \"other\"'],['Age < 18'], ['R(1/5)>2*R(max(2,3,4,1/5))']]\n",
        "\n",
        "    model_table = plt.table(cellText=model_vals,\n",
        "          rowLabels=row_labels_model,\n",
        "          colLabels=col_labels_model,\n",
        "          cellLoc = 'left',\n",
        "          fontsize = 25,\n",
        "          loc='left', bbox=[-0.43, 0, 0.3, 0.9])\n",
        "\n",
        "    for x,y in zip(x1,y1):\n",
        "        label = y\n",
        "        plt.annotate(label,\n",
        "                 (x,y),\n",
        "                 textcoords=\"offset points\", \n",
        "                 xytext=(0,7),\n",
        "                 ha='center')\n",
        "\n",
        "    col_labels=['M1', 'M2', 'M3', 'M4', 'M5', 'M6', 'M7']\n",
        "    row_labels=['FunkSVD Train time','FunkSVD Prediction time', 'XgBoost Train time','XgBoost Prediction time', 'RandomForest Train time', 'RandomForest Prediction time']\n",
        "    table_vals= [[tt1, tt2, tt3, tt4, tt5, tt6, tt7],[pt1, pt2, pt3, pt4, pt5, pt6, pt7],\n",
        "    [tt8, tt9, tt10, tt11, tt12, tt13, tt14],[pt8, pt9, pt10, pt11, pt12, pt13, pt14],\n",
        "    [tt15, tt16, tt17, tt18, tt19, tt20, tt21],[pt15, pt16, pt17, pt18, pt19, pt20, pt21]]\n",
        "\n",
        "    the_table = plt.table(cellText=table_vals,\n",
        "          rowLabels=row_labels,\n",
        "          colLabels=col_labels,\n",
        "          cellLoc='center',\n",
        "          fontsize = 30,\n",
        "          loc='bottom', bbox=[-0.04, -1.2, 1.05, 0.9])\n",
        "\n",
        "    plt.annotate('* Training time & Prediction time in seconds', \n",
        "            xy=(-0.28, 0), \n",
        "            xycoords=('axes fraction', 'figure fraction'),\n",
        "            xytext=(0, 20),  \n",
        "            textcoords='offset points',\n",
        "            size=9, ha='center', va='bottom')\n",
        "    \n",
        "    plt.legend(loc = \"upper right\")\n",
        "    plt.show()\n",
        "\n",
        "visualization_data_time(n_m2, n_m3, n_m4, n_m5, n_m6, n_m7, tt_svd_m1, tt_svd_m2, tt_svd_m3, tt_svd_m4, tt_svd_m5, tt_svd_m6, tt_svd_m7, tt_xb_m1,\n",
        "tt_xb_m2, tt_xb_m3, tt_xb_m4, tt_xb_m5, tt_xb_m6, tt_xb_m7, tt_rf_m1, tt_rf_m2, tt_rf_m3, tt_rf_m4, tt_rf_m5, tt_rf_m6, tt_rf_m7, pt_svd_m1, \n",
        "pt_svd_m2, pt_svd_m3, pt_svd_m4, pt_svd_m5, pt_svd_m6, pt_svd_m7, pt_xb_m1, pt_xb_m2, pt_xb_m3, pt_xb_m4, pt_xb_m5, pt_xb_m6, \n",
        "pt_xb_m7, pt_rf_m1, pt_rf_m2, pt_rf_m3, pt_rf_m4, pt_rf_m5, pt_rf_m6, pt_rf_m7 )"
      ]
    },
    {
      "attachments": {},
      "cell_type": "markdown",
      "metadata": {},
      "source": [
        "### Visualisation of RMSE & MAE of all models"
      ]
    },
    {
      "cell_type": "code",
      "execution_count": 828,
      "metadata": {},
      "outputs": [
        {
          "data": {
            "image/png": "[encoded data removed]",
            "text/plain": [
              "<Figure size 900x600 with 1 Axes>"
            ]
          },
          "metadata": {},
          "output_type": "display_data"
        }
      ],
      "source": [
        "def visualization_model(rmse_error,rmse_error1, rmse_error2, rmse_error3, rmse_error4, rmse_error5, rmse_m7, mae_error, mae_error1, \n",
        "mae_error2, mae_error3, mae_error4, mae_error5, mae_m7, rmse_error6,rmse_error7, rmse_error8, rmse_error9, rmse_error10, rmse_error11, rmse_m7_1, mae_error6, mae_error7, \n",
        "mae_error8, mae_error9, mae_error10, mae_error11, mae_m7_1, rmse_error12,rmse_error13, rmse_error14, rmse_error15, rmse_error16, rmse_error17, rmse_m7_2,\n",
        "mae_error12, mae_error13, mae_error14, mae_error15, mae_error16, mae_error17, mae_m7_2):\n",
        "    \n",
        "    x1 = np.array(['M1', 'M2', 'M3', 'M4', 'M5', 'M6','M7'])\n",
        "    y1 = np.array([rmse_error,rmse_error1, rmse_error2, rmse_error3, rmse_error4, rmse_error5, rmse_m7])\n",
        "\n",
        "    y2 = np.array([mae_error, mae_error1, mae_error2, mae_error3, mae_error4, mae_error5, mae_m7])\n",
        "\n",
        "    y3 = np.array([rmse_error6,rmse_error7, rmse_error8, rmse_error9, rmse_error10, rmse_error11, rmse_m7_1])\n",
        "\n",
        "    y4 = np.array([mae_error6, mae_error7, mae_error8, mae_error9, mae_error10, mae_error11, mae_m7_1])\n",
        "\n",
        "    y5 = np.array([rmse_error12,rmse_error13, rmse_error14, rmse_error15, rmse_error16, rmse_error17, rmse_m7_2])\n",
        "\n",
        "    y6 = np.array([mae_error12, mae_error13, mae_error14, mae_error15, mae_error16, mae_error17, mae_m7_2])\n",
        "\n",
        "    # Plot 1\n",
        "    plt.figure(figsize=(9,6))\n",
        "    plt.subplot(2,1,1)\n",
        "    plt.plot(x1, y1, 'o-', label = 'RMSE', color = '#ff7f0e')\n",
        "    plt.yticks([0.7,0.8,0.9,1.0,1.1,1.2,1.3])\n",
        "    plt.title('RMSE & MAE comparison')\n",
        "    plt.ylabel('Error value')\n",
        "    plt.xlabel('Models')\n",
        "\n",
        "    #Plot 2\n",
        "    plt.subplot(2,1,1)\n",
        "    plt.plot(x1, y2, '+--', label = 'MAE', color = '#ff7f0e')\n",
        "    plt.yticks([0.7,0.8,0.9,1.0,1.1,1.2,1.3])\n",
        "\n",
        "    # Plot 3\n",
        "    plt.subplot(2,1,1)\n",
        "    plt.plot(x1, y3, 'o-', color = '#1f77b4')\n",
        "    plt.yticks([0.7,0.8,0.9,1.0,1.1,1.2,1.3])\n",
        "\n",
        "    # Plot 4\n",
        "    plt.subplot(2,1,1)\n",
        "    plt.plot(x1, y4, '+--', color = '#1f77b4')\n",
        "    plt.yticks([0.7,0.8,0.9,1.0,1.1,1.2,1.3])\n",
        "\n",
        "    # Plot 5\n",
        "    plt.subplot(2,1,1)\n",
        "    plt.plot(x1, y5, 'o-', color = '#9467bd')\n",
        "    plt.yticks([0.7,0.8,0.9,1.0,1.1,1.2,1.3])\n",
        "\n",
        "    # Plot 6\n",
        "    plt.subplot(2,1,1)\n",
        "    plt.plot(x1, y6, '+--', color = '#9467bd')\n",
        "    plt.yticks([0.7,0.8,0.9,1.0,1.1,1.2,1.3])\n",
        "\n",
        "    col_labels=['','M1', 'M2', 'M3', 'M4', 'M5', 'M6', 'M7']\n",
        "    row_labels=['FunkSVD RMSE','FunkSVD MAE', 'XgBoost RMSE','XgBoost MAE', 'RandomForest RMSE', 'RandomForest MAE']\n",
        "    colors_key_ = [[\"#ff7f0e\",\"w\",\"w\",\"w\",\"w\",\"w\",\"w\",\"w\"],[\"#ff7f0e\",\"w\",\"w\",\"w\",\"w\",\"w\",\"w\",\"w\"],[\"#1f77b4\", \"w\",\"w\",\"w\",\"w\",\"w\",\"w\",\"w\"],[\"#1f77b4\", \"w\",\"w\",\"w\",\"w\",\"w\",\"w\",\"w\"],\n",
        "    [\"#9467bd\", \"w\",\"w\",\"w\",\"w\",\"w\",\"w\",\"w\"],[\"#9467bd\", \"w\",\"w\",\"w\",\"w\",\"w\",\"w\",\"w\"]]\n",
        "    table_vals= [['',rmse_error,rmse_error1, rmse_error2, rmse_error3, rmse_error4, rmse_error5, rmse_m7],['',mae_error, mae_error1, mae_error2, mae_error3, mae_error4, mae_error5, mae_m7],\n",
        "    ['',rmse_error6,rmse_error7, rmse_error8, rmse_error9, rmse_error10, rmse_error11, rmse_m7_1],['',mae_error6, mae_error7, mae_error8, mae_error9, mae_error10, mae_error11, mae_m7_1],\n",
        "    ['',rmse_error12,rmse_error13, rmse_error14, rmse_error15, rmse_error16, rmse_error17, rmse_m7_2],['',mae_error12, mae_error13, mae_error14, mae_error15, mae_error16, mae_error17, mae_m7_2]]\n",
        "\n",
        "    #The first coordinate is a shift on the x-axis, second coordinate is a gap between plot and text box (table in your case), \n",
        "    # third coordinate is a width of the text box, fourth coordinate is a height of text box.\n",
        "\n",
        "    the_table = plt.table(cellText=table_vals,\n",
        "            cellColours=colors_key_,\n",
        "          rowLabels=row_labels,\n",
        "          colWidths = [0.07,0.25,0.25,0.25,0.25,0.25,0.25,0.25,0.25],\n",
        "          colLabels=col_labels,\n",
        "          cellLoc='center',\n",
        "          fontsize = 30,\n",
        "          loc='bottom', bbox=[-0.04, -1.1, 1.05, 0.8])\n",
        "\n",
        "    col_labels_model=['Pruning Method']\n",
        "    row_labels_model=['M1', 'M2', 'M3', 'M4', 'M5', 'M6', 'M7']\n",
        "    model_vals = [['Unpruned data(baseline)'], ['Movie ratings < 2'], ['User ratings < 30'], ['Timestamp-initial 4 months'], ['Occupation = \"other\"'],['Age < 18'], ['R(1/5)>2*R(max(2,3,4,1/5))']]\n",
        "\n",
        "    model_table = plt.table(cellText=model_vals,\n",
        "          rowLabels=row_labels_model,\n",
        "          colLabels=col_labels_model,\n",
        "          cellLoc = 'left',\n",
        "          fontsize = 25,\n",
        "          loc='left', bbox=[-0.37, 0, 0.25, 0.9])\n",
        "\n",
        "    row_labels_key=[\"\", \"\", \"\"]\n",
        "    colors_key = [[\"#ff7f0e\",\"w\"],[\"#1f77b4\", \"w\"],[\"#9467bd\", \"w\"]]\n",
        "    key_vals = [['','FunkSVD'], ['','XgBoost'], ['','RandomForest']]\n",
        "\n",
        "    legend_elements = [Line2D([0], [0], color='black', linestyle='-', marker='o'), Line2D([0], [0], color='black', linestyle='--', marker='+')]\n",
        "    plt.legend(legend_elements,['RMSE','MAE'])\n",
        "    plt.show()\n",
        "\n",
        "visualization_model(svd_rmse_m1,svd_rmse_m2,svd_rmse_m3,svd_rmse_m4, svd_rmse_m5 ,svd_rmse_m6, svd_rmse_m7, svd_mae_m1,svd_mae_m2,svd_mae_m3,svd_mae_m4, \n",
        "svd_mae_m5 ,svd_mae_m6, svd_mae_m7, xb_rmse_m1,xb_rmse_m2,xb_rmse_m3,xb_rmse_m4, xb_rmse_m5 ,xb_rmse_m6, xb_rmse_m7, xb_mae_m1,xb_mae_m2,xb_mae_m3,xb_mae_m4, \n",
        "xb_mae_m5 ,xb_mae_m6, xb_mae_m7, rf_rmse_m1,rf_rmse_m2,rf_rmse_m3, rf_rmse_m4, rf_rmse_m5 ,rf_rmse_m6, rf_rmse_m7, rf_mae_m1,rf_mae_m2,rf_mae_m3,rf_mae_m4, \n",
        "rf_mae_m5 ,rf_mae_m6, rf_mae_m7)"
      ]
    }
  ],
  "metadata": {
    "colab": {
      "provenance": []
    },
    "kernelspec": {
      "display_name": "base",
      "language": "python",
      "name": "python3"
    },
    "language_info": {
      "codemirror_mode": {
        "name": "ipython",
        "version": 3
      },
      "file_extension": ".py",
      "mimetype": "text/x-python",
      "name": "python",
      "nbconvert_exporter": "python",
      "pygments_lexer": "ipython3",
      "version": "3.9.13"
    },
    "vscode": {
      "interpreter": {
        "hash": "e3099854f4dd48145cf1a3c97878d5f08a457868f3295a16b8a77da81069b2bf"
      }
    }
  },
  "nbformat": 4,
  "nbformat_minor": 0
}
